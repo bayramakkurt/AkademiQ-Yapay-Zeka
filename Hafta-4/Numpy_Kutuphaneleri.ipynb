{
 "cells": [
  {
   "cell_type": "markdown",
   "id": "a0306311-0488-40e0-b521-bf2c49361fd4",
   "metadata": {
    "jp-MarkdownHeadingCollapsed": true
   },
   "source": [
    "# Kütüphane Yükleme"
   ]
  },
  {
   "cell_type": "code",
   "execution_count": 1,
   "id": "495ab398-a173-4419-ad9a-42f58e0e99a6",
   "metadata": {},
   "outputs": [],
   "source": [
    "import pandas as pd"
   ]
  },
  {
   "cell_type": "markdown",
   "id": "9b29e5a3-5d6c-4299-9c85-50675ea47ec9",
   "metadata": {
    "jp-MarkdownHeadingCollapsed": true
   },
   "source": [
    "# Read_CSV ve Read_EXCEL Fonksiyonları"
   ]
  },
  {
   "cell_type": "markdown",
   "id": "658ef19d-2965-4fb0-908f-17fde69bb8fb",
   "metadata": {},
   "source": [
    "-CSV dosyalarını okumak için read_csv fonksiyonu kullanılır.<br>\n",
    "-Excel dosyalarını okumak için read_excel fonksiyonu kullanılır."
   ]
  },
  {
   "cell_type": "code",
   "execution_count": 44,
   "id": "f0dd504f-5f77-4c75-954b-1d867d205703",
   "metadata": {},
   "outputs": [
    {
     "data": {
      "text/html": [
       "<div>\n",
       "<style scoped>\n",
       "    .dataframe tbody tr th:only-of-type {\n",
       "        vertical-align: middle;\n",
       "    }\n",
       "\n",
       "    .dataframe tbody tr th {\n",
       "        vertical-align: top;\n",
       "    }\n",
       "\n",
       "    .dataframe thead th {\n",
       "        text-align: right;\n",
       "    }\n",
       "</style>\n",
       "<table border=\"1\" class=\"dataframe\">\n",
       "  <thead>\n",
       "    <tr style=\"text-align: right;\">\n",
       "      <th></th>\n",
       "      <th>Sales Person</th>\n",
       "      <th>Country</th>\n",
       "      <th>Product</th>\n",
       "      <th>Date</th>\n",
       "      <th>Amount</th>\n",
       "      <th>Boxes Shipped</th>\n",
       "    </tr>\n",
       "  </thead>\n",
       "  <tbody>\n",
       "    <tr>\n",
       "      <th>0</th>\n",
       "      <td>Jehu Rudeforth</td>\n",
       "      <td>UK</td>\n",
       "      <td>Mint Chip Choco</td>\n",
       "      <td>04-Jan-22</td>\n",
       "      <td>$5,320</td>\n",
       "      <td>180</td>\n",
       "    </tr>\n",
       "    <tr>\n",
       "      <th>1</th>\n",
       "      <td>Van Tuxwell</td>\n",
       "      <td>India</td>\n",
       "      <td>85% Dark Bars</td>\n",
       "      <td>01-Aug-22</td>\n",
       "      <td>$7,896</td>\n",
       "      <td>94</td>\n",
       "    </tr>\n",
       "    <tr>\n",
       "      <th>2</th>\n",
       "      <td>Gigi Bohling</td>\n",
       "      <td>India</td>\n",
       "      <td>Peanut Butter Cubes</td>\n",
       "      <td>07-Jul-22</td>\n",
       "      <td>$4,501</td>\n",
       "      <td>91</td>\n",
       "    </tr>\n",
       "    <tr>\n",
       "      <th>3</th>\n",
       "      <td>Jan Morforth</td>\n",
       "      <td>Australia</td>\n",
       "      <td>Peanut Butter Cubes</td>\n",
       "      <td>27-Apr-22</td>\n",
       "      <td>$12,726</td>\n",
       "      <td>342</td>\n",
       "    </tr>\n",
       "    <tr>\n",
       "      <th>4</th>\n",
       "      <td>Jehu Rudeforth</td>\n",
       "      <td>UK</td>\n",
       "      <td>Peanut Butter Cubes</td>\n",
       "      <td>24-Feb-22</td>\n",
       "      <td>$13,685</td>\n",
       "      <td>184</td>\n",
       "    </tr>\n",
       "    <tr>\n",
       "      <th>...</th>\n",
       "      <td>...</td>\n",
       "      <td>...</td>\n",
       "      <td>...</td>\n",
       "      <td>...</td>\n",
       "      <td>...</td>\n",
       "      <td>...</td>\n",
       "    </tr>\n",
       "    <tr>\n",
       "      <th>1089</th>\n",
       "      <td>Karlen McCaffrey</td>\n",
       "      <td>Australia</td>\n",
       "      <td>Spicy Special Slims</td>\n",
       "      <td>17-May-22</td>\n",
       "      <td>$4,410</td>\n",
       "      <td>323</td>\n",
       "    </tr>\n",
       "    <tr>\n",
       "      <th>1090</th>\n",
       "      <td>Jehu Rudeforth</td>\n",
       "      <td>USA</td>\n",
       "      <td>White Choc</td>\n",
       "      <td>07-Jun-22</td>\n",
       "      <td>$6,559</td>\n",
       "      <td>119</td>\n",
       "    </tr>\n",
       "    <tr>\n",
       "      <th>1091</th>\n",
       "      <td>Ches Bonnell</td>\n",
       "      <td>Canada</td>\n",
       "      <td>Organic Choco Syrup</td>\n",
       "      <td>26-Jul-22</td>\n",
       "      <td>$574</td>\n",
       "      <td>217</td>\n",
       "    </tr>\n",
       "    <tr>\n",
       "      <th>1092</th>\n",
       "      <td>Dotty Strutley</td>\n",
       "      <td>India</td>\n",
       "      <td>Eclairs</td>\n",
       "      <td>28-Jul-22</td>\n",
       "      <td>$2,086</td>\n",
       "      <td>384</td>\n",
       "    </tr>\n",
       "    <tr>\n",
       "      <th>1093</th>\n",
       "      <td>Karlen McCaffrey</td>\n",
       "      <td>India</td>\n",
       "      <td>70% Dark Bites</td>\n",
       "      <td>23-May-22</td>\n",
       "      <td>$5,075</td>\n",
       "      <td>344</td>\n",
       "    </tr>\n",
       "  </tbody>\n",
       "</table>\n",
       "<p>1094 rows × 6 columns</p>\n",
       "</div>"
      ],
      "text/plain": [
       "          Sales Person    Country              Product       Date    Amount  \\\n",
       "0       Jehu Rudeforth         UK      Mint Chip Choco  04-Jan-22   $5,320    \n",
       "1          Van Tuxwell      India        85% Dark Bars  01-Aug-22   $7,896    \n",
       "2         Gigi Bohling      India  Peanut Butter Cubes  07-Jul-22   $4,501    \n",
       "3         Jan Morforth  Australia  Peanut Butter Cubes  27-Apr-22  $12,726    \n",
       "4       Jehu Rudeforth         UK  Peanut Butter Cubes  24-Feb-22  $13,685    \n",
       "...                ...        ...                  ...        ...       ...   \n",
       "1089  Karlen McCaffrey  Australia  Spicy Special Slims  17-May-22   $4,410    \n",
       "1090    Jehu Rudeforth        USA           White Choc  07-Jun-22   $6,559    \n",
       "1091      Ches Bonnell     Canada  Organic Choco Syrup  26-Jul-22     $574    \n",
       "1092    Dotty Strutley      India              Eclairs  28-Jul-22   $2,086    \n",
       "1093  Karlen McCaffrey      India       70% Dark Bites  23-May-22   $5,075    \n",
       "\n",
       "      Boxes Shipped  \n",
       "0               180  \n",
       "1                94  \n",
       "2                91  \n",
       "3               342  \n",
       "4               184  \n",
       "...             ...  \n",
       "1089            323  \n",
       "1090            119  \n",
       "1091            217  \n",
       "1092            384  \n",
       "1093            344  \n",
       "\n",
       "[1094 rows x 6 columns]"
      ]
     },
     "execution_count": 44,
     "metadata": {},
     "output_type": "execute_result"
    }
   ],
   "source": [
    "dataset = pd.read_csv(\"Chocolate Sales - Kopya.csv\")\n",
    "dataset"
   ]
  },
  {
   "cell_type": "code",
   "execution_count": 52,
   "id": "af08e9a0-fda7-4de4-a199-8d65340d06cc",
   "metadata": {},
   "outputs": [
    {
     "data": {
      "text/html": [
       "<div>\n",
       "<style scoped>\n",
       "    .dataframe tbody tr th:only-of-type {\n",
       "        vertical-align: middle;\n",
       "    }\n",
       "\n",
       "    .dataframe tbody tr th {\n",
       "        vertical-align: top;\n",
       "    }\n",
       "\n",
       "    .dataframe thead th {\n",
       "        text-align: right;\n",
       "    }\n",
       "</style>\n",
       "<table border=\"1\" class=\"dataframe\">\n",
       "  <thead>\n",
       "    <tr style=\"text-align: right;\">\n",
       "      <th></th>\n",
       "      <th>Sales Person</th>\n",
       "      <th>Country</th>\n",
       "      <th>Product</th>\n",
       "      <th>Date</th>\n",
       "      <th>Amount</th>\n",
       "      <th>Boxes Shipped</th>\n",
       "    </tr>\n",
       "  </thead>\n",
       "  <tbody>\n",
       "    <tr>\n",
       "      <th>0</th>\n",
       "      <td>Jehu Rudeforth</td>\n",
       "      <td>UK</td>\n",
       "      <td>Mint Chip Choco</td>\n",
       "      <td>2022-01-04</td>\n",
       "      <td>5320</td>\n",
       "      <td>180</td>\n",
       "    </tr>\n",
       "    <tr>\n",
       "      <th>1</th>\n",
       "      <td>Van Tuxwell</td>\n",
       "      <td>India</td>\n",
       "      <td>85% Dark Bars</td>\n",
       "      <td>2022-08-01</td>\n",
       "      <td>7896</td>\n",
       "      <td>94</td>\n",
       "    </tr>\n",
       "    <tr>\n",
       "      <th>2</th>\n",
       "      <td>Gigi Bohling</td>\n",
       "      <td>India</td>\n",
       "      <td>Peanut Butter Cubes</td>\n",
       "      <td>2022-07-07</td>\n",
       "      <td>4501</td>\n",
       "      <td>91</td>\n",
       "    </tr>\n",
       "    <tr>\n",
       "      <th>3</th>\n",
       "      <td>Jan Morforth</td>\n",
       "      <td>Australia</td>\n",
       "      <td>Peanut Butter Cubes</td>\n",
       "      <td>2022-04-27</td>\n",
       "      <td>12726</td>\n",
       "      <td>342</td>\n",
       "    </tr>\n",
       "    <tr>\n",
       "      <th>4</th>\n",
       "      <td>Jehu Rudeforth</td>\n",
       "      <td>UK</td>\n",
       "      <td>Peanut Butter Cubes</td>\n",
       "      <td>2022-02-24</td>\n",
       "      <td>13685</td>\n",
       "      <td>184</td>\n",
       "    </tr>\n",
       "    <tr>\n",
       "      <th>...</th>\n",
       "      <td>...</td>\n",
       "      <td>...</td>\n",
       "      <td>...</td>\n",
       "      <td>...</td>\n",
       "      <td>...</td>\n",
       "      <td>...</td>\n",
       "    </tr>\n",
       "    <tr>\n",
       "      <th>1089</th>\n",
       "      <td>Karlen McCaffrey</td>\n",
       "      <td>Australia</td>\n",
       "      <td>Spicy Special Slims</td>\n",
       "      <td>2022-05-17</td>\n",
       "      <td>4410</td>\n",
       "      <td>323</td>\n",
       "    </tr>\n",
       "    <tr>\n",
       "      <th>1090</th>\n",
       "      <td>Jehu Rudeforth</td>\n",
       "      <td>USA</td>\n",
       "      <td>White Choc</td>\n",
       "      <td>2022-06-07</td>\n",
       "      <td>6559</td>\n",
       "      <td>119</td>\n",
       "    </tr>\n",
       "    <tr>\n",
       "      <th>1091</th>\n",
       "      <td>Ches Bonnell</td>\n",
       "      <td>Canada</td>\n",
       "      <td>Organic Choco Syrup</td>\n",
       "      <td>2022-07-26</td>\n",
       "      <td>574</td>\n",
       "      <td>217</td>\n",
       "    </tr>\n",
       "    <tr>\n",
       "      <th>1092</th>\n",
       "      <td>Dotty Strutley</td>\n",
       "      <td>India</td>\n",
       "      <td>Eclairs</td>\n",
       "      <td>2022-07-28</td>\n",
       "      <td>2086</td>\n",
       "      <td>384</td>\n",
       "    </tr>\n",
       "    <tr>\n",
       "      <th>1093</th>\n",
       "      <td>Karlen McCaffrey</td>\n",
       "      <td>India</td>\n",
       "      <td>70% Dark Bites</td>\n",
       "      <td>2022-05-23</td>\n",
       "      <td>5075</td>\n",
       "      <td>344</td>\n",
       "    </tr>\n",
       "  </tbody>\n",
       "</table>\n",
       "<p>1094 rows × 6 columns</p>\n",
       "</div>"
      ],
      "text/plain": [
       "          Sales Person    Country              Product       Date  Amount  \\\n",
       "0       Jehu Rudeforth         UK      Mint Chip Choco 2022-01-04    5320   \n",
       "1          Van Tuxwell      India        85% Dark Bars 2022-08-01    7896   \n",
       "2         Gigi Bohling      India  Peanut Butter Cubes 2022-07-07    4501   \n",
       "3         Jan Morforth  Australia  Peanut Butter Cubes 2022-04-27   12726   \n",
       "4       Jehu Rudeforth         UK  Peanut Butter Cubes 2022-02-24   13685   \n",
       "...                ...        ...                  ...        ...     ...   \n",
       "1089  Karlen McCaffrey  Australia  Spicy Special Slims 2022-05-17    4410   \n",
       "1090    Jehu Rudeforth        USA           White Choc 2022-06-07    6559   \n",
       "1091      Ches Bonnell     Canada  Organic Choco Syrup 2022-07-26     574   \n",
       "1092    Dotty Strutley      India              Eclairs 2022-07-28    2086   \n",
       "1093  Karlen McCaffrey      India       70% Dark Bites 2022-05-23    5075   \n",
       "\n",
       "      Boxes Shipped  \n",
       "0               180  \n",
       "1                94  \n",
       "2                91  \n",
       "3               342  \n",
       "4               184  \n",
       "...             ...  \n",
       "1089            323  \n",
       "1090            119  \n",
       "1091            217  \n",
       "1092            384  \n",
       "1093            344  \n",
       "\n",
       "[1094 rows x 6 columns]"
      ]
     },
     "execution_count": 52,
     "metadata": {},
     "output_type": "execute_result"
    }
   ],
   "source": [
    "dataset_excel = pd.read_excel(\"Chocolate Sales.xlsx\")\n",
    "dataset_excel"
   ]
  },
  {
   "cell_type": "markdown",
   "id": "1bcf8655-605e-425f-8218-74199a37126d",
   "metadata": {
    "jp-MarkdownHeadingCollapsed": true
   },
   "source": [
    "# Head ve Tail Fonksiyonları"
   ]
  },
  {
   "cell_type": "markdown",
   "id": "49e0b9cd-ffb1-4332-b52b-d03bd513abed",
   "metadata": {},
   "source": [
    "-Head fonksiyonu dataframe içindeki ilk 5 satırı döndürür.<br>\n",
    "-Tail fonksiyonu dataframe içindeki son 5 satırı döndürür."
   ]
  },
  {
   "cell_type": "code",
   "execution_count": 53,
   "id": "15a4ed6c-2e55-431a-b053-b479ce3575c0",
   "metadata": {},
   "outputs": [
    {
     "data": {
      "text/html": [
       "<div>\n",
       "<style scoped>\n",
       "    .dataframe tbody tr th:only-of-type {\n",
       "        vertical-align: middle;\n",
       "    }\n",
       "\n",
       "    .dataframe tbody tr th {\n",
       "        vertical-align: top;\n",
       "    }\n",
       "\n",
       "    .dataframe thead th {\n",
       "        text-align: right;\n",
       "    }\n",
       "</style>\n",
       "<table border=\"1\" class=\"dataframe\">\n",
       "  <thead>\n",
       "    <tr style=\"text-align: right;\">\n",
       "      <th></th>\n",
       "      <th>Sales Person</th>\n",
       "      <th>Country</th>\n",
       "      <th>Product</th>\n",
       "      <th>Date</th>\n",
       "      <th>Amount</th>\n",
       "      <th>Boxes Shipped</th>\n",
       "    </tr>\n",
       "  </thead>\n",
       "  <tbody>\n",
       "    <tr>\n",
       "      <th>0</th>\n",
       "      <td>Jehu Rudeforth</td>\n",
       "      <td>UK</td>\n",
       "      <td>Mint Chip Choco</td>\n",
       "      <td>04-Jan-22</td>\n",
       "      <td>$5,320</td>\n",
       "      <td>180</td>\n",
       "    </tr>\n",
       "    <tr>\n",
       "      <th>1</th>\n",
       "      <td>Van Tuxwell</td>\n",
       "      <td>India</td>\n",
       "      <td>85% Dark Bars</td>\n",
       "      <td>01-Aug-22</td>\n",
       "      <td>$7,896</td>\n",
       "      <td>94</td>\n",
       "    </tr>\n",
       "    <tr>\n",
       "      <th>2</th>\n",
       "      <td>Gigi Bohling</td>\n",
       "      <td>India</td>\n",
       "      <td>Peanut Butter Cubes</td>\n",
       "      <td>07-Jul-22</td>\n",
       "      <td>$4,501</td>\n",
       "      <td>91</td>\n",
       "    </tr>\n",
       "    <tr>\n",
       "      <th>3</th>\n",
       "      <td>Jan Morforth</td>\n",
       "      <td>Australia</td>\n",
       "      <td>Peanut Butter Cubes</td>\n",
       "      <td>27-Apr-22</td>\n",
       "      <td>$12,726</td>\n",
       "      <td>342</td>\n",
       "    </tr>\n",
       "    <tr>\n",
       "      <th>4</th>\n",
       "      <td>Jehu Rudeforth</td>\n",
       "      <td>UK</td>\n",
       "      <td>Peanut Butter Cubes</td>\n",
       "      <td>24-Feb-22</td>\n",
       "      <td>$13,685</td>\n",
       "      <td>184</td>\n",
       "    </tr>\n",
       "  </tbody>\n",
       "</table>\n",
       "</div>"
      ],
      "text/plain": [
       "     Sales Person    Country              Product       Date    Amount  \\\n",
       "0  Jehu Rudeforth         UK      Mint Chip Choco  04-Jan-22   $5,320    \n",
       "1     Van Tuxwell      India        85% Dark Bars  01-Aug-22   $7,896    \n",
       "2    Gigi Bohling      India  Peanut Butter Cubes  07-Jul-22   $4,501    \n",
       "3    Jan Morforth  Australia  Peanut Butter Cubes  27-Apr-22  $12,726    \n",
       "4  Jehu Rudeforth         UK  Peanut Butter Cubes  24-Feb-22  $13,685    \n",
       "\n",
       "   Boxes Shipped  \n",
       "0            180  \n",
       "1             94  \n",
       "2             91  \n",
       "3            342  \n",
       "4            184  "
      ]
     },
     "execution_count": 53,
     "metadata": {},
     "output_type": "execute_result"
    }
   ],
   "source": [
    "dataset.head()"
   ]
  },
  {
   "cell_type": "code",
   "execution_count": 54,
   "id": "4ef6b7bd-ec44-451a-91a9-81718edfbcc5",
   "metadata": {},
   "outputs": [
    {
     "data": {
      "text/html": [
       "<div>\n",
       "<style scoped>\n",
       "    .dataframe tbody tr th:only-of-type {\n",
       "        vertical-align: middle;\n",
       "    }\n",
       "\n",
       "    .dataframe tbody tr th {\n",
       "        vertical-align: top;\n",
       "    }\n",
       "\n",
       "    .dataframe thead th {\n",
       "        text-align: right;\n",
       "    }\n",
       "</style>\n",
       "<table border=\"1\" class=\"dataframe\">\n",
       "  <thead>\n",
       "    <tr style=\"text-align: right;\">\n",
       "      <th></th>\n",
       "      <th>Sales Person</th>\n",
       "      <th>Country</th>\n",
       "      <th>Product</th>\n",
       "      <th>Date</th>\n",
       "      <th>Amount</th>\n",
       "      <th>Boxes Shipped</th>\n",
       "    </tr>\n",
       "  </thead>\n",
       "  <tbody>\n",
       "    <tr>\n",
       "      <th>1089</th>\n",
       "      <td>Karlen McCaffrey</td>\n",
       "      <td>Australia</td>\n",
       "      <td>Spicy Special Slims</td>\n",
       "      <td>17-May-22</td>\n",
       "      <td>$4,410</td>\n",
       "      <td>323</td>\n",
       "    </tr>\n",
       "    <tr>\n",
       "      <th>1090</th>\n",
       "      <td>Jehu Rudeforth</td>\n",
       "      <td>USA</td>\n",
       "      <td>White Choc</td>\n",
       "      <td>07-Jun-22</td>\n",
       "      <td>$6,559</td>\n",
       "      <td>119</td>\n",
       "    </tr>\n",
       "    <tr>\n",
       "      <th>1091</th>\n",
       "      <td>Ches Bonnell</td>\n",
       "      <td>Canada</td>\n",
       "      <td>Organic Choco Syrup</td>\n",
       "      <td>26-Jul-22</td>\n",
       "      <td>$574</td>\n",
       "      <td>217</td>\n",
       "    </tr>\n",
       "    <tr>\n",
       "      <th>1092</th>\n",
       "      <td>Dotty Strutley</td>\n",
       "      <td>India</td>\n",
       "      <td>Eclairs</td>\n",
       "      <td>28-Jul-22</td>\n",
       "      <td>$2,086</td>\n",
       "      <td>384</td>\n",
       "    </tr>\n",
       "    <tr>\n",
       "      <th>1093</th>\n",
       "      <td>Karlen McCaffrey</td>\n",
       "      <td>India</td>\n",
       "      <td>70% Dark Bites</td>\n",
       "      <td>23-May-22</td>\n",
       "      <td>$5,075</td>\n",
       "      <td>344</td>\n",
       "    </tr>\n",
       "  </tbody>\n",
       "</table>\n",
       "</div>"
      ],
      "text/plain": [
       "          Sales Person    Country              Product       Date   Amount  \\\n",
       "1089  Karlen McCaffrey  Australia  Spicy Special Slims  17-May-22  $4,410    \n",
       "1090    Jehu Rudeforth        USA           White Choc  07-Jun-22  $6,559    \n",
       "1091      Ches Bonnell     Canada  Organic Choco Syrup  26-Jul-22    $574    \n",
       "1092    Dotty Strutley      India              Eclairs  28-Jul-22  $2,086    \n",
       "1093  Karlen McCaffrey      India       70% Dark Bites  23-May-22  $5,075    \n",
       "\n",
       "      Boxes Shipped  \n",
       "1089            323  \n",
       "1090            119  \n",
       "1091            217  \n",
       "1092            384  \n",
       "1093            344  "
      ]
     },
     "execution_count": 54,
     "metadata": {},
     "output_type": "execute_result"
    }
   ],
   "source": [
    "dataset.tail()"
   ]
  },
  {
   "cell_type": "markdown",
   "id": "b8154b4d-36d1-4609-8818-341f4a325687",
   "metadata": {
    "jp-MarkdownHeadingCollapsed": true
   },
   "source": [
    "# İnfo , Describe , Shape , Columns ve İndex Fonksiyonları"
   ]
  },
  {
   "cell_type": "markdown",
   "id": "1b512b5a-c8b5-4526-b7c0-9890b27f07df",
   "metadata": {},
   "source": [
    "-İnfo fonksiyonu dataframe hakkında bilgiler verir.<br>\n",
    "-Describe fonksiyonu dataframe hakkında temel istatistiksel özetler sağlamak için kullanılır.<br>\n",
    "-Shape fonksiyonu dataframe satır X sütun sayısını verir.<br>\n",
    "-Columns fonksiyonu dataframe sütunlarının adlarını liste olarak döndürür.<br>\n",
    "-İndex fonksiyonu ise dataframe hakkında range bilgilerini verir.<br>"
   ]
  },
  {
   "cell_type": "code",
   "execution_count": 55,
   "id": "2fcd5197-2381-4bfc-b94e-91c5a1d07887",
   "metadata": {},
   "outputs": [
    {
     "name": "stdout",
     "output_type": "stream",
     "text": [
      "<class 'pandas.core.frame.DataFrame'>\n",
      "RangeIndex: 1094 entries, 0 to 1093\n",
      "Data columns (total 6 columns):\n",
      " #   Column         Non-Null Count  Dtype \n",
      "---  ------         --------------  ----- \n",
      " 0   Sales Person   1094 non-null   object\n",
      " 1   Country        1094 non-null   object\n",
      " 2   Product        1094 non-null   object\n",
      " 3   Date           1094 non-null   object\n",
      " 4   Amount         1094 non-null   object\n",
      " 5   Boxes Shipped  1094 non-null   int64 \n",
      "dtypes: int64(1), object(5)\n",
      "memory usage: 51.4+ KB\n"
     ]
    }
   ],
   "source": [
    "dataset.info()"
   ]
  },
  {
   "cell_type": "code",
   "execution_count": 56,
   "id": "13686b1a-af33-4e9a-b587-34ce961be2de",
   "metadata": {},
   "outputs": [
    {
     "data": {
      "text/html": [
       "<div>\n",
       "<style scoped>\n",
       "    .dataframe tbody tr th:only-of-type {\n",
       "        vertical-align: middle;\n",
       "    }\n",
       "\n",
       "    .dataframe tbody tr th {\n",
       "        vertical-align: top;\n",
       "    }\n",
       "\n",
       "    .dataframe thead th {\n",
       "        text-align: right;\n",
       "    }\n",
       "</style>\n",
       "<table border=\"1\" class=\"dataframe\">\n",
       "  <thead>\n",
       "    <tr style=\"text-align: right;\">\n",
       "      <th></th>\n",
       "      <th>Boxes Shipped</th>\n",
       "    </tr>\n",
       "  </thead>\n",
       "  <tbody>\n",
       "    <tr>\n",
       "      <th>count</th>\n",
       "      <td>1094.000000</td>\n",
       "    </tr>\n",
       "    <tr>\n",
       "      <th>mean</th>\n",
       "      <td>161.797989</td>\n",
       "    </tr>\n",
       "    <tr>\n",
       "      <th>std</th>\n",
       "      <td>121.544145</td>\n",
       "    </tr>\n",
       "    <tr>\n",
       "      <th>min</th>\n",
       "      <td>1.000000</td>\n",
       "    </tr>\n",
       "    <tr>\n",
       "      <th>25%</th>\n",
       "      <td>70.000000</td>\n",
       "    </tr>\n",
       "    <tr>\n",
       "      <th>50%</th>\n",
       "      <td>135.000000</td>\n",
       "    </tr>\n",
       "    <tr>\n",
       "      <th>75%</th>\n",
       "      <td>228.750000</td>\n",
       "    </tr>\n",
       "    <tr>\n",
       "      <th>max</th>\n",
       "      <td>709.000000</td>\n",
       "    </tr>\n",
       "  </tbody>\n",
       "</table>\n",
       "</div>"
      ],
      "text/plain": [
       "       Boxes Shipped\n",
       "count    1094.000000\n",
       "mean      161.797989\n",
       "std       121.544145\n",
       "min         1.000000\n",
       "25%        70.000000\n",
       "50%       135.000000\n",
       "75%       228.750000\n",
       "max       709.000000"
      ]
     },
     "execution_count": 56,
     "metadata": {},
     "output_type": "execute_result"
    }
   ],
   "source": [
    "dataset.describe()"
   ]
  },
  {
   "cell_type": "code",
   "execution_count": 58,
   "id": "84ac3f91-97f6-4057-ba5d-9eedf8ff7fe6",
   "metadata": {},
   "outputs": [
    {
     "data": {
      "text/plain": [
       "(1094, 6)"
      ]
     },
     "execution_count": 58,
     "metadata": {},
     "output_type": "execute_result"
    }
   ],
   "source": [
    "dataset.shape"
   ]
  },
  {
   "cell_type": "code",
   "execution_count": 59,
   "id": "cc5443af-8d0f-4663-96cb-30c2f22ab23e",
   "metadata": {},
   "outputs": [
    {
     "data": {
      "text/plain": [
       "Index(['Sales Person', 'Country', 'Product', 'Date', 'Amount',\n",
       "       'Boxes Shipped'],\n",
       "      dtype='object')"
      ]
     },
     "execution_count": 59,
     "metadata": {},
     "output_type": "execute_result"
    }
   ],
   "source": [
    "dataset.columns"
   ]
  },
  {
   "cell_type": "code",
   "execution_count": 60,
   "id": "7180dfc0-91f0-4cd7-a41c-ae3431abab7d",
   "metadata": {},
   "outputs": [
    {
     "data": {
      "text/plain": [
       "RangeIndex(start=0, stop=1094, step=1)"
      ]
     },
     "execution_count": 60,
     "metadata": {},
     "output_type": "execute_result"
    }
   ],
   "source": [
    "dataset.index"
   ]
  },
  {
   "cell_type": "markdown",
   "id": "666ff0c4-76b3-4645-904e-e2f06f45d38f",
   "metadata": {
    "jp-MarkdownHeadingCollapsed": true
   },
   "source": [
    "# Loc ve İloc Fonksiyonları"
   ]
  },
  {
   "cell_type": "markdown",
   "id": "62ad7f2e-4b89-417b-acac-b6b86b6321f8",
   "metadata": {},
   "source": [
    "-Loc fonksiyonu belirli satır, belirli sütun ve belirli satır sütun hakkında bilgileri döndürür.<br>\n",
    "-İLoc fonksiyonu ise Loc fonksiyonunun sadece index üzerine çalışan halidir."
   ]
  },
  {
   "cell_type": "code",
   "execution_count": 66,
   "id": "9041b2d8-e3a8-4ccd-9378-7729c11f1efd",
   "metadata": {},
   "outputs": [
    {
     "data": {
      "text/plain": [
       "Sales Person            Gigi Bohling\n",
       "Country                        India\n",
       "Product          Peanut Butter Cubes\n",
       "Date                       07-Jul-22\n",
       "Amount                       $4,501 \n",
       "Boxes Shipped                     91\n",
       "Name: 2, dtype: object"
      ]
     },
     "execution_count": 66,
     "metadata": {},
     "output_type": "execute_result"
    }
   ],
   "source": [
    "dataset.loc[2] #Belirli bir satıra erişme"
   ]
  },
  {
   "cell_type": "code",
   "execution_count": 69,
   "id": "f3b6e9e9-41e8-44c7-b070-886c50c9060e",
   "metadata": {},
   "outputs": [
    {
     "data": {
      "text/plain": [
       "0              UK\n",
       "1           India\n",
       "2           India\n",
       "3       Australia\n",
       "4              UK\n",
       "          ...    \n",
       "1089    Australia\n",
       "1090          USA\n",
       "1091       Canada\n",
       "1092        India\n",
       "1093        India\n",
       "Name: Country, Length: 1094, dtype: object"
      ]
     },
     "execution_count": 69,
     "metadata": {},
     "output_type": "execute_result"
    }
   ],
   "source": [
    "dataset.loc[:,\"Country\"] #Belirli bir sütuna erişme"
   ]
  },
  {
   "cell_type": "code",
   "execution_count": 72,
   "id": "3347f791-5fcf-40f0-ba11-eb2ec480c626",
   "metadata": {},
   "outputs": [
    {
     "data": {
      "text/plain": [
       "'$4,501 '"
      ]
     },
     "execution_count": 72,
     "metadata": {},
     "output_type": "execute_result"
    }
   ],
   "source": [
    "dataset.loc[2,\"Amount\"] #Belirli satır ve sütuna erişme"
   ]
  },
  {
   "cell_type": "code",
   "execution_count": 76,
   "id": "460b50f8-d88d-4b10-a2e3-cbe79950732c",
   "metadata": {},
   "outputs": [
    {
     "data": {
      "text/plain": [
       "Sales Person            Gigi Bohling\n",
       "Country                        India\n",
       "Product          Peanut Butter Cubes\n",
       "Date                       07-Jul-22\n",
       "Amount                       $4,501 \n",
       "Boxes Shipped                     91\n",
       "Name: 2, dtype: object"
      ]
     },
     "execution_count": 76,
     "metadata": {},
     "output_type": "execute_result"
    }
   ],
   "source": [
    "dataset.iloc[2] #Belirli bir satıra erişmes"
   ]
  },
  {
   "cell_type": "code",
   "execution_count": 77,
   "id": "22d9f4f0-96be-4573-9eab-07428114e5ea",
   "metadata": {},
   "outputs": [
    {
     "data": {
      "text/plain": [
       "0           Mint Chip Choco\n",
       "1             85% Dark Bars\n",
       "2       Peanut Butter Cubes\n",
       "3       Peanut Butter Cubes\n",
       "4       Peanut Butter Cubes\n",
       "               ...         \n",
       "1089    Spicy Special Slims\n",
       "1090             White Choc\n",
       "1091    Organic Choco Syrup\n",
       "1092                Eclairs\n",
       "1093         70% Dark Bites\n",
       "Name: Product, Length: 1094, dtype: object"
      ]
     },
     "execution_count": 77,
     "metadata": {},
     "output_type": "execute_result"
    }
   ],
   "source": [
    "dataset.iloc[:,2] #Belirli bir sütuna erişme"
   ]
  },
  {
   "cell_type": "code",
   "execution_count": 78,
   "id": "4dd163e8-3853-497d-a7da-54c35e7054c0",
   "metadata": {},
   "outputs": [
    {
     "data": {
      "text/plain": [
       "'Raspberry Choco'"
      ]
     },
     "execution_count": 78,
     "metadata": {},
     "output_type": "execute_result"
    }
   ],
   "source": [
    "dataset.iloc[100,2] #Belirli satır ve sütuna erişme"
   ]
  },
  {
   "cell_type": "markdown",
   "id": "acd7ea86-4216-45a7-84b0-0955c56ef3c8",
   "metadata": {
    "jp-MarkdownHeadingCollapsed": true
   },
   "source": [
    "# Drop Fonksiyonu"
   ]
  },
  {
   "cell_type": "markdown",
   "id": "cdb26c11-dba2-4e79-8635-8270364410d0",
   "metadata": {},
   "source": [
    "-Drop fonksiyonu dataframe üzerinden kolon silmek için kullanılır.<br>\n",
    "inframe parametresi true olursa değişiklik ana tablo üzerinden yapılır."
   ]
  },
  {
   "cell_type": "code",
   "execution_count": 88,
   "id": "2f7dd208-5302-4a0c-b90d-525d210c9258",
   "metadata": {},
   "outputs": [
    {
     "data": {
      "text/html": [
       "<div>\n",
       "<style scoped>\n",
       "    .dataframe tbody tr th:only-of-type {\n",
       "        vertical-align: middle;\n",
       "    }\n",
       "\n",
       "    .dataframe tbody tr th {\n",
       "        vertical-align: top;\n",
       "    }\n",
       "\n",
       "    .dataframe thead th {\n",
       "        text-align: right;\n",
       "    }\n",
       "</style>\n",
       "<table border=\"1\" class=\"dataframe\">\n",
       "  <thead>\n",
       "    <tr style=\"text-align: right;\">\n",
       "      <th></th>\n",
       "      <th>Sales Person</th>\n",
       "      <th>Country</th>\n",
       "      <th>Date</th>\n",
       "      <th>Amount</th>\n",
       "      <th>Boxes Shipped</th>\n",
       "    </tr>\n",
       "  </thead>\n",
       "  <tbody>\n",
       "    <tr>\n",
       "      <th>0</th>\n",
       "      <td>Jehu Rudeforth</td>\n",
       "      <td>UK</td>\n",
       "      <td>04-Jan-22</td>\n",
       "      <td>$5,320</td>\n",
       "      <td>180</td>\n",
       "    </tr>\n",
       "    <tr>\n",
       "      <th>1</th>\n",
       "      <td>Van Tuxwell</td>\n",
       "      <td>India</td>\n",
       "      <td>01-Aug-22</td>\n",
       "      <td>$7,896</td>\n",
       "      <td>94</td>\n",
       "    </tr>\n",
       "    <tr>\n",
       "      <th>2</th>\n",
       "      <td>Gigi Bohling</td>\n",
       "      <td>India</td>\n",
       "      <td>07-Jul-22</td>\n",
       "      <td>$4,501</td>\n",
       "      <td>91</td>\n",
       "    </tr>\n",
       "    <tr>\n",
       "      <th>3</th>\n",
       "      <td>Jan Morforth</td>\n",
       "      <td>Australia</td>\n",
       "      <td>27-Apr-22</td>\n",
       "      <td>$12,726</td>\n",
       "      <td>342</td>\n",
       "    </tr>\n",
       "    <tr>\n",
       "      <th>4</th>\n",
       "      <td>Jehu Rudeforth</td>\n",
       "      <td>UK</td>\n",
       "      <td>24-Feb-22</td>\n",
       "      <td>$13,685</td>\n",
       "      <td>184</td>\n",
       "    </tr>\n",
       "    <tr>\n",
       "      <th>...</th>\n",
       "      <td>...</td>\n",
       "      <td>...</td>\n",
       "      <td>...</td>\n",
       "      <td>...</td>\n",
       "      <td>...</td>\n",
       "    </tr>\n",
       "    <tr>\n",
       "      <th>1089</th>\n",
       "      <td>Karlen McCaffrey</td>\n",
       "      <td>Australia</td>\n",
       "      <td>17-May-22</td>\n",
       "      <td>$4,410</td>\n",
       "      <td>323</td>\n",
       "    </tr>\n",
       "    <tr>\n",
       "      <th>1090</th>\n",
       "      <td>Jehu Rudeforth</td>\n",
       "      <td>USA</td>\n",
       "      <td>07-Jun-22</td>\n",
       "      <td>$6,559</td>\n",
       "      <td>119</td>\n",
       "    </tr>\n",
       "    <tr>\n",
       "      <th>1091</th>\n",
       "      <td>Ches Bonnell</td>\n",
       "      <td>Canada</td>\n",
       "      <td>26-Jul-22</td>\n",
       "      <td>$574</td>\n",
       "      <td>217</td>\n",
       "    </tr>\n",
       "    <tr>\n",
       "      <th>1092</th>\n",
       "      <td>Dotty Strutley</td>\n",
       "      <td>India</td>\n",
       "      <td>28-Jul-22</td>\n",
       "      <td>$2,086</td>\n",
       "      <td>384</td>\n",
       "    </tr>\n",
       "    <tr>\n",
       "      <th>1093</th>\n",
       "      <td>Karlen McCaffrey</td>\n",
       "      <td>India</td>\n",
       "      <td>23-May-22</td>\n",
       "      <td>$5,075</td>\n",
       "      <td>344</td>\n",
       "    </tr>\n",
       "  </tbody>\n",
       "</table>\n",
       "<p>1094 rows × 5 columns</p>\n",
       "</div>"
      ],
      "text/plain": [
       "          Sales Person    Country       Date    Amount  Boxes Shipped\n",
       "0       Jehu Rudeforth         UK  04-Jan-22   $5,320             180\n",
       "1          Van Tuxwell      India  01-Aug-22   $7,896              94\n",
       "2         Gigi Bohling      India  07-Jul-22   $4,501              91\n",
       "3         Jan Morforth  Australia  27-Apr-22  $12,726             342\n",
       "4       Jehu Rudeforth         UK  24-Feb-22  $13,685             184\n",
       "...                ...        ...        ...       ...            ...\n",
       "1089  Karlen McCaffrey  Australia  17-May-22   $4,410             323\n",
       "1090    Jehu Rudeforth        USA  07-Jun-22   $6,559             119\n",
       "1091      Ches Bonnell     Canada  26-Jul-22     $574             217\n",
       "1092    Dotty Strutley      India  28-Jul-22   $2,086             384\n",
       "1093  Karlen McCaffrey      India  23-May-22   $5,075             344\n",
       "\n",
       "[1094 rows x 5 columns]"
      ]
     },
     "execution_count": 88,
     "metadata": {},
     "output_type": "execute_result"
    }
   ],
   "source": [
    "dataset2 = pd.read_csv(\"Chocolate Sales - Kopya.csv\")\n",
    "dataset2.drop(\"Product\",axis=1,inplace=True)\n",
    "dataset2"
   ]
  },
  {
   "cell_type": "markdown",
   "id": "e77513dc-a742-440b-8f33-54a6431f72b6",
   "metadata": {
    "jp-MarkdownHeadingCollapsed": true
   },
   "source": [
    "# FillNa Fonksiyonu"
   ]
  },
  {
   "cell_type": "markdown",
   "id": "9f5920ac-8e16-4909-b4dd-581de95b9311",
   "metadata": {},
   "source": [
    "-NaN fonksiyonu dataset üzerinde belirli kolon veya satırın değerini NaN çevirir.<br>\n",
    "-FillNa fonksiyonu dataset üzerinde NaN değerli bütün hücreleri değiştirmek için kullanılır."
   ]
  },
  {
   "cell_type": "code",
   "execution_count": 89,
   "id": "1c5d0888-e057-4661-aa6a-f59e3acf32e6",
   "metadata": {},
   "outputs": [],
   "source": [
    "dataset2[\"Product\"] = np.nan"
   ]
  },
  {
   "cell_type": "code",
   "execution_count": 83,
   "id": "39215b2f-b726-4b68-b1d6-db1f389b2cd6",
   "metadata": {},
   "outputs": [
    {
     "data": {
      "text/html": [
       "<div>\n",
       "<style scoped>\n",
       "    .dataframe tbody tr th:only-of-type {\n",
       "        vertical-align: middle;\n",
       "    }\n",
       "\n",
       "    .dataframe tbody tr th {\n",
       "        vertical-align: top;\n",
       "    }\n",
       "\n",
       "    .dataframe thead th {\n",
       "        text-align: right;\n",
       "    }\n",
       "</style>\n",
       "<table border=\"1\" class=\"dataframe\">\n",
       "  <thead>\n",
       "    <tr style=\"text-align: right;\">\n",
       "      <th></th>\n",
       "      <th>Sales Person</th>\n",
       "      <th>Country</th>\n",
       "      <th>Date</th>\n",
       "      <th>Amount</th>\n",
       "      <th>Boxes Shipped</th>\n",
       "      <th>Product</th>\n",
       "    </tr>\n",
       "  </thead>\n",
       "  <tbody>\n",
       "    <tr>\n",
       "      <th>0</th>\n",
       "      <td>Jehu Rudeforth</td>\n",
       "      <td>UK</td>\n",
       "      <td>04-Jan-22</td>\n",
       "      <td>$5,320</td>\n",
       "      <td>180</td>\n",
       "      <td>Unknown</td>\n",
       "    </tr>\n",
       "    <tr>\n",
       "      <th>1</th>\n",
       "      <td>Van Tuxwell</td>\n",
       "      <td>India</td>\n",
       "      <td>01-Aug-22</td>\n",
       "      <td>$7,896</td>\n",
       "      <td>94</td>\n",
       "      <td>Unknown</td>\n",
       "    </tr>\n",
       "    <tr>\n",
       "      <th>2</th>\n",
       "      <td>Gigi Bohling</td>\n",
       "      <td>India</td>\n",
       "      <td>07-Jul-22</td>\n",
       "      <td>$4,501</td>\n",
       "      <td>91</td>\n",
       "      <td>Unknown</td>\n",
       "    </tr>\n",
       "    <tr>\n",
       "      <th>3</th>\n",
       "      <td>Jan Morforth</td>\n",
       "      <td>Australia</td>\n",
       "      <td>27-Apr-22</td>\n",
       "      <td>$12,726</td>\n",
       "      <td>342</td>\n",
       "      <td>Unknown</td>\n",
       "    </tr>\n",
       "    <tr>\n",
       "      <th>4</th>\n",
       "      <td>Jehu Rudeforth</td>\n",
       "      <td>UK</td>\n",
       "      <td>24-Feb-22</td>\n",
       "      <td>$13,685</td>\n",
       "      <td>184</td>\n",
       "      <td>Unknown</td>\n",
       "    </tr>\n",
       "    <tr>\n",
       "      <th>...</th>\n",
       "      <td>...</td>\n",
       "      <td>...</td>\n",
       "      <td>...</td>\n",
       "      <td>...</td>\n",
       "      <td>...</td>\n",
       "      <td>...</td>\n",
       "    </tr>\n",
       "    <tr>\n",
       "      <th>1089</th>\n",
       "      <td>Karlen McCaffrey</td>\n",
       "      <td>Australia</td>\n",
       "      <td>17-May-22</td>\n",
       "      <td>$4,410</td>\n",
       "      <td>323</td>\n",
       "      <td>Unknown</td>\n",
       "    </tr>\n",
       "    <tr>\n",
       "      <th>1090</th>\n",
       "      <td>Jehu Rudeforth</td>\n",
       "      <td>USA</td>\n",
       "      <td>07-Jun-22</td>\n",
       "      <td>$6,559</td>\n",
       "      <td>119</td>\n",
       "      <td>Unknown</td>\n",
       "    </tr>\n",
       "    <tr>\n",
       "      <th>1091</th>\n",
       "      <td>Ches Bonnell</td>\n",
       "      <td>Canada</td>\n",
       "      <td>26-Jul-22</td>\n",
       "      <td>$574</td>\n",
       "      <td>217</td>\n",
       "      <td>Unknown</td>\n",
       "    </tr>\n",
       "    <tr>\n",
       "      <th>1092</th>\n",
       "      <td>Dotty Strutley</td>\n",
       "      <td>India</td>\n",
       "      <td>28-Jul-22</td>\n",
       "      <td>$2,086</td>\n",
       "      <td>384</td>\n",
       "      <td>Unknown</td>\n",
       "    </tr>\n",
       "    <tr>\n",
       "      <th>1093</th>\n",
       "      <td>Karlen McCaffrey</td>\n",
       "      <td>India</td>\n",
       "      <td>23-May-22</td>\n",
       "      <td>$5,075</td>\n",
       "      <td>344</td>\n",
       "      <td>Unknown</td>\n",
       "    </tr>\n",
       "  </tbody>\n",
       "</table>\n",
       "<p>1094 rows × 6 columns</p>\n",
       "</div>"
      ],
      "text/plain": [
       "          Sales Person    Country       Date    Amount  Boxes Shipped  Product\n",
       "0       Jehu Rudeforth         UK  04-Jan-22   $5,320             180  Unknown\n",
       "1          Van Tuxwell      India  01-Aug-22   $7,896              94  Unknown\n",
       "2         Gigi Bohling      India  07-Jul-22   $4,501              91  Unknown\n",
       "3         Jan Morforth  Australia  27-Apr-22  $12,726             342  Unknown\n",
       "4       Jehu Rudeforth         UK  24-Feb-22  $13,685             184  Unknown\n",
       "...                ...        ...        ...       ...            ...      ...\n",
       "1089  Karlen McCaffrey  Australia  17-May-22   $4,410             323  Unknown\n",
       "1090    Jehu Rudeforth        USA  07-Jun-22   $6,559             119  Unknown\n",
       "1091      Ches Bonnell     Canada  26-Jul-22     $574             217  Unknown\n",
       "1092    Dotty Strutley      India  28-Jul-22   $2,086             384  Unknown\n",
       "1093  Karlen McCaffrey      India  23-May-22   $5,075             344  Unknown\n",
       "\n",
       "[1094 rows x 6 columns]"
      ]
     },
     "execution_count": 83,
     "metadata": {},
     "output_type": "execute_result"
    }
   ],
   "source": [
    "dataset2[\"Product\"] = dataset2[\"Product\"].fillna(\"Unknown\")\n",
    "dataset2"
   ]
  },
  {
   "cell_type": "markdown",
   "id": "7fc5b930-d091-4e33-bf2d-204f877f34d3",
   "metadata": {
    "jp-MarkdownHeadingCollapsed": true
   },
   "source": [
    "# Drop_Duplicates Fonksiyonu"
   ]
  },
  {
   "cell_type": "markdown",
   "id": "0dc3401d-7d8b-445a-8cd7-4776662a3dee",
   "metadata": {},
   "source": [
    "-Drop-Duplicates fonksiyonu belirli sütundaki tekrarlanan satırları siler."
   ]
  },
  {
   "cell_type": "code",
   "execution_count": 87,
   "id": "03ffb7c5-9af4-49cb-8283-e18d61b60a57",
   "metadata": {},
   "outputs": [
    {
     "data": {
      "text/html": [
       "<div>\n",
       "<style scoped>\n",
       "    .dataframe tbody tr th:only-of-type {\n",
       "        vertical-align: middle;\n",
       "    }\n",
       "\n",
       "    .dataframe tbody tr th {\n",
       "        vertical-align: top;\n",
       "    }\n",
       "\n",
       "    .dataframe thead th {\n",
       "        text-align: right;\n",
       "    }\n",
       "</style>\n",
       "<table border=\"1\" class=\"dataframe\">\n",
       "  <thead>\n",
       "    <tr style=\"text-align: right;\">\n",
       "      <th></th>\n",
       "      <th>Sales Person</th>\n",
       "      <th>Country</th>\n",
       "      <th>Product</th>\n",
       "      <th>Date</th>\n",
       "      <th>Amount</th>\n",
       "      <th>Boxes Shipped</th>\n",
       "    </tr>\n",
       "  </thead>\n",
       "  <tbody>\n",
       "    <tr>\n",
       "      <th>0</th>\n",
       "      <td>Jehu Rudeforth</td>\n",
       "      <td>UK</td>\n",
       "      <td>Mint Chip Choco</td>\n",
       "      <td>04-Jan-22</td>\n",
       "      <td>$5,320</td>\n",
       "      <td>180</td>\n",
       "    </tr>\n",
       "    <tr>\n",
       "      <th>1</th>\n",
       "      <td>Van Tuxwell</td>\n",
       "      <td>India</td>\n",
       "      <td>85% Dark Bars</td>\n",
       "      <td>01-Aug-22</td>\n",
       "      <td>$7,896</td>\n",
       "      <td>94</td>\n",
       "    </tr>\n",
       "    <tr>\n",
       "      <th>2</th>\n",
       "      <td>Gigi Bohling</td>\n",
       "      <td>India</td>\n",
       "      <td>Peanut Butter Cubes</td>\n",
       "      <td>07-Jul-22</td>\n",
       "      <td>$4,501</td>\n",
       "      <td>91</td>\n",
       "    </tr>\n",
       "    <tr>\n",
       "      <th>5</th>\n",
       "      <td>Van Tuxwell</td>\n",
       "      <td>India</td>\n",
       "      <td>Smooth Sliky Salty</td>\n",
       "      <td>06-Jun-22</td>\n",
       "      <td>$5,376</td>\n",
       "      <td>38</td>\n",
       "    </tr>\n",
       "    <tr>\n",
       "      <th>6</th>\n",
       "      <td>Oby Sorrel</td>\n",
       "      <td>UK</td>\n",
       "      <td>99% Dark &amp; Pure</td>\n",
       "      <td>25-Jan-22</td>\n",
       "      <td>$13,685</td>\n",
       "      <td>176</td>\n",
       "    </tr>\n",
       "    <tr>\n",
       "      <th>7</th>\n",
       "      <td>Gunar Cockshoot</td>\n",
       "      <td>Australia</td>\n",
       "      <td>After Nines</td>\n",
       "      <td>24-Mar-22</td>\n",
       "      <td>$3,080</td>\n",
       "      <td>73</td>\n",
       "    </tr>\n",
       "    <tr>\n",
       "      <th>8</th>\n",
       "      <td>Jehu Rudeforth</td>\n",
       "      <td>New Zealand</td>\n",
       "      <td>50% Dark Bites</td>\n",
       "      <td>20-Apr-22</td>\n",
       "      <td>$3,990</td>\n",
       "      <td>59</td>\n",
       "    </tr>\n",
       "    <tr>\n",
       "      <th>11</th>\n",
       "      <td>Barr Faughny</td>\n",
       "      <td>USA</td>\n",
       "      <td>Orange Choco</td>\n",
       "      <td>10-Mar-22</td>\n",
       "      <td>$3,703</td>\n",
       "      <td>11</td>\n",
       "    </tr>\n",
       "    <tr>\n",
       "      <th>12</th>\n",
       "      <td>Mallorie Waber</td>\n",
       "      <td>Canada</td>\n",
       "      <td>Eclairs</td>\n",
       "      <td>13-Jan-22</td>\n",
       "      <td>$1,442</td>\n",
       "      <td>286</td>\n",
       "    </tr>\n",
       "    <tr>\n",
       "      <th>13</th>\n",
       "      <td>Karlen McCaffrey</td>\n",
       "      <td>New Zealand</td>\n",
       "      <td>Drinking Coco</td>\n",
       "      <td>28-Jul-22</td>\n",
       "      <td>$168</td>\n",
       "      <td>156</td>\n",
       "    </tr>\n",
       "    <tr>\n",
       "      <th>15</th>\n",
       "      <td>Beverie Moffet</td>\n",
       "      <td>Australia</td>\n",
       "      <td>Organic Choco Syrup</td>\n",
       "      <td>26-Jan-22</td>\n",
       "      <td>$6,790</td>\n",
       "      <td>356</td>\n",
       "    </tr>\n",
       "    <tr>\n",
       "      <th>18</th>\n",
       "      <td>Beverie Moffet</td>\n",
       "      <td>Canada</td>\n",
       "      <td>Milk Bars</td>\n",
       "      <td>16-Feb-22</td>\n",
       "      <td>$8,799</td>\n",
       "      <td>250</td>\n",
       "    </tr>\n",
       "    <tr>\n",
       "      <th>21</th>\n",
       "      <td>Gunar Cockshoot</td>\n",
       "      <td>USA</td>\n",
       "      <td>Spicy Special Slims</td>\n",
       "      <td>17-Feb-22</td>\n",
       "      <td>$1,267</td>\n",
       "      <td>157</td>\n",
       "    </tr>\n",
       "    <tr>\n",
       "      <th>25</th>\n",
       "      <td>Karlen McCaffrey</td>\n",
       "      <td>India</td>\n",
       "      <td>Fruit &amp; Nut Bars</td>\n",
       "      <td>26-Jan-22</td>\n",
       "      <td>$168</td>\n",
       "      <td>321</td>\n",
       "    </tr>\n",
       "    <tr>\n",
       "      <th>28</th>\n",
       "      <td>Dennison Crosswaite</td>\n",
       "      <td>New Zealand</td>\n",
       "      <td>White Choc</td>\n",
       "      <td>05-Jul-22</td>\n",
       "      <td>$9,492</td>\n",
       "      <td>151</td>\n",
       "    </tr>\n",
       "    <tr>\n",
       "      <th>29</th>\n",
       "      <td>Dennison Crosswaite</td>\n",
       "      <td>New Zealand</td>\n",
       "      <td>Manuka Honey Choco</td>\n",
       "      <td>15-Jun-22</td>\n",
       "      <td>$5,061</td>\n",
       "      <td>301</td>\n",
       "    </tr>\n",
       "    <tr>\n",
       "      <th>33</th>\n",
       "      <td>Karlen McCaffrey</td>\n",
       "      <td>UK</td>\n",
       "      <td>Almond Choco</td>\n",
       "      <td>30-Jun-22</td>\n",
       "      <td>$6,839</td>\n",
       "      <td>133</td>\n",
       "    </tr>\n",
       "    <tr>\n",
       "      <th>41</th>\n",
       "      <td>Karlen McCaffrey</td>\n",
       "      <td>USA</td>\n",
       "      <td>Raspberry Choco</td>\n",
       "      <td>15-Apr-22</td>\n",
       "      <td>$14,749</td>\n",
       "      <td>354</td>\n",
       "    </tr>\n",
       "    <tr>\n",
       "      <th>42</th>\n",
       "      <td>Mallorie Waber</td>\n",
       "      <td>Canada</td>\n",
       "      <td>Choco Coated Almonds</td>\n",
       "      <td>11-Jul-22</td>\n",
       "      <td>$4,781</td>\n",
       "      <td>241</td>\n",
       "    </tr>\n",
       "    <tr>\n",
       "      <th>62</th>\n",
       "      <td>Kelci Walkden</td>\n",
       "      <td>Canada</td>\n",
       "      <td>Baker's Choco Chips</td>\n",
       "      <td>26-May-22</td>\n",
       "      <td>$3,073</td>\n",
       "      <td>302</td>\n",
       "    </tr>\n",
       "    <tr>\n",
       "      <th>65</th>\n",
       "      <td>Wilone O'Kielt</td>\n",
       "      <td>Australia</td>\n",
       "      <td>Caramel Stuffed Bars</td>\n",
       "      <td>14-Apr-22</td>\n",
       "      <td>$2,030</td>\n",
       "      <td>11</td>\n",
       "    </tr>\n",
       "    <tr>\n",
       "      <th>85</th>\n",
       "      <td>Dennison Crosswaite</td>\n",
       "      <td>Australia</td>\n",
       "      <td>70% Dark Bites</td>\n",
       "      <td>07-Feb-22</td>\n",
       "      <td>$5,859</td>\n",
       "      <td>108</td>\n",
       "    </tr>\n",
       "  </tbody>\n",
       "</table>\n",
       "</div>"
      ],
      "text/plain": [
       "           Sales Person      Country               Product       Date  \\\n",
       "0        Jehu Rudeforth           UK       Mint Chip Choco  04-Jan-22   \n",
       "1           Van Tuxwell        India         85% Dark Bars  01-Aug-22   \n",
       "2          Gigi Bohling        India   Peanut Butter Cubes  07-Jul-22   \n",
       "5           Van Tuxwell        India    Smooth Sliky Salty  06-Jun-22   \n",
       "6            Oby Sorrel           UK       99% Dark & Pure  25-Jan-22   \n",
       "7       Gunar Cockshoot    Australia           After Nines  24-Mar-22   \n",
       "8        Jehu Rudeforth  New Zealand        50% Dark Bites  20-Apr-22   \n",
       "11         Barr Faughny          USA          Orange Choco  10-Mar-22   \n",
       "12       Mallorie Waber       Canada               Eclairs  13-Jan-22   \n",
       "13     Karlen McCaffrey  New Zealand         Drinking Coco  28-Jul-22   \n",
       "15       Beverie Moffet    Australia   Organic Choco Syrup  26-Jan-22   \n",
       "18       Beverie Moffet       Canada             Milk Bars  16-Feb-22   \n",
       "21      Gunar Cockshoot          USA   Spicy Special Slims  17-Feb-22   \n",
       "25     Karlen McCaffrey        India      Fruit & Nut Bars  26-Jan-22   \n",
       "28  Dennison Crosswaite  New Zealand            White Choc  05-Jul-22   \n",
       "29  Dennison Crosswaite  New Zealand    Manuka Honey Choco  15-Jun-22   \n",
       "33     Karlen McCaffrey           UK          Almond Choco  30-Jun-22   \n",
       "41     Karlen McCaffrey          USA       Raspberry Choco  15-Apr-22   \n",
       "42       Mallorie Waber       Canada  Choco Coated Almonds  11-Jul-22   \n",
       "62        Kelci Walkden       Canada   Baker's Choco Chips  26-May-22   \n",
       "65       Wilone O'Kielt    Australia  Caramel Stuffed Bars  14-Apr-22   \n",
       "85  Dennison Crosswaite    Australia        70% Dark Bites  07-Feb-22   \n",
       "\n",
       "      Amount  Boxes Shipped  \n",
       "0    $5,320             180  \n",
       "1    $7,896              94  \n",
       "2    $4,501              91  \n",
       "5    $5,376              38  \n",
       "6   $13,685             176  \n",
       "7    $3,080              73  \n",
       "8    $3,990              59  \n",
       "11   $3,703              11  \n",
       "12   $1,442             286  \n",
       "13     $168             156  \n",
       "15   $6,790             356  \n",
       "18   $8,799             250  \n",
       "21   $1,267             157  \n",
       "25     $168             321  \n",
       "28   $9,492             151  \n",
       "29   $5,061             301  \n",
       "33   $6,839             133  \n",
       "41  $14,749             354  \n",
       "42   $4,781             241  \n",
       "62   $3,073             302  \n",
       "65   $2,030              11  \n",
       "85   $5,859             108  "
      ]
     },
     "execution_count": 87,
     "metadata": {},
     "output_type": "execute_result"
    }
   ],
   "source": [
    "dataset_unique = dataset.drop_duplicates(subset=[\"Product\"])\n",
    "dataset_unique"
   ]
  },
  {
   "cell_type": "markdown",
   "id": "db8ed064-c1ce-4099-aaa3-7bcfed206e50",
   "metadata": {
    "jp-MarkdownHeadingCollapsed": true
   },
   "source": [
    "# Merge ve Concat Fonksiyonları"
   ]
  },
  {
   "cell_type": "markdown",
   "id": "74ba0546-1829-4c27-a5df-085601975b85",
   "metadata": {},
   "source": [
    "-Merge fonksiyonu tabloları yanyana ekler.<br>\n",
    "-Concat fonksiyonu tabloları alt alta ekler."
   ]
  },
  {
   "cell_type": "code",
   "execution_count": 3,
   "id": "1c5da4bd-d58d-4d57-85e2-d34baf5f6241",
   "metadata": {},
   "outputs": [
    {
     "data": {
      "text/html": [
       "<div>\n",
       "<style scoped>\n",
       "    .dataframe tbody tr th:only-of-type {\n",
       "        vertical-align: middle;\n",
       "    }\n",
       "\n",
       "    .dataframe tbody tr th {\n",
       "        vertical-align: top;\n",
       "    }\n",
       "\n",
       "    .dataframe thead th {\n",
       "        text-align: right;\n",
       "    }\n",
       "</style>\n",
       "<table border=\"1\" class=\"dataframe\">\n",
       "  <thead>\n",
       "    <tr style=\"text-align: right;\">\n",
       "      <th></th>\n",
       "      <th>Personeller</th>\n",
       "      <th>Satış Sayısı</th>\n",
       "    </tr>\n",
       "  </thead>\n",
       "  <tbody>\n",
       "    <tr>\n",
       "      <th>0</th>\n",
       "      <td>Ali</td>\n",
       "      <td>1000</td>\n",
       "    </tr>\n",
       "    <tr>\n",
       "      <th>1</th>\n",
       "      <td>Ayşe</td>\n",
       "      <td>2000</td>\n",
       "    </tr>\n",
       "    <tr>\n",
       "      <th>2</th>\n",
       "      <td>Fatma</td>\n",
       "      <td>1500</td>\n",
       "    </tr>\n",
       "    <tr>\n",
       "      <th>3</th>\n",
       "      <td>Mahsun</td>\n",
       "      <td>500</td>\n",
       "    </tr>\n",
       "    <tr>\n",
       "      <th>4</th>\n",
       "      <td>Murat</td>\n",
       "      <td>100</td>\n",
       "    </tr>\n",
       "  </tbody>\n",
       "</table>\n",
       "</div>"
      ],
      "text/plain": [
       "  Personeller  Satış Sayısı\n",
       "0         Ali          1000\n",
       "1        Ayşe          2000\n",
       "2       Fatma          1500\n",
       "3      Mahsun           500\n",
       "4       Murat           100"
      ]
     },
     "execution_count": 3,
     "metadata": {},
     "output_type": "execute_result"
    }
   ],
   "source": [
    "dataframe_satislar = pd.DataFrame({\n",
    "    \"Personeller\":[\"Ali\",\"Ayşe\",\"Fatma\",\"Mahsun\",\"Murat\"],\n",
    "    \"Satış Sayısı\":[1000,2000,1500,500,100]\n",
    "})\n",
    "\n",
    "dataframe_personel = pd.DataFrame({\n",
    "    \"Personeller\":[\"Ali\",\"Ayşe\",\"Mert\",\"Hakan\",\"Murat\"],\n",
    "    \"Departman\":[\"Pazarlama\",\"Satış\",\"IT\",\"Satış\",\"İK\"]\n",
    "})\n",
    "dataframe_satislar"
   ]
  },
  {
   "cell_type": "code",
   "execution_count": 4,
   "id": "8d07c716-631a-4c8d-8eac-4bca53e0cea4",
   "metadata": {},
   "outputs": [
    {
     "data": {
      "text/html": [
       "<div>\n",
       "<style scoped>\n",
       "    .dataframe tbody tr th:only-of-type {\n",
       "        vertical-align: middle;\n",
       "    }\n",
       "\n",
       "    .dataframe tbody tr th {\n",
       "        vertical-align: top;\n",
       "    }\n",
       "\n",
       "    .dataframe thead th {\n",
       "        text-align: right;\n",
       "    }\n",
       "</style>\n",
       "<table border=\"1\" class=\"dataframe\">\n",
       "  <thead>\n",
       "    <tr style=\"text-align: right;\">\n",
       "      <th></th>\n",
       "      <th>Personeller</th>\n",
       "      <th>Departman</th>\n",
       "    </tr>\n",
       "  </thead>\n",
       "  <tbody>\n",
       "    <tr>\n",
       "      <th>0</th>\n",
       "      <td>Ali</td>\n",
       "      <td>Pazarlama</td>\n",
       "    </tr>\n",
       "    <tr>\n",
       "      <th>1</th>\n",
       "      <td>Ayşe</td>\n",
       "      <td>Satış</td>\n",
       "    </tr>\n",
       "    <tr>\n",
       "      <th>2</th>\n",
       "      <td>Mert</td>\n",
       "      <td>IT</td>\n",
       "    </tr>\n",
       "    <tr>\n",
       "      <th>3</th>\n",
       "      <td>Hakan</td>\n",
       "      <td>Satış</td>\n",
       "    </tr>\n",
       "    <tr>\n",
       "      <th>4</th>\n",
       "      <td>Murat</td>\n",
       "      <td>İK</td>\n",
       "    </tr>\n",
       "  </tbody>\n",
       "</table>\n",
       "</div>"
      ],
      "text/plain": [
       "  Personeller  Departman\n",
       "0         Ali  Pazarlama\n",
       "1        Ayşe      Satış\n",
       "2        Mert         IT\n",
       "3       Hakan      Satış\n",
       "4       Murat         İK"
      ]
     },
     "execution_count": 4,
     "metadata": {},
     "output_type": "execute_result"
    }
   ],
   "source": [
    "dataframe_personel"
   ]
  },
  {
   "cell_type": "code",
   "execution_count": 6,
   "id": "4b883079-ec5d-40a9-a9a4-c48f28ddefb1",
   "metadata": {},
   "outputs": [
    {
     "data": {
      "text/html": [
       "<div>\n",
       "<style scoped>\n",
       "    .dataframe tbody tr th:only-of-type {\n",
       "        vertical-align: middle;\n",
       "    }\n",
       "\n",
       "    .dataframe tbody tr th {\n",
       "        vertical-align: top;\n",
       "    }\n",
       "\n",
       "    .dataframe thead th {\n",
       "        text-align: right;\n",
       "    }\n",
       "</style>\n",
       "<table border=\"1\" class=\"dataframe\">\n",
       "  <thead>\n",
       "    <tr style=\"text-align: right;\">\n",
       "      <th></th>\n",
       "      <th>Personeller</th>\n",
       "      <th>Satış Sayısı</th>\n",
       "      <th>Departman</th>\n",
       "    </tr>\n",
       "  </thead>\n",
       "  <tbody>\n",
       "    <tr>\n",
       "      <th>0</th>\n",
       "      <td>Ali</td>\n",
       "      <td>1000</td>\n",
       "      <td>Pazarlama</td>\n",
       "    </tr>\n",
       "    <tr>\n",
       "      <th>1</th>\n",
       "      <td>Ayşe</td>\n",
       "      <td>2000</td>\n",
       "      <td>Satış</td>\n",
       "    </tr>\n",
       "    <tr>\n",
       "      <th>2</th>\n",
       "      <td>Murat</td>\n",
       "      <td>100</td>\n",
       "      <td>İK</td>\n",
       "    </tr>\n",
       "  </tbody>\n",
       "</table>\n",
       "</div>"
      ],
      "text/plain": [
       "  Personeller  Satış Sayısı  Departman\n",
       "0         Ali          1000  Pazarlama\n",
       "1        Ayşe          2000      Satış\n",
       "2       Murat           100         İK"
      ]
     },
     "execution_count": 6,
     "metadata": {},
     "output_type": "execute_result"
    }
   ],
   "source": [
    "#İNNER-JOİN : Sadece her iki tabloda ortak bulunan elemanları yani personelleri getirir.\n",
    "df_merge = pd.merge(dataframe_satislar,dataframe_personel,on=\"Personeller\",how=\"inner\")\n",
    "df_merge"
   ]
  },
  {
   "cell_type": "code",
   "execution_count": 8,
   "id": "c135f010-61eb-4172-a96a-772acd009445",
   "metadata": {},
   "outputs": [
    {
     "data": {
      "text/html": [
       "<div>\n",
       "<style scoped>\n",
       "    .dataframe tbody tr th:only-of-type {\n",
       "        vertical-align: middle;\n",
       "    }\n",
       "\n",
       "    .dataframe tbody tr th {\n",
       "        vertical-align: top;\n",
       "    }\n",
       "\n",
       "    .dataframe thead th {\n",
       "        text-align: right;\n",
       "    }\n",
       "</style>\n",
       "<table border=\"1\" class=\"dataframe\">\n",
       "  <thead>\n",
       "    <tr style=\"text-align: right;\">\n",
       "      <th></th>\n",
       "      <th>Personeller</th>\n",
       "      <th>Satış Sayısı</th>\n",
       "      <th>Departman</th>\n",
       "    </tr>\n",
       "  </thead>\n",
       "  <tbody>\n",
       "    <tr>\n",
       "      <th>0</th>\n",
       "      <td>Ali</td>\n",
       "      <td>1000</td>\n",
       "      <td>Pazarlama</td>\n",
       "    </tr>\n",
       "    <tr>\n",
       "      <th>1</th>\n",
       "      <td>Ayşe</td>\n",
       "      <td>2000</td>\n",
       "      <td>Satış</td>\n",
       "    </tr>\n",
       "    <tr>\n",
       "      <th>2</th>\n",
       "      <td>Fatma</td>\n",
       "      <td>1500</td>\n",
       "      <td>NaN</td>\n",
       "    </tr>\n",
       "    <tr>\n",
       "      <th>3</th>\n",
       "      <td>Mahsun</td>\n",
       "      <td>500</td>\n",
       "      <td>NaN</td>\n",
       "    </tr>\n",
       "    <tr>\n",
       "      <th>4</th>\n",
       "      <td>Murat</td>\n",
       "      <td>100</td>\n",
       "      <td>İK</td>\n",
       "    </tr>\n",
       "  </tbody>\n",
       "</table>\n",
       "</div>"
      ],
      "text/plain": [
       "  Personeller  Satış Sayısı  Departman\n",
       "0         Ali          1000  Pazarlama\n",
       "1        Ayşe          2000      Satış\n",
       "2       Fatma          1500        NaN\n",
       "3      Mahsun           500        NaN\n",
       "4       Murat           100         İK"
      ]
     },
     "execution_count": 8,
     "metadata": {},
     "output_type": "execute_result"
    }
   ],
   "source": [
    "#LEFT-JOİN : Solda verilen tablodaki bütün elemanlar gelir eğer sağdaki tabloda karşılığı varsa o yazılır yoksa NaN yazılır.\n",
    "df_merge = pd.merge(dataframe_satislar,dataframe_personel,on=\"Personeller\",how=\"left\")\n",
    "df_merge"
   ]
  },
  {
   "cell_type": "code",
   "execution_count": 10,
   "id": "5e9bdc90-342a-4aa7-b7e2-cc2550f6f109",
   "metadata": {},
   "outputs": [
    {
     "data": {
      "text/html": [
       "<div>\n",
       "<style scoped>\n",
       "    .dataframe tbody tr th:only-of-type {\n",
       "        vertical-align: middle;\n",
       "    }\n",
       "\n",
       "    .dataframe tbody tr th {\n",
       "        vertical-align: top;\n",
       "    }\n",
       "\n",
       "    .dataframe thead th {\n",
       "        text-align: right;\n",
       "    }\n",
       "</style>\n",
       "<table border=\"1\" class=\"dataframe\">\n",
       "  <thead>\n",
       "    <tr style=\"text-align: right;\">\n",
       "      <th></th>\n",
       "      <th>Personeller</th>\n",
       "      <th>Satış Sayısı</th>\n",
       "      <th>Departman</th>\n",
       "    </tr>\n",
       "  </thead>\n",
       "  <tbody>\n",
       "    <tr>\n",
       "      <th>0</th>\n",
       "      <td>Ali</td>\n",
       "      <td>1000.0</td>\n",
       "      <td>Pazarlama</td>\n",
       "    </tr>\n",
       "    <tr>\n",
       "      <th>1</th>\n",
       "      <td>Ayşe</td>\n",
       "      <td>2000.0</td>\n",
       "      <td>Satış</td>\n",
       "    </tr>\n",
       "    <tr>\n",
       "      <th>2</th>\n",
       "      <td>Mert</td>\n",
       "      <td>NaN</td>\n",
       "      <td>IT</td>\n",
       "    </tr>\n",
       "    <tr>\n",
       "      <th>3</th>\n",
       "      <td>Hakan</td>\n",
       "      <td>NaN</td>\n",
       "      <td>Satış</td>\n",
       "    </tr>\n",
       "    <tr>\n",
       "      <th>4</th>\n",
       "      <td>Murat</td>\n",
       "      <td>100.0</td>\n",
       "      <td>İK</td>\n",
       "    </tr>\n",
       "  </tbody>\n",
       "</table>\n",
       "</div>"
      ],
      "text/plain": [
       "  Personeller  Satış Sayısı  Departman\n",
       "0         Ali        1000.0  Pazarlama\n",
       "1        Ayşe        2000.0      Satış\n",
       "2        Mert           NaN         IT\n",
       "3       Hakan           NaN      Satış\n",
       "4       Murat         100.0         İK"
      ]
     },
     "execution_count": 10,
     "metadata": {},
     "output_type": "execute_result"
    }
   ],
   "source": [
    "#RİGHT-JOİN : Sağda verilen tablodaki bütün elemanlar gelir eğer soldaki tabloda karşılığı varsa o yazılır yoksa NaN yazılır.\n",
    "df_merge = pd.merge(dataframe_satislar,dataframe_personel,on=\"Personeller\",how=\"right\")\n",
    "df_merge"
   ]
  },
  {
   "cell_type": "code",
   "execution_count": 12,
   "id": "b38a2eb8-98fd-4634-b8a0-f60f97de46f5",
   "metadata": {},
   "outputs": [
    {
     "data": {
      "text/html": [
       "<div>\n",
       "<style scoped>\n",
       "    .dataframe tbody tr th:only-of-type {\n",
       "        vertical-align: middle;\n",
       "    }\n",
       "\n",
       "    .dataframe tbody tr th {\n",
       "        vertical-align: top;\n",
       "    }\n",
       "\n",
       "    .dataframe thead th {\n",
       "        text-align: right;\n",
       "    }\n",
       "</style>\n",
       "<table border=\"1\" class=\"dataframe\">\n",
       "  <thead>\n",
       "    <tr style=\"text-align: right;\">\n",
       "      <th></th>\n",
       "      <th>Personeller</th>\n",
       "      <th>Satış Sayısı</th>\n",
       "      <th>Departman</th>\n",
       "    </tr>\n",
       "  </thead>\n",
       "  <tbody>\n",
       "    <tr>\n",
       "      <th>0</th>\n",
       "      <td>Ali</td>\n",
       "      <td>1000.0</td>\n",
       "      <td>Pazarlama</td>\n",
       "    </tr>\n",
       "    <tr>\n",
       "      <th>1</th>\n",
       "      <td>Ayşe</td>\n",
       "      <td>2000.0</td>\n",
       "      <td>Satış</td>\n",
       "    </tr>\n",
       "    <tr>\n",
       "      <th>2</th>\n",
       "      <td>Fatma</td>\n",
       "      <td>1500.0</td>\n",
       "      <td>NaN</td>\n",
       "    </tr>\n",
       "    <tr>\n",
       "      <th>3</th>\n",
       "      <td>Hakan</td>\n",
       "      <td>NaN</td>\n",
       "      <td>Satış</td>\n",
       "    </tr>\n",
       "    <tr>\n",
       "      <th>4</th>\n",
       "      <td>Mahsun</td>\n",
       "      <td>500.0</td>\n",
       "      <td>NaN</td>\n",
       "    </tr>\n",
       "    <tr>\n",
       "      <th>5</th>\n",
       "      <td>Mert</td>\n",
       "      <td>NaN</td>\n",
       "      <td>IT</td>\n",
       "    </tr>\n",
       "    <tr>\n",
       "      <th>6</th>\n",
       "      <td>Murat</td>\n",
       "      <td>100.0</td>\n",
       "      <td>İK</td>\n",
       "    </tr>\n",
       "  </tbody>\n",
       "</table>\n",
       "</div>"
      ],
      "text/plain": [
       "  Personeller  Satış Sayısı  Departman\n",
       "0         Ali        1000.0  Pazarlama\n",
       "1        Ayşe        2000.0      Satış\n",
       "2       Fatma        1500.0        NaN\n",
       "3       Hakan           NaN      Satış\n",
       "4      Mahsun         500.0        NaN\n",
       "5        Mert           NaN         IT\n",
       "6       Murat         100.0         İK"
      ]
     },
     "execution_count": 12,
     "metadata": {},
     "output_type": "execute_result"
    }
   ],
   "source": [
    "#OUTER-JOİN : Her iki tabloda bulunan bütün elemanlar gelir karşılığı olmayan her kutucuğa NaN yazılır.\n",
    "df_merge = pd.merge(dataframe_satislar,dataframe_personel,on=\"Personeller\",how=\"outer\")\n",
    "df_merge"
   ]
  },
  {
   "cell_type": "code",
   "execution_count": 20,
   "id": "9ab316ba-6cb1-479f-a6c6-da8589e7c5fb",
   "metadata": {},
   "outputs": [
    {
     "data": {
      "text/html": [
       "<div>\n",
       "<style scoped>\n",
       "    .dataframe tbody tr th:only-of-type {\n",
       "        vertical-align: middle;\n",
       "    }\n",
       "\n",
       "    .dataframe tbody tr th {\n",
       "        vertical-align: top;\n",
       "    }\n",
       "\n",
       "    .dataframe thead th {\n",
       "        text-align: right;\n",
       "    }\n",
       "</style>\n",
       "<table border=\"1\" class=\"dataframe\">\n",
       "  <thead>\n",
       "    <tr style=\"text-align: right;\">\n",
       "      <th></th>\n",
       "      <th>Personeller</th>\n",
       "      <th>Departman</th>\n",
       "      <th>Satış Sayısı</th>\n",
       "    </tr>\n",
       "  </thead>\n",
       "  <tbody>\n",
       "    <tr>\n",
       "      <th>0</th>\n",
       "      <td>Ali</td>\n",
       "      <td>Pazarlama</td>\n",
       "      <td>NaN</td>\n",
       "    </tr>\n",
       "    <tr>\n",
       "      <th>1</th>\n",
       "      <td>Ayşe</td>\n",
       "      <td>Satış</td>\n",
       "      <td>NaN</td>\n",
       "    </tr>\n",
       "    <tr>\n",
       "      <th>2</th>\n",
       "      <td>Mert</td>\n",
       "      <td>IT</td>\n",
       "      <td>NaN</td>\n",
       "    </tr>\n",
       "    <tr>\n",
       "      <th>3</th>\n",
       "      <td>Hakan</td>\n",
       "      <td>Satış</td>\n",
       "      <td>NaN</td>\n",
       "    </tr>\n",
       "    <tr>\n",
       "      <th>4</th>\n",
       "      <td>Murat</td>\n",
       "      <td>İK</td>\n",
       "      <td>NaN</td>\n",
       "    </tr>\n",
       "    <tr>\n",
       "      <th>0</th>\n",
       "      <td>Ali</td>\n",
       "      <td>NaN</td>\n",
       "      <td>1000.0</td>\n",
       "    </tr>\n",
       "    <tr>\n",
       "      <th>1</th>\n",
       "      <td>Ayşe</td>\n",
       "      <td>NaN</td>\n",
       "      <td>2000.0</td>\n",
       "    </tr>\n",
       "    <tr>\n",
       "      <th>2</th>\n",
       "      <td>Fatma</td>\n",
       "      <td>NaN</td>\n",
       "      <td>1500.0</td>\n",
       "    </tr>\n",
       "    <tr>\n",
       "      <th>3</th>\n",
       "      <td>Mahsun</td>\n",
       "      <td>NaN</td>\n",
       "      <td>500.0</td>\n",
       "    </tr>\n",
       "    <tr>\n",
       "      <th>4</th>\n",
       "      <td>Murat</td>\n",
       "      <td>NaN</td>\n",
       "      <td>100.0</td>\n",
       "    </tr>\n",
       "  </tbody>\n",
       "</table>\n",
       "</div>"
      ],
      "text/plain": [
       "  Personeller  Departman  Satış Sayısı\n",
       "0         Ali  Pazarlama           NaN\n",
       "1        Ayşe      Satış           NaN\n",
       "2        Mert         IT           NaN\n",
       "3       Hakan      Satış           NaN\n",
       "4       Murat         İK           NaN\n",
       "0         Ali        NaN        1000.0\n",
       "1        Ayşe        NaN        2000.0\n",
       "2       Fatma        NaN        1500.0\n",
       "3      Mahsun        NaN         500.0\n",
       "4       Murat        NaN         100.0"
      ]
     },
     "execution_count": 20,
     "metadata": {},
     "output_type": "execute_result"
    }
   ],
   "source": [
    "#Default : İki tabloyu alt alta ekler.\n",
    "df_concat = pd.concat([dataframe_personel,dataframe_satislar])\n",
    "df_concat"
   ]
  },
  {
   "cell_type": "code",
   "execution_count": 21,
   "id": "f397a17e-c1c4-4c05-9499-e55d417aa335",
   "metadata": {},
   "outputs": [
    {
     "data": {
      "text/html": [
       "<div>\n",
       "<style scoped>\n",
       "    .dataframe tbody tr th:only-of-type {\n",
       "        vertical-align: middle;\n",
       "    }\n",
       "\n",
       "    .dataframe tbody tr th {\n",
       "        vertical-align: top;\n",
       "    }\n",
       "\n",
       "    .dataframe thead th {\n",
       "        text-align: right;\n",
       "    }\n",
       "</style>\n",
       "<table border=\"1\" class=\"dataframe\">\n",
       "  <thead>\n",
       "    <tr style=\"text-align: right;\">\n",
       "      <th></th>\n",
       "      <th>Personeller</th>\n",
       "      <th>Departman</th>\n",
       "      <th>Satış Sayısı</th>\n",
       "    </tr>\n",
       "  </thead>\n",
       "  <tbody>\n",
       "    <tr>\n",
       "      <th>0</th>\n",
       "      <td>Ali</td>\n",
       "      <td>Pazarlama</td>\n",
       "      <td>0.0</td>\n",
       "    </tr>\n",
       "    <tr>\n",
       "      <th>1</th>\n",
       "      <td>Ayşe</td>\n",
       "      <td>Satış</td>\n",
       "      <td>0.0</td>\n",
       "    </tr>\n",
       "    <tr>\n",
       "      <th>2</th>\n",
       "      <td>Mert</td>\n",
       "      <td>IT</td>\n",
       "      <td>0.0</td>\n",
       "    </tr>\n",
       "    <tr>\n",
       "      <th>3</th>\n",
       "      <td>Hakan</td>\n",
       "      <td>Satış</td>\n",
       "      <td>0.0</td>\n",
       "    </tr>\n",
       "    <tr>\n",
       "      <th>4</th>\n",
       "      <td>Murat</td>\n",
       "      <td>İK</td>\n",
       "      <td>0.0</td>\n",
       "    </tr>\n",
       "    <tr>\n",
       "      <th>0</th>\n",
       "      <td>Ali</td>\n",
       "      <td>0</td>\n",
       "      <td>1000.0</td>\n",
       "    </tr>\n",
       "    <tr>\n",
       "      <th>1</th>\n",
       "      <td>Ayşe</td>\n",
       "      <td>0</td>\n",
       "      <td>2000.0</td>\n",
       "    </tr>\n",
       "    <tr>\n",
       "      <th>2</th>\n",
       "      <td>Fatma</td>\n",
       "      <td>0</td>\n",
       "      <td>1500.0</td>\n",
       "    </tr>\n",
       "    <tr>\n",
       "      <th>3</th>\n",
       "      <td>Mahsun</td>\n",
       "      <td>0</td>\n",
       "      <td>500.0</td>\n",
       "    </tr>\n",
       "    <tr>\n",
       "      <th>4</th>\n",
       "      <td>Murat</td>\n",
       "      <td>0</td>\n",
       "      <td>100.0</td>\n",
       "    </tr>\n",
       "  </tbody>\n",
       "</table>\n",
       "</div>"
      ],
      "text/plain": [
       "  Personeller  Departman  Satış Sayısı\n",
       "0         Ali  Pazarlama           0.0\n",
       "1        Ayşe      Satış           0.0\n",
       "2        Mert         IT           0.0\n",
       "3       Hakan      Satış           0.0\n",
       "4       Murat         İK           0.0\n",
       "0         Ali          0        1000.0\n",
       "1        Ayşe          0        2000.0\n",
       "2       Fatma          0        1500.0\n",
       "3      Mahsun          0         500.0\n",
       "4       Murat          0         100.0"
      ]
     },
     "execution_count": 21,
     "metadata": {},
     "output_type": "execute_result"
    }
   ],
   "source": [
    "#Fillna ile NaN değerler yerine 0 yerleştirir.İnplace ise ana dataframe üzerinde değişikl\n",
    "df_concat.fillna(0, inplace=True)"
   ]
  },
  {
   "cell_type": "code",
   "execution_count": 22,
   "id": "99664fb3-b45f-4c14-9db7-8cfa01f7d56c",
   "metadata": {},
   "outputs": [
    {
     "data": {
      "text/html": [
       "<div>\n",
       "<style scoped>\n",
       "    .dataframe tbody tr th:only-of-type {\n",
       "        vertical-align: middle;\n",
       "    }\n",
       "\n",
       "    .dataframe tbody tr th {\n",
       "        vertical-align: top;\n",
       "    }\n",
       "\n",
       "    .dataframe thead th {\n",
       "        text-align: right;\n",
       "    }\n",
       "</style>\n",
       "<table border=\"1\" class=\"dataframe\">\n",
       "  <thead>\n",
       "    <tr style=\"text-align: right;\">\n",
       "      <th></th>\n",
       "      <th>Personeller</th>\n",
       "      <th>Departman</th>\n",
       "      <th>Personeller</th>\n",
       "      <th>Satış Sayısı</th>\n",
       "    </tr>\n",
       "  </thead>\n",
       "  <tbody>\n",
       "    <tr>\n",
       "      <th>0</th>\n",
       "      <td>Ali</td>\n",
       "      <td>Pazarlama</td>\n",
       "      <td>Ali</td>\n",
       "      <td>1000</td>\n",
       "    </tr>\n",
       "    <tr>\n",
       "      <th>1</th>\n",
       "      <td>Ayşe</td>\n",
       "      <td>Satış</td>\n",
       "      <td>Ayşe</td>\n",
       "      <td>2000</td>\n",
       "    </tr>\n",
       "    <tr>\n",
       "      <th>2</th>\n",
       "      <td>Mert</td>\n",
       "      <td>IT</td>\n",
       "      <td>Fatma</td>\n",
       "      <td>1500</td>\n",
       "    </tr>\n",
       "    <tr>\n",
       "      <th>3</th>\n",
       "      <td>Hakan</td>\n",
       "      <td>Satış</td>\n",
       "      <td>Mahsun</td>\n",
       "      <td>500</td>\n",
       "    </tr>\n",
       "    <tr>\n",
       "      <th>4</th>\n",
       "      <td>Murat</td>\n",
       "      <td>İK</td>\n",
       "      <td>Murat</td>\n",
       "      <td>100</td>\n",
       "    </tr>\n",
       "  </tbody>\n",
       "</table>\n",
       "</div>"
      ],
      "text/plain": [
       "  Personeller  Departman Personeller  Satış Sayısı\n",
       "0         Ali  Pazarlama         Ali          1000\n",
       "1        Ayşe      Satış        Ayşe          2000\n",
       "2        Mert         IT       Fatma          1500\n",
       "3       Hakan      Satış      Mahsun           500\n",
       "4       Murat         İK       Murat           100"
      ]
     },
     "execution_count": 22,
     "metadata": {},
     "output_type": "execute_result"
    }
   ],
   "source": [
    "#Axis=1 : İki tabloyu yan yana ekler.\n",
    "df_concat = pd.concat([dataframe_personel,dataframe_satislar],axis=1)\n",
    "df_concat"
   ]
  },
  {
   "cell_type": "markdown",
   "id": "8735eb8f-9c1e-448c-bdca-d99f911d88cc",
   "metadata": {
    "jp-MarkdownHeadingCollapsed": true
   },
   "source": [
    "# Sort_Values Fonksiyonu"
   ]
  },
  {
   "cell_type": "markdown",
   "id": "459c7f55-dcb3-40ff-a4d2-0f77cae24f7f",
   "metadata": {},
   "source": [
    "-Sort_Values fonksiyonu ise dataframe verilerini belirlenen sütuna göre sıralar."
   ]
  },
  {
   "cell_type": "code",
   "execution_count": 41,
   "id": "9eb88cef-019b-4842-b768-55334c7c75be",
   "metadata": {},
   "outputs": [
    {
     "data": {
      "text/html": [
       "<div>\n",
       "<style scoped>\n",
       "    .dataframe tbody tr th:only-of-type {\n",
       "        vertical-align: middle;\n",
       "    }\n",
       "\n",
       "    .dataframe tbody tr th {\n",
       "        vertical-align: top;\n",
       "    }\n",
       "\n",
       "    .dataframe thead th {\n",
       "        text-align: right;\n",
       "    }\n",
       "</style>\n",
       "<table border=\"1\" class=\"dataframe\">\n",
       "  <thead>\n",
       "    <tr style=\"text-align: right;\">\n",
       "      <th></th>\n",
       "      <th>Sales Person</th>\n",
       "      <th>Country</th>\n",
       "      <th>Product</th>\n",
       "      <th>Date</th>\n",
       "      <th>Amount</th>\n",
       "      <th>Boxes Shipped</th>\n",
       "    </tr>\n",
       "  </thead>\n",
       "  <tbody>\n",
       "    <tr>\n",
       "      <th>146</th>\n",
       "      <td>Brien Boise</td>\n",
       "      <td>New Zealand</td>\n",
       "      <td>Smooth Sliky Salty</td>\n",
       "      <td>18-Jan-22</td>\n",
       "      <td>$1,015</td>\n",
       "      <td>27</td>\n",
       "    </tr>\n",
       "    <tr>\n",
       "      <th>919</th>\n",
       "      <td>Wilone O'Kielt</td>\n",
       "      <td>USA</td>\n",
       "      <td>Drinking Coco</td>\n",
       "      <td>14-Jun-22</td>\n",
       "      <td>$1,029</td>\n",
       "      <td>98</td>\n",
       "    </tr>\n",
       "    <tr>\n",
       "      <th>1020</th>\n",
       "      <td>Beverie Moffet</td>\n",
       "      <td>India</td>\n",
       "      <td>Organic Choco Syrup</td>\n",
       "      <td>23-Jun-22</td>\n",
       "      <td>$1,036</td>\n",
       "      <td>20</td>\n",
       "    </tr>\n",
       "    <tr>\n",
       "      <th>169</th>\n",
       "      <td>Ches Bonnell</td>\n",
       "      <td>Australia</td>\n",
       "      <td>White Choc</td>\n",
       "      <td>02-Mar-22</td>\n",
       "      <td>$1,043</td>\n",
       "      <td>202</td>\n",
       "    </tr>\n",
       "    <tr>\n",
       "      <th>422</th>\n",
       "      <td>Oby Sorrel</td>\n",
       "      <td>Australia</td>\n",
       "      <td>Raspberry Choco</td>\n",
       "      <td>17-Feb-22</td>\n",
       "      <td>$1,043</td>\n",
       "      <td>120</td>\n",
       "    </tr>\n",
       "    <tr>\n",
       "      <th>...</th>\n",
       "      <td>...</td>\n",
       "      <td>...</td>\n",
       "      <td>...</td>\n",
       "      <td>...</td>\n",
       "      <td>...</td>\n",
       "      <td>...</td>\n",
       "    </tr>\n",
       "    <tr>\n",
       "      <th>378</th>\n",
       "      <td>Jan Morforth</td>\n",
       "      <td>USA</td>\n",
       "      <td>Orange Choco</td>\n",
       "      <td>29-Jun-22</td>\n",
       "      <td>$980</td>\n",
       "      <td>146</td>\n",
       "    </tr>\n",
       "    <tr>\n",
       "      <th>364</th>\n",
       "      <td>Van Tuxwell</td>\n",
       "      <td>USA</td>\n",
       "      <td>Caramel Stuffed Bars</td>\n",
       "      <td>14-Feb-22</td>\n",
       "      <td>$987</td>\n",
       "      <td>21</td>\n",
       "    </tr>\n",
       "    <tr>\n",
       "      <th>974</th>\n",
       "      <td>Karlen McCaffrey</td>\n",
       "      <td>Australia</td>\n",
       "      <td>Raspberry Choco</td>\n",
       "      <td>23-Aug-22</td>\n",
       "      <td>$994</td>\n",
       "      <td>57</td>\n",
       "    </tr>\n",
       "    <tr>\n",
       "      <th>414</th>\n",
       "      <td>Rafaelita Blaksland</td>\n",
       "      <td>Australia</td>\n",
       "      <td>Organic Choco Syrup</td>\n",
       "      <td>26-Jan-22</td>\n",
       "      <td>$994</td>\n",
       "      <td>105</td>\n",
       "    </tr>\n",
       "    <tr>\n",
       "      <th>988</th>\n",
       "      <td>Beverie Moffet</td>\n",
       "      <td>Canada</td>\n",
       "      <td>Drinking Coco</td>\n",
       "      <td>05-Jul-22</td>\n",
       "      <td>$994</td>\n",
       "      <td>118</td>\n",
       "    </tr>\n",
       "  </tbody>\n",
       "</table>\n",
       "<p>1094 rows × 6 columns</p>\n",
       "</div>"
      ],
      "text/plain": [
       "             Sales Person      Country               Product       Date  \\\n",
       "146           Brien Boise  New Zealand    Smooth Sliky Salty  18-Jan-22   \n",
       "919        Wilone O'Kielt          USA         Drinking Coco  14-Jun-22   \n",
       "1020       Beverie Moffet        India   Organic Choco Syrup  23-Jun-22   \n",
       "169          Ches Bonnell    Australia            White Choc  02-Mar-22   \n",
       "422            Oby Sorrel    Australia       Raspberry Choco  17-Feb-22   \n",
       "...                   ...          ...                   ...        ...   \n",
       "378          Jan Morforth          USA          Orange Choco  29-Jun-22   \n",
       "364           Van Tuxwell          USA  Caramel Stuffed Bars  14-Feb-22   \n",
       "974      Karlen McCaffrey    Australia       Raspberry Choco  23-Aug-22   \n",
       "414   Rafaelita Blaksland    Australia   Organic Choco Syrup  26-Jan-22   \n",
       "988        Beverie Moffet       Canada         Drinking Coco  05-Jul-22   \n",
       "\n",
       "       Amount  Boxes Shipped  \n",
       "146   $1,015              27  \n",
       "919   $1,029              98  \n",
       "1020  $1,036              20  \n",
       "169   $1,043             202  \n",
       "422   $1,043             120  \n",
       "...       ...            ...  \n",
       "378     $980             146  \n",
       "364     $987              21  \n",
       "974     $994              57  \n",
       "414     $994             105  \n",
       "988     $994             118  \n",
       "\n",
       "[1094 rows x 6 columns]"
      ]
     },
     "execution_count": 41,
     "metadata": {},
     "output_type": "execute_result"
    }
   ],
   "source": [
    "dataset.sort_values(by=[\"Amount\"])"
   ]
  },
  {
   "cell_type": "code",
   "execution_count": 44,
   "id": "2a522726-ddae-43b0-92ff-7612d6cb1847",
   "metadata": {},
   "outputs": [
    {
     "data": {
      "text/html": [
       "<div>\n",
       "<style scoped>\n",
       "    .dataframe tbody tr th:only-of-type {\n",
       "        vertical-align: middle;\n",
       "    }\n",
       "\n",
       "    .dataframe tbody tr th {\n",
       "        vertical-align: top;\n",
       "    }\n",
       "\n",
       "    .dataframe thead th {\n",
       "        text-align: right;\n",
       "    }\n",
       "</style>\n",
       "<table border=\"1\" class=\"dataframe\">\n",
       "  <thead>\n",
       "    <tr style=\"text-align: right;\">\n",
       "      <th></th>\n",
       "      <th>Sales Person</th>\n",
       "      <th>Country</th>\n",
       "      <th>Product</th>\n",
       "      <th>Date</th>\n",
       "      <th>Amount</th>\n",
       "      <th>Boxes Shipped</th>\n",
       "    </tr>\n",
       "  </thead>\n",
       "  <tbody>\n",
       "    <tr>\n",
       "      <th>974</th>\n",
       "      <td>Karlen McCaffrey</td>\n",
       "      <td>Australia</td>\n",
       "      <td>Raspberry Choco</td>\n",
       "      <td>23-Aug-22</td>\n",
       "      <td>$994</td>\n",
       "      <td>57</td>\n",
       "    </tr>\n",
       "    <tr>\n",
       "      <th>414</th>\n",
       "      <td>Rafaelita Blaksland</td>\n",
       "      <td>Australia</td>\n",
       "      <td>Organic Choco Syrup</td>\n",
       "      <td>26-Jan-22</td>\n",
       "      <td>$994</td>\n",
       "      <td>105</td>\n",
       "    </tr>\n",
       "    <tr>\n",
       "      <th>988</th>\n",
       "      <td>Beverie Moffet</td>\n",
       "      <td>Canada</td>\n",
       "      <td>Drinking Coco</td>\n",
       "      <td>05-Jul-22</td>\n",
       "      <td>$994</td>\n",
       "      <td>118</td>\n",
       "    </tr>\n",
       "    <tr>\n",
       "      <th>364</th>\n",
       "      <td>Van Tuxwell</td>\n",
       "      <td>USA</td>\n",
       "      <td>Caramel Stuffed Bars</td>\n",
       "      <td>14-Feb-22</td>\n",
       "      <td>$987</td>\n",
       "      <td>21</td>\n",
       "    </tr>\n",
       "    <tr>\n",
       "      <th>378</th>\n",
       "      <td>Jan Morforth</td>\n",
       "      <td>USA</td>\n",
       "      <td>Orange Choco</td>\n",
       "      <td>29-Jun-22</td>\n",
       "      <td>$980</td>\n",
       "      <td>146</td>\n",
       "    </tr>\n",
       "    <tr>\n",
       "      <th>...</th>\n",
       "      <td>...</td>\n",
       "      <td>...</td>\n",
       "      <td>...</td>\n",
       "      <td>...</td>\n",
       "      <td>...</td>\n",
       "      <td>...</td>\n",
       "    </tr>\n",
       "    <tr>\n",
       "      <th>422</th>\n",
       "      <td>Oby Sorrel</td>\n",
       "      <td>Australia</td>\n",
       "      <td>Raspberry Choco</td>\n",
       "      <td>17-Feb-22</td>\n",
       "      <td>$1,043</td>\n",
       "      <td>120</td>\n",
       "    </tr>\n",
       "    <tr>\n",
       "      <th>169</th>\n",
       "      <td>Ches Bonnell</td>\n",
       "      <td>Australia</td>\n",
       "      <td>White Choc</td>\n",
       "      <td>02-Mar-22</td>\n",
       "      <td>$1,043</td>\n",
       "      <td>202</td>\n",
       "    </tr>\n",
       "    <tr>\n",
       "      <th>1020</th>\n",
       "      <td>Beverie Moffet</td>\n",
       "      <td>India</td>\n",
       "      <td>Organic Choco Syrup</td>\n",
       "      <td>23-Jun-22</td>\n",
       "      <td>$1,036</td>\n",
       "      <td>20</td>\n",
       "    </tr>\n",
       "    <tr>\n",
       "      <th>919</th>\n",
       "      <td>Wilone O'Kielt</td>\n",
       "      <td>USA</td>\n",
       "      <td>Drinking Coco</td>\n",
       "      <td>14-Jun-22</td>\n",
       "      <td>$1,029</td>\n",
       "      <td>98</td>\n",
       "    </tr>\n",
       "    <tr>\n",
       "      <th>146</th>\n",
       "      <td>Brien Boise</td>\n",
       "      <td>New Zealand</td>\n",
       "      <td>Smooth Sliky Salty</td>\n",
       "      <td>18-Jan-22</td>\n",
       "      <td>$1,015</td>\n",
       "      <td>27</td>\n",
       "    </tr>\n",
       "  </tbody>\n",
       "</table>\n",
       "<p>1094 rows × 6 columns</p>\n",
       "</div>"
      ],
      "text/plain": [
       "             Sales Person      Country               Product       Date  \\\n",
       "974      Karlen McCaffrey    Australia       Raspberry Choco  23-Aug-22   \n",
       "414   Rafaelita Blaksland    Australia   Organic Choco Syrup  26-Jan-22   \n",
       "988        Beverie Moffet       Canada         Drinking Coco  05-Jul-22   \n",
       "364           Van Tuxwell          USA  Caramel Stuffed Bars  14-Feb-22   \n",
       "378          Jan Morforth          USA          Orange Choco  29-Jun-22   \n",
       "...                   ...          ...                   ...        ...   \n",
       "422            Oby Sorrel    Australia       Raspberry Choco  17-Feb-22   \n",
       "169          Ches Bonnell    Australia            White Choc  02-Mar-22   \n",
       "1020       Beverie Moffet        India   Organic Choco Syrup  23-Jun-22   \n",
       "919        Wilone O'Kielt          USA         Drinking Coco  14-Jun-22   \n",
       "146           Brien Boise  New Zealand    Smooth Sliky Salty  18-Jan-22   \n",
       "\n",
       "       Amount  Boxes Shipped  \n",
       "974     $994              57  \n",
       "414     $994             105  \n",
       "988     $994             118  \n",
       "364     $987              21  \n",
       "378     $980             146  \n",
       "...       ...            ...  \n",
       "422   $1,043             120  \n",
       "169   $1,043             202  \n",
       "1020  $1,036              20  \n",
       "919   $1,029              98  \n",
       "146   $1,015              27  \n",
       "\n",
       "[1094 rows x 6 columns]"
      ]
     },
     "execution_count": 44,
     "metadata": {},
     "output_type": "execute_result"
    }
   ],
   "source": [
    "dataset.sort_values(by=[\"Amount\"],ascending=False)"
   ]
  },
  {
   "cell_type": "markdown",
   "id": "5c4fd972-8b82-4743-90b4-02e09e37e4cc",
   "metadata": {
    "jp-MarkdownHeadingCollapsed": true
   },
   "source": [
    "# GroupBy Fonksiyonu"
   ]
  },
  {
   "cell_type": "markdown",
   "id": "c2b572f4-fc31-4db9-a72e-6e7d31a450e9",
   "metadata": {},
   "source": [
    "-GroupBy fonksiyonu belirli sütuna göre tabloyu gruplandırır."
   ]
  },
  {
   "cell_type": "code",
   "execution_count": 35,
   "id": "79a442c0-bd7e-412d-b67d-632c433ed2f9",
   "metadata": {},
   "outputs": [
    {
     "data": {
      "text/html": [
       "<div>\n",
       "<style scoped>\n",
       "    .dataframe tbody tr th:only-of-type {\n",
       "        vertical-align: middle;\n",
       "    }\n",
       "\n",
       "    .dataframe tbody tr th {\n",
       "        vertical-align: top;\n",
       "    }\n",
       "\n",
       "    .dataframe thead th {\n",
       "        text-align: right;\n",
       "    }\n",
       "</style>\n",
       "<table border=\"1\" class=\"dataframe\">\n",
       "  <thead>\n",
       "    <tr style=\"text-align: right;\">\n",
       "      <th></th>\n",
       "      <th>Sales Person</th>\n",
       "      <th>Product</th>\n",
       "      <th>Date</th>\n",
       "      <th>Amount</th>\n",
       "      <th>Boxes Shipped</th>\n",
       "    </tr>\n",
       "    <tr>\n",
       "      <th>Country</th>\n",
       "      <th></th>\n",
       "      <th></th>\n",
       "      <th></th>\n",
       "      <th></th>\n",
       "      <th></th>\n",
       "    </tr>\n",
       "  </thead>\n",
       "  <tbody>\n",
       "    <tr>\n",
       "      <th>Australia</th>\n",
       "      <td>Jan MorforthGunar CockshootBrien BoiseBeverie ...</td>\n",
       "      <td>Peanut Butter CubesAfter Nines99% Dark &amp; PureO...</td>\n",
       "      <td>27-Apr-2224-Mar-2204-Jul-2226-Jan-2227-Jun-222...</td>\n",
       "      <td>$12,726 $3,080 $2,835 $6,790 $6,888 $7,672 $4,...</td>\n",
       "      <td>32647</td>\n",
       "    </tr>\n",
       "    <tr>\n",
       "      <th>Canada</th>\n",
       "      <td>Mallorie WaberVan TuxwellBeverie MoffetRoddy S...</td>\n",
       "      <td>EclairsOrganic Choco SyrupMilk BarsSpicy Speci...</td>\n",
       "      <td>13-Jan-2214-Feb-2216-Feb-2209-Feb-2211-May-221...</td>\n",
       "      <td>$1,442 $4,067 $8,799 $1,652 $2,163 $4,781 $7,6...</td>\n",
       "      <td>31221</td>\n",
       "    </tr>\n",
       "    <tr>\n",
       "      <th>India</th>\n",
       "      <td>Van TuxwellGigi BohlingVan TuxwellKarlen McCaf...</td>\n",
       "      <td>85% Dark BarsPeanut Butter CubesSmooth Sliky S...</td>\n",
       "      <td>01-Aug-2207-Jul-2206-Jun-2226-Jan-2204-Jul-222...</td>\n",
       "      <td>$7,896 $4,501 $5,376 $168 $2,443 $6,307 $4,382...</td>\n",
       "      <td>29470</td>\n",
       "    </tr>\n",
       "    <tr>\n",
       "      <th>New Zealand</th>\n",
       "      <td>Jehu RudeforthKarlen McCaffreyMarney O'BreenDe...</td>\n",
       "      <td>50% Dark BitesDrinking CocoPeanut Butter Cubes...</td>\n",
       "      <td>20-Apr-2228-Jul-2203-Aug-2205-Jul-2215-Jun-222...</td>\n",
       "      <td>$3,990 $168 $8,379 $9,492 $5,061 $1,722 $147 $...</td>\n",
       "      <td>26580</td>\n",
       "    </tr>\n",
       "    <tr>\n",
       "      <th>UK</th>\n",
       "      <td>Jehu RudeforthJehu RudeforthOby SorrelRafaelit...</td>\n",
       "      <td>Mint Chip ChocoPeanut Butter Cubes99% Dark &amp; P...</td>\n",
       "      <td>04-Jan-2224-Feb-2225-Jan-2213-Jan-2208-Jun-221...</td>\n",
       "      <td>$5,320 $13,685 $13,685 $4,704 $1,085 $3,003 $1...</td>\n",
       "      <td>30265</td>\n",
       "    </tr>\n",
       "    <tr>\n",
       "      <th>USA</th>\n",
       "      <td>Barr FaughnyRoddy SpeechleyGunar CockshootMarn...</td>\n",
       "      <td>Orange ChocoSmooth Sliky SaltySpicy Special Sl...</td>\n",
       "      <td>10-Mar-2205-Apr-2217-Feb-2230-May-2207-Jul-222...</td>\n",
       "      <td>$3,703 $3,017 $1,267 $4,753 $4,025 $9,583 $938...</td>\n",
       "      <td>26824</td>\n",
       "    </tr>\n",
       "  </tbody>\n",
       "</table>\n",
       "</div>"
      ],
      "text/plain": [
       "                                                  Sales Person  \\\n",
       "Country                                                          \n",
       "Australia    Jan MorforthGunar CockshootBrien BoiseBeverie ...   \n",
       "Canada       Mallorie WaberVan TuxwellBeverie MoffetRoddy S...   \n",
       "India        Van TuxwellGigi BohlingVan TuxwellKarlen McCaf...   \n",
       "New Zealand  Jehu RudeforthKarlen McCaffreyMarney O'BreenDe...   \n",
       "UK           Jehu RudeforthJehu RudeforthOby SorrelRafaelit...   \n",
       "USA          Barr FaughnyRoddy SpeechleyGunar CockshootMarn...   \n",
       "\n",
       "                                                       Product  \\\n",
       "Country                                                          \n",
       "Australia    Peanut Butter CubesAfter Nines99% Dark & PureO...   \n",
       "Canada       EclairsOrganic Choco SyrupMilk BarsSpicy Speci...   \n",
       "India        85% Dark BarsPeanut Butter CubesSmooth Sliky S...   \n",
       "New Zealand  50% Dark BitesDrinking CocoPeanut Butter Cubes...   \n",
       "UK           Mint Chip ChocoPeanut Butter Cubes99% Dark & P...   \n",
       "USA          Orange ChocoSmooth Sliky SaltySpicy Special Sl...   \n",
       "\n",
       "                                                          Date  \\\n",
       "Country                                                          \n",
       "Australia    27-Apr-2224-Mar-2204-Jul-2226-Jan-2227-Jun-222...   \n",
       "Canada       13-Jan-2214-Feb-2216-Feb-2209-Feb-2211-May-221...   \n",
       "India        01-Aug-2207-Jul-2206-Jun-2226-Jan-2204-Jul-222...   \n",
       "New Zealand  20-Apr-2228-Jul-2203-Aug-2205-Jul-2215-Jun-222...   \n",
       "UK           04-Jan-2224-Feb-2225-Jan-2213-Jan-2208-Jun-221...   \n",
       "USA          10-Mar-2205-Apr-2217-Feb-2230-May-2207-Jul-222...   \n",
       "\n",
       "                                                        Amount  Boxes Shipped  \n",
       "Country                                                                        \n",
       "Australia    $12,726 $3,080 $2,835 $6,790 $6,888 $7,672 $4,...          32647  \n",
       "Canada       $1,442 $4,067 $8,799 $1,652 $2,163 $4,781 $7,6...          31221  \n",
       "India        $7,896 $4,501 $5,376 $168 $2,443 $6,307 $4,382...          29470  \n",
       "New Zealand  $3,990 $168 $8,379 $9,492 $5,061 $1,722 $147 $...          26580  \n",
       "UK           $5,320 $13,685 $13,685 $4,704 $1,085 $3,003 $1...          30265  \n",
       "USA          $3,703 $3,017 $1,267 $4,753 $4,025 $9,583 $938...          26824  "
      ]
     },
     "execution_count": 35,
     "metadata": {},
     "output_type": "execute_result"
    }
   ],
   "source": [
    "countryGroupBy = dataset.groupby(\"Country\")\n",
    "countryGroupBy.sum()"
   ]
  },
  {
   "cell_type": "markdown",
   "id": "68031a84-d7ac-4916-80d5-e2d6951dabe1",
   "metadata": {
    "jp-MarkdownHeadingCollapsed": true
   },
   "source": [
    "# Pivot_Table Fonksiyonu"
   ]
  },
  {
   "cell_type": "markdown",
   "id": "c43c9a2d-f53e-44a7-8a5e-83daf96025f0",
   "metadata": {},
   "source": [
    "-Pivot_Table fonksiyonu verilen tablodaki verileri istenen index, columns, values değerlerine göre yeni bir tablo oluşturur."
   ]
  },
  {
   "cell_type": "code",
   "execution_count": 45,
   "id": "70e91a7f-ce57-43ee-9164-dc469e439e6e",
   "metadata": {},
   "outputs": [
    {
     "data": {
      "text/html": [
       "<div>\n",
       "<style scoped>\n",
       "    .dataframe tbody tr th:only-of-type {\n",
       "        vertical-align: middle;\n",
       "    }\n",
       "\n",
       "    .dataframe tbody tr th {\n",
       "        vertical-align: top;\n",
       "    }\n",
       "\n",
       "    .dataframe thead th {\n",
       "        text-align: right;\n",
       "    }\n",
       "</style>\n",
       "<table border=\"1\" class=\"dataframe\">\n",
       "  <thead>\n",
       "    <tr style=\"text-align: right;\">\n",
       "      <th></th>\n",
       "      <th>Month</th>\n",
       "      <th>State</th>\n",
       "      <th>moisture</th>\n",
       "    </tr>\n",
       "  </thead>\n",
       "  <tbody>\n",
       "    <tr>\n",
       "      <th>0</th>\n",
       "      <td>January</td>\n",
       "      <td>New York</td>\n",
       "      <td>20</td>\n",
       "    </tr>\n",
       "    <tr>\n",
       "      <th>1</th>\n",
       "      <td>February</td>\n",
       "      <td>New York</td>\n",
       "      <td>25</td>\n",
       "    </tr>\n",
       "    <tr>\n",
       "      <th>2</th>\n",
       "      <td>March</td>\n",
       "      <td>New York</td>\n",
       "      <td>65</td>\n",
       "    </tr>\n",
       "    <tr>\n",
       "      <th>3</th>\n",
       "      <td>January</td>\n",
       "      <td>Texas</td>\n",
       "      <td>34</td>\n",
       "    </tr>\n",
       "    <tr>\n",
       "      <th>4</th>\n",
       "      <td>February</td>\n",
       "      <td>Texas</td>\n",
       "      <td>56</td>\n",
       "    </tr>\n",
       "    <tr>\n",
       "      <th>5</th>\n",
       "      <td>March</td>\n",
       "      <td>Texas</td>\n",
       "      <td>85</td>\n",
       "    </tr>\n",
       "    <tr>\n",
       "      <th>6</th>\n",
       "      <td>January</td>\n",
       "      <td>Washington</td>\n",
       "      <td>21</td>\n",
       "    </tr>\n",
       "    <tr>\n",
       "      <th>7</th>\n",
       "      <td>February</td>\n",
       "      <td>Washington</td>\n",
       "      <td>56</td>\n",
       "    </tr>\n",
       "    <tr>\n",
       "      <th>8</th>\n",
       "      <td>March</td>\n",
       "      <td>Washington</td>\n",
       "      <td>79</td>\n",
       "    </tr>\n",
       "  </tbody>\n",
       "</table>\n",
       "</div>"
      ],
      "text/plain": [
       "      Month       State  moisture\n",
       "0   January    New York        20\n",
       "1  February    New York        25\n",
       "2     March    New York        65\n",
       "3   January       Texas        34\n",
       "4  February       Texas        56\n",
       "5     March       Texas        85\n",
       "6   January  Washington        21\n",
       "7  February  Washington        56\n",
       "8     March  Washington        79"
      ]
     },
     "execution_count": 45,
     "metadata": {},
     "output_type": "execute_result"
    }
   ],
   "source": [
    "df = pd.DataFrame({'Month': ['January','February','March','January','February','March','January','February','March'],'State':['New York','New York','New York','Texas','Texas','Texas','Washington','Washington','Washington'],\n",
    "'moisture': [20,25,65,34,56,85,21,56,79]})\n",
    "df"
   ]
  },
  {
   "cell_type": "code",
   "execution_count": 46,
   "id": "46a42013-0b6b-41a9-9c66-727a377045ac",
   "metadata": {},
   "outputs": [
    {
     "data": {
      "text/html": [
       "<div>\n",
       "<style scoped>\n",
       "    .dataframe tbody tr th:only-of-type {\n",
       "        vertical-align: middle;\n",
       "    }\n",
       "\n",
       "    .dataframe tbody tr th {\n",
       "        vertical-align: top;\n",
       "    }\n",
       "\n",
       "    .dataframe thead th {\n",
       "        text-align: right;\n",
       "    }\n",
       "</style>\n",
       "<table border=\"1\" class=\"dataframe\">\n",
       "  <thead>\n",
       "    <tr style=\"text-align: right;\">\n",
       "      <th>State</th>\n",
       "      <th>New York</th>\n",
       "      <th>Texas</th>\n",
       "      <th>Washington</th>\n",
       "    </tr>\n",
       "    <tr>\n",
       "      <th>Month</th>\n",
       "      <th></th>\n",
       "      <th></th>\n",
       "      <th></th>\n",
       "    </tr>\n",
       "  </thead>\n",
       "  <tbody>\n",
       "    <tr>\n",
       "      <th>February</th>\n",
       "      <td>25.0</td>\n",
       "      <td>56.0</td>\n",
       "      <td>56.0</td>\n",
       "    </tr>\n",
       "    <tr>\n",
       "      <th>January</th>\n",
       "      <td>20.0</td>\n",
       "      <td>34.0</td>\n",
       "      <td>21.0</td>\n",
       "    </tr>\n",
       "    <tr>\n",
       "      <th>March</th>\n",
       "      <td>65.0</td>\n",
       "      <td>85.0</td>\n",
       "      <td>79.0</td>\n",
       "    </tr>\n",
       "  </tbody>\n",
       "</table>\n",
       "</div>"
      ],
      "text/plain": [
       "State     New York  Texas  Washington\n",
       "Month                                \n",
       "February      25.0   56.0        56.0\n",
       "January       20.0   34.0        21.0\n",
       "March         65.0   85.0        79.0"
      ]
     },
     "execution_count": 46,
     "metadata": {},
     "output_type": "execute_result"
    }
   ],
   "source": [
    "df.pivot_table(index = 'Month', columns = 'State', values = 'moisture')"
   ]
  },
  {
   "cell_type": "markdown",
   "id": "a4dddd35-dd73-478f-81cc-280122f2ecb0",
   "metadata": {
    "jp-MarkdownHeadingCollapsed": true
   },
   "source": [
    "# Apply Fonksiyonu"
   ]
  },
  {
   "cell_type": "markdown",
   "id": "a1b2c4cc-b950-4ef2-8541-8c4d86f7400c",
   "metadata": {},
   "source": [
    "-Apply fonksiyonu tabloda belirli sütuna belirli bir fonksiyonu uygular."
   ]
  },
  {
   "cell_type": "code",
   "execution_count": 24,
   "id": "ceb19b43-ba93-44dd-9d16-96bfc8255693",
   "metadata": {},
   "outputs": [
    {
     "data": {
      "text/html": [
       "<div>\n",
       "<style scoped>\n",
       "    .dataframe tbody tr th:only-of-type {\n",
       "        vertical-align: middle;\n",
       "    }\n",
       "\n",
       "    .dataframe tbody tr th {\n",
       "        vertical-align: top;\n",
       "    }\n",
       "\n",
       "    .dataframe thead th {\n",
       "        text-align: right;\n",
       "    }\n",
       "</style>\n",
       "<table border=\"1\" class=\"dataframe\">\n",
       "  <thead>\n",
       "    <tr style=\"text-align: right;\">\n",
       "      <th></th>\n",
       "      <th>Personel</th>\n",
       "      <th>Maaş</th>\n",
       "    </tr>\n",
       "  </thead>\n",
       "  <tbody>\n",
       "    <tr>\n",
       "      <th>0</th>\n",
       "      <td>Bayram</td>\n",
       "      <td>22.4</td>\n",
       "    </tr>\n",
       "    <tr>\n",
       "      <th>1</th>\n",
       "      <td>Mert</td>\n",
       "      <td>22.4</td>\n",
       "    </tr>\n",
       "    <tr>\n",
       "      <th>2</th>\n",
       "      <td>Mahsun</td>\n",
       "      <td>15.0</td>\n",
       "    </tr>\n",
       "  </tbody>\n",
       "</table>\n",
       "</div>"
      ],
      "text/plain": [
       "  Personel  Maaş\n",
       "0   Bayram  22.4\n",
       "1     Mert  22.4\n",
       "2   Mahsun  15.0"
      ]
     },
     "execution_count": 24,
     "metadata": {},
     "output_type": "execute_result"
    }
   ],
   "source": [
    "dataframe_personel = pd.DataFrame({\n",
    "    \"Personel\":[\"Bayram\",\"Mert\",\"Mahsun\"],\n",
    "    \"Maaş\":[22.400,22.400,15.000]\n",
    "})\n",
    "dataframe_personel"
   ]
  },
  {
   "cell_type": "code",
   "execution_count": 25,
   "id": "78e2f392-9979-4e42-9c3c-0e5ab670e39f",
   "metadata": {},
   "outputs": [
    {
     "data": {
      "text/html": [
       "<div>\n",
       "<style scoped>\n",
       "    .dataframe tbody tr th:only-of-type {\n",
       "        vertical-align: middle;\n",
       "    }\n",
       "\n",
       "    .dataframe tbody tr th {\n",
       "        vertical-align: top;\n",
       "    }\n",
       "\n",
       "    .dataframe thead th {\n",
       "        text-align: right;\n",
       "    }\n",
       "</style>\n",
       "<table border=\"1\" class=\"dataframe\">\n",
       "  <thead>\n",
       "    <tr style=\"text-align: right;\">\n",
       "      <th></th>\n",
       "      <th>Personel</th>\n",
       "      <th>Maaş</th>\n",
       "      <th>Yeni Maaş</th>\n",
       "    </tr>\n",
       "  </thead>\n",
       "  <tbody>\n",
       "    <tr>\n",
       "      <th>0</th>\n",
       "      <td>Bayram</td>\n",
       "      <td>22.4</td>\n",
       "      <td>26.88</td>\n",
       "    </tr>\n",
       "    <tr>\n",
       "      <th>1</th>\n",
       "      <td>Mert</td>\n",
       "      <td>22.4</td>\n",
       "      <td>26.88</td>\n",
       "    </tr>\n",
       "    <tr>\n",
       "      <th>2</th>\n",
       "      <td>Mahsun</td>\n",
       "      <td>15.0</td>\n",
       "      <td>18.00</td>\n",
       "    </tr>\n",
       "  </tbody>\n",
       "</table>\n",
       "</div>"
      ],
      "text/plain": [
       "  Personel  Maaş  Yeni Maaş\n",
       "0   Bayram  22.4      26.88\n",
       "1     Mert  22.4      26.88\n",
       "2   Mahsun  15.0      18.00"
      ]
     },
     "execution_count": 25,
     "metadata": {},
     "output_type": "execute_result"
    }
   ],
   "source": [
    "def zam_yap(maas,zam_orani=1.2):\n",
    "    return maas*zam_orani\n",
    "\n",
    "dataframe_personel[\"Yeni Maaş\"] = dataframe_personel[\"Maaş\"].apply(zam_yap)\n",
    "dataframe_personel\n",
    "    "
   ]
  },
  {
   "cell_type": "markdown",
   "id": "90d59bc9-5b78-4700-9a8d-08eab9db9065",
   "metadata": {
    "jp-MarkdownHeadingCollapsed": true
   },
   "source": [
    "# Map Fonksiyonu"
   ]
  },
  {
   "cell_type": "markdown",
   "id": "de886f08-84f9-42c0-8cd8-5e39d349bfba",
   "metadata": {},
   "source": [
    "-Map fonksiyonu tablodaki belirli sütunları başka sütunlarla değiştirmek için kullanılır."
   ]
  },
  {
   "cell_type": "code",
   "execution_count": 30,
   "id": "031bee79-66a2-4976-b9c0-c2539343e458",
   "metadata": {},
   "outputs": [
    {
     "data": {
      "text/html": [
       "<div>\n",
       "<style scoped>\n",
       "    .dataframe tbody tr th:only-of-type {\n",
       "        vertical-align: middle;\n",
       "    }\n",
       "\n",
       "    .dataframe tbody tr th {\n",
       "        vertical-align: top;\n",
       "    }\n",
       "\n",
       "    .dataframe thead th {\n",
       "        text-align: right;\n",
       "    }\n",
       "</style>\n",
       "<table border=\"1\" class=\"dataframe\">\n",
       "  <thead>\n",
       "    <tr style=\"text-align: right;\">\n",
       "      <th></th>\n",
       "      <th>Personel</th>\n",
       "      <th>Departman</th>\n",
       "    </tr>\n",
       "  </thead>\n",
       "  <tbody>\n",
       "    <tr>\n",
       "      <th>0</th>\n",
       "      <td>Ahmet</td>\n",
       "      <td>IT</td>\n",
       "    </tr>\n",
       "    <tr>\n",
       "      <th>1</th>\n",
       "      <td>Mehmet</td>\n",
       "      <td>HR</td>\n",
       "    </tr>\n",
       "    <tr>\n",
       "      <th>2</th>\n",
       "      <td>Ayşe</td>\n",
       "      <td>Muhasebe</td>\n",
       "    </tr>\n",
       "  </tbody>\n",
       "</table>\n",
       "</div>"
      ],
      "text/plain": [
       "  Personel Departman\n",
       "0    Ahmet        IT\n",
       "1   Mehmet        HR\n",
       "2     Ayşe  Muhasebe"
      ]
     },
     "execution_count": 30,
     "metadata": {},
     "output_type": "execute_result"
    }
   ],
   "source": [
    "dataframe_personel = pd.DataFrame({\n",
    "    \"Personel\":[\"Ahmet\",\"Mehmet\",\"Ayşe\"],\n",
    "    \"Departman\":[\"IT\",\"HR\",\"Muhasebe\"]\n",
    "})\n",
    "\n",
    "departman_harita = {\n",
    "    \"IT\":\"Bilgi İşlem\",\n",
    "    \"HR\":\"İnsan Kaynakları\",\n",
    "    \"Muhasebe\":\"Finans\"\n",
    "}\n",
    "dataframe_personel"
   ]
  },
  {
   "cell_type": "code",
   "execution_count": 29,
   "id": "f72f6a7c-8684-4d87-8cdd-423883c572a7",
   "metadata": {},
   "outputs": [
    {
     "data": {
      "text/html": [
       "<div>\n",
       "<style scoped>\n",
       "    .dataframe tbody tr th:only-of-type {\n",
       "        vertical-align: middle;\n",
       "    }\n",
       "\n",
       "    .dataframe tbody tr th {\n",
       "        vertical-align: top;\n",
       "    }\n",
       "\n",
       "    .dataframe thead th {\n",
       "        text-align: right;\n",
       "    }\n",
       "</style>\n",
       "<table border=\"1\" class=\"dataframe\">\n",
       "  <thead>\n",
       "    <tr style=\"text-align: right;\">\n",
       "      <th></th>\n",
       "      <th>Personel</th>\n",
       "      <th>Departman</th>\n",
       "    </tr>\n",
       "  </thead>\n",
       "  <tbody>\n",
       "    <tr>\n",
       "      <th>0</th>\n",
       "      <td>Ahmet</td>\n",
       "      <td>Bilgi İşlem</td>\n",
       "    </tr>\n",
       "    <tr>\n",
       "      <th>1</th>\n",
       "      <td>Mehmet</td>\n",
       "      <td>İnsan Kaynakları</td>\n",
       "    </tr>\n",
       "    <tr>\n",
       "      <th>2</th>\n",
       "      <td>Ayşe</td>\n",
       "      <td>Finans</td>\n",
       "    </tr>\n",
       "  </tbody>\n",
       "</table>\n",
       "</div>"
      ],
      "text/plain": [
       "  Personel         Departman\n",
       "0    Ahmet       Bilgi İşlem\n",
       "1   Mehmet  İnsan Kaynakları\n",
       "2     Ayşe            Finans"
      ]
     },
     "execution_count": 29,
     "metadata": {},
     "output_type": "execute_result"
    }
   ],
   "source": [
    "dataframe_personel[\"Departman\"] = dataframe_personel[\"Departman\"].map(departman_harita)\n",
    "dataframe_personel"
   ]
  },
  {
   "cell_type": "markdown",
   "id": "8ac738ab-fb35-44f5-b82d-6678982cff95",
   "metadata": {
    "jp-MarkdownHeadingCollapsed": true
   },
   "source": [
    "# Replace Fonksiyonu"
   ]
  },
  {
   "cell_type": "markdown",
   "id": "ca3222f8-8bda-4b0e-bcfe-bb4396684fe9",
   "metadata": {},
   "source": [
    "-Replace fonksiyonu tablodaki hücreleri başka hücrelerle değiştirmek için kullanılır."
   ]
  },
  {
   "cell_type": "code",
   "execution_count": 31,
   "id": "2a596a0f-d31b-433f-adba-9d457108e209",
   "metadata": {},
   "outputs": [
    {
     "data": {
      "text/html": [
       "<div>\n",
       "<style scoped>\n",
       "    .dataframe tbody tr th:only-of-type {\n",
       "        vertical-align: middle;\n",
       "    }\n",
       "\n",
       "    .dataframe tbody tr th {\n",
       "        vertical-align: top;\n",
       "    }\n",
       "\n",
       "    .dataframe thead th {\n",
       "        text-align: right;\n",
       "    }\n",
       "</style>\n",
       "<table border=\"1\" class=\"dataframe\">\n",
       "  <thead>\n",
       "    <tr style=\"text-align: right;\">\n",
       "      <th></th>\n",
       "      <th>Personel</th>\n",
       "      <th>Departman</th>\n",
       "    </tr>\n",
       "  </thead>\n",
       "  <tbody>\n",
       "    <tr>\n",
       "      <th>0</th>\n",
       "      <td>Ahmet</td>\n",
       "      <td>Bilgi İşlem</td>\n",
       "    </tr>\n",
       "    <tr>\n",
       "      <th>1</th>\n",
       "      <td>Mehmet</td>\n",
       "      <td>HR</td>\n",
       "    </tr>\n",
       "    <tr>\n",
       "      <th>2</th>\n",
       "      <td>Ayşe</td>\n",
       "      <td>Muhasebe</td>\n",
       "    </tr>\n",
       "  </tbody>\n",
       "</table>\n",
       "</div>"
      ],
      "text/plain": [
       "  Personel    Departman\n",
       "0    Ahmet  Bilgi İşlem\n",
       "1   Mehmet           HR\n",
       "2     Ayşe     Muhasebe"
      ]
     },
     "execution_count": 31,
     "metadata": {},
     "output_type": "execute_result"
    }
   ],
   "source": [
    "dataframe_personel[\"Departman\"] = dataframe_personel[\"Departman\"].replace(\"IT\",\"Bilgi İşlem\")\n",
    "dataframe_personel"
   ]
  },
  {
   "cell_type": "markdown",
   "id": "7113ccba-e508-4e00-889e-31e63ab42e84",
   "metadata": {
    "jp-MarkdownHeadingCollapsed": true
   },
   "source": [
    "# Sum Fonksiyonu"
   ]
  },
  {
   "cell_type": "markdown",
   "id": "9c5d9af9-0b36-4f78-95cb-94a919a5563b",
   "metadata": {},
   "source": [
    "-Sum fonksiyonu belirli sütundaki tüm değerlerin toplamını verir."
   ]
  },
  {
   "cell_type": "code",
   "execution_count": 32,
   "id": "f2f0fcf8-ab84-4d2d-b924-d0a92954c19a",
   "metadata": {},
   "outputs": [
    {
     "data": {
      "text/html": [
       "<div>\n",
       "<style scoped>\n",
       "    .dataframe tbody tr th:only-of-type {\n",
       "        vertical-align: middle;\n",
       "    }\n",
       "\n",
       "    .dataframe tbody tr th {\n",
       "        vertical-align: top;\n",
       "    }\n",
       "\n",
       "    .dataframe thead th {\n",
       "        text-align: right;\n",
       "    }\n",
       "</style>\n",
       "<table border=\"1\" class=\"dataframe\">\n",
       "  <thead>\n",
       "    <tr style=\"text-align: right;\">\n",
       "      <th></th>\n",
       "      <th>Personel</th>\n",
       "      <th>Maaş</th>\n",
       "    </tr>\n",
       "  </thead>\n",
       "  <tbody>\n",
       "    <tr>\n",
       "      <th>0</th>\n",
       "      <td>Ahmet</td>\n",
       "      <td>10000</td>\n",
       "    </tr>\n",
       "    <tr>\n",
       "      <th>1</th>\n",
       "      <td>Mehmet</td>\n",
       "      <td>22000</td>\n",
       "    </tr>\n",
       "    <tr>\n",
       "      <th>2</th>\n",
       "      <td>Ali</td>\n",
       "      <td>18000</td>\n",
       "    </tr>\n",
       "  </tbody>\n",
       "</table>\n",
       "</div>"
      ],
      "text/plain": [
       "  Personel   Maaş\n",
       "0    Ahmet  10000\n",
       "1   Mehmet  22000\n",
       "2      Ali  18000"
      ]
     },
     "execution_count": 32,
     "metadata": {},
     "output_type": "execute_result"
    }
   ],
   "source": [
    "dataframe_personel = pd.DataFrame({\n",
    "    \"Personel\":[\"Ahmet\",\"Mehmet\",\"Ali\"],\n",
    "    \"Maaş\":[10000,22000,18000]\n",
    "})\n",
    "dataframe_personel"
   ]
  },
  {
   "cell_type": "code",
   "execution_count": 34,
   "id": "84f803c7-8dcd-4243-99b4-a6d4b4052e52",
   "metadata": {},
   "outputs": [
    {
     "name": "stdout",
     "output_type": "stream",
     "text": [
      "50000\n"
     ]
    }
   ],
   "source": [
    "toplam_maas = dataframe_personel[\"Maaş\"].sum()\n",
    "print(toplam_maas)"
   ]
  },
  {
   "cell_type": "markdown",
   "id": "2d774d94-001a-47ed-a776-da0a93bbba9c",
   "metadata": {
    "jp-MarkdownHeadingCollapsed": true
   },
   "source": [
    "# Mean Fonksiyonu"
   ]
  },
  {
   "cell_type": "markdown",
   "id": "92774c56-0c99-4b34-8136-84716c7c60d3",
   "metadata": {},
   "source": [
    "-Mean fonksiyonu belirli sütundaki tüm değerlerin ortalamasını verir."
   ]
  },
  {
   "cell_type": "code",
   "execution_count": 35,
   "id": "ca582dda-82ba-42b3-8feb-328d6ea2ae4f",
   "metadata": {},
   "outputs": [
    {
     "name": "stdout",
     "output_type": "stream",
     "text": [
      "16666.666666666668\n"
     ]
    }
   ],
   "source": [
    "ortalama_maas = dataframe_personel[\"Maaş\"].mean()\n",
    "print(ortalama_maas)"
   ]
  },
  {
   "cell_type": "markdown",
   "id": "c43c557b-e07d-47e8-b7d0-350f1c7c7bb9",
   "metadata": {
    "jp-MarkdownHeadingCollapsed": true
   },
   "source": [
    "# Median Fonksiyonu"
   ]
  },
  {
   "cell_type": "markdown",
   "id": "f7640787-4555-4d38-8eb0-b637822ad039",
   "metadata": {},
   "source": [
    "-Median fonksiyonu belirli sütundaki tüm değerlerin medyanını verir."
   ]
  },
  {
   "cell_type": "code",
   "execution_count": 36,
   "id": "7c1f3620-120e-4e02-846c-6da85a527a70",
   "metadata": {},
   "outputs": [
    {
     "name": "stdout",
     "output_type": "stream",
     "text": [
      "18000.0\n"
     ]
    }
   ],
   "source": [
    "medyan_maas = dataframe_personel[\"Maaş\"].median()\n",
    "print(medyan_maas)"
   ]
  },
  {
   "cell_type": "markdown",
   "id": "0a7d5186-600c-4919-9937-3415f44736a4",
   "metadata": {
    "jp-MarkdownHeadingCollapsed": true
   },
   "source": [
    "# Std Fonksiyonu"
   ]
  },
  {
   "cell_type": "markdown",
   "id": "482acbe7-c721-49f7-b0ef-761fdae4d3ec",
   "metadata": {},
   "source": [
    "-Std fonksiyonu belirli sütundaki tüm değerlerin standart sapmasını verir."
   ]
  },
  {
   "cell_type": "code",
   "execution_count": 37,
   "id": "59761b76-e825-4508-9baf-4142101aa49c",
   "metadata": {},
   "outputs": [
    {
     "name": "stdout",
     "output_type": "stream",
     "text": [
      "6110.100926607787\n"
     ]
    }
   ],
   "source": [
    "standart_sapma_maas = dataframe_personel[\"Maaş\"].std()\n",
    "print(standart_sapma_maas)"
   ]
  },
  {
   "cell_type": "markdown",
   "id": "a7c81da0-418a-4d37-a565-2b4e3d25808e",
   "metadata": {
    "jp-MarkdownHeadingCollapsed": true
   },
   "source": [
    "# Min-Max Fonksiyonu"
   ]
  },
  {
   "cell_type": "markdown",
   "id": "91637856-1d77-41a9-b4f3-e4dc3ca81a92",
   "metadata": {},
   "source": [
    "-Min fonksiyonu belirli sütundaki en küçük değeri döndürür.<br>\n",
    "-Max fonksiyonu belirli sütundaki en büyük değeri döndürür."
   ]
  },
  {
   "cell_type": "code",
   "execution_count": 39,
   "id": "b4b8a627-3003-45bf-9cc1-438112a423af",
   "metadata": {},
   "outputs": [
    {
     "name": "stdout",
     "output_type": "stream",
     "text": [
      "10000\n"
     ]
    }
   ],
   "source": [
    "min_maas = dataframe_personel[\"Maaş\"].min()\n",
    "print(min_maas)"
   ]
  },
  {
   "cell_type": "code",
   "execution_count": 40,
   "id": "8f6ad97f-cc0b-46ff-a743-65ed982766a4",
   "metadata": {},
   "outputs": [
    {
     "name": "stdout",
     "output_type": "stream",
     "text": [
      "22000\n"
     ]
    }
   ],
   "source": [
    "max_maas = dataframe_personel[\"Maaş\"].max()\n",
    "print(max_maas)"
   ]
  },
  {
   "cell_type": "markdown",
   "id": "d4434c1a-a415-476a-8112-879818c6affc",
   "metadata": {
    "jp-MarkdownHeadingCollapsed": true
   },
   "source": [
    "# Var Fonksiyonu"
   ]
  },
  {
   "cell_type": "markdown",
   "id": "aaf76887-51be-4768-9be1-9699aee7ba15",
   "metadata": {},
   "source": [
    "-Var fonksiyonu belirli sütundaki tüm değerlerin varyansını hesaplar."
   ]
  },
  {
   "cell_type": "code",
   "execution_count": 41,
   "id": "1dcadd39-80ee-4eef-8bee-5e4ae9da3485",
   "metadata": {},
   "outputs": [
    {
     "name": "stdout",
     "output_type": "stream",
     "text": [
      "37333333.333333336\n"
     ]
    }
   ],
   "source": [
    "varyans_maas = dataframe_personel[\"Maaş\"].var()\n",
    "print(varyans_maas)"
   ]
  },
  {
   "cell_type": "markdown",
   "id": "5b05b56a-9723-4617-8bcc-4f611cb210a0",
   "metadata": {
    "jp-MarkdownHeadingCollapsed": true
   },
   "source": [
    "# Count Fonksiyonu"
   ]
  },
  {
   "cell_type": "markdown",
   "id": "b7e6b2f5-abe3-4586-8f33-b9f615b352b7",
   "metadata": {},
   "source": [
    "-Count fonksiyonu belirli sütundaki kaç adet değer varsa o sayıyı döndürür."
   ]
  },
  {
   "cell_type": "code",
   "execution_count": 42,
   "id": "6a9d38e5-0529-49a4-87c7-08f8c7a2c285",
   "metadata": {},
   "outputs": [
    {
     "name": "stdout",
     "output_type": "stream",
     "text": [
      "3\n"
     ]
    }
   ],
   "source": [
    "count_maas = dataframe_personel[\"Maaş\"].count()\n",
    "print(count_maas)"
   ]
  },
  {
   "cell_type": "markdown",
   "id": "b8437ec9-54f4-48f9-aba3-8cea83896cf3",
   "metadata": {
    "jp-MarkdownHeadingCollapsed": true
   },
   "source": [
    "# Unique-Nunique Fonksiyonu"
   ]
  },
  {
   "cell_type": "markdown",
   "id": "6b9e1a98-bc42-4cf2-b2ad-41e0af0c333a",
   "metadata": {},
   "source": [
    "-Unique fonksiyonu belirlenen kolondaki eşsiz değerleri döndürür.\n",
    "-Nunique fonksiyonu belirlenen kolondaki eşsiz elemanların sayısını döndürür."
   ]
  },
  {
   "cell_type": "code",
   "execution_count": 39,
   "id": "ccc0103f-bfc1-4952-aefc-02f26626cdfe",
   "metadata": {},
   "outputs": [
    {
     "data": {
      "text/plain": [
       "array(['UK', 'India', 'Australia', 'New Zealand', 'USA', 'Canada'],\n",
       "      dtype=object)"
      ]
     },
     "execution_count": 39,
     "metadata": {},
     "output_type": "execute_result"
    }
   ],
   "source": [
    "dataset[\"Country\"].unique()"
   ]
  },
  {
   "cell_type": "code",
   "execution_count": 45,
   "id": "17964c6b-c13b-4118-8a85-0d7bc09847a5",
   "metadata": {},
   "outputs": [
    {
     "data": {
      "text/plain": [
       "6"
      ]
     },
     "execution_count": 45,
     "metadata": {},
     "output_type": "execute_result"
    }
   ],
   "source": [
    "dataset[\"Country\"].nunique()"
   ]
  },
  {
   "cell_type": "markdown",
   "id": "50614cdf-fba3-4ed9-83c4-3e72dfd6cda4",
   "metadata": {
    "jp-MarkdownHeadingCollapsed": true
   },
   "source": [
    "# Value_Counts Fonksiyonu"
   ]
  },
  {
   "cell_type": "markdown",
   "id": "1d486cd5-c18a-44b3-8da3-68b4a9754065",
   "metadata": {},
   "source": [
    "-Value_Counts fonksiyonu belirlenen kolondaki eşsiz elemanların kaç defa kullanıldığını gösterir."
   ]
  },
  {
   "cell_type": "code",
   "execution_count": 40,
   "id": "49c30f4a-7862-4ed8-98b3-2dc4654d2db4",
   "metadata": {},
   "outputs": [
    {
     "data": {
      "text/plain": [
       "Country\n",
       "Australia      205\n",
       "India          184\n",
       "USA            179\n",
       "UK             178\n",
       "Canada         175\n",
       "New Zealand    173\n",
       "Name: count, dtype: int64"
      ]
     },
     "execution_count": 40,
     "metadata": {},
     "output_type": "execute_result"
    }
   ],
   "source": [
    "dataset[\"Country\"].value_counts()"
   ]
  },
  {
   "cell_type": "markdown",
   "id": "c352ef61-fa55-4a96-9795-913c8cfc45fa",
   "metadata": {
    "jp-MarkdownHeadingCollapsed": true
   },
   "source": [
    "# Duplicated Fonksiyonu"
   ]
  },
  {
   "cell_type": "markdown",
   "id": "324267aa-f6cc-41a9-a298-87a74d1d97a0",
   "metadata": {},
   "source": [
    "-Duplicated fonksiyonu tekrarlanan satırları true-false tablosu olarak döndürür."
   ]
  },
  {
   "cell_type": "code",
   "execution_count": 48,
   "id": "40af2f67-6014-46c8-b139-b89446e141fd",
   "metadata": {},
   "outputs": [
    {
     "data": {
      "text/plain": [
       "0       False\n",
       "1       False\n",
       "2       False\n",
       "3       False\n",
       "4       False\n",
       "        ...  \n",
       "1089    False\n",
       "1090    False\n",
       "1091    False\n",
       "1092    False\n",
       "1093    False\n",
       "Length: 1094, dtype: bool"
      ]
     },
     "execution_count": 48,
     "metadata": {},
     "output_type": "execute_result"
    }
   ],
   "source": [
    "dataset.duplicated()"
   ]
  },
  {
   "cell_type": "markdown",
   "id": "1000a0eb-61d4-49ff-8311-d202507fc3c2",
   "metadata": {
    "jp-MarkdownHeadingCollapsed": true
   },
   "source": [
    "# Corr Fonksiyonu"
   ]
  },
  {
   "cell_type": "markdown",
   "id": "78a1a9ea-3f01-4c8a-9c47-69b23609cbc4",
   "metadata": {},
   "source": [
    "-Corr fonksiyonu tablodaki hücrelerin korelasyon değerlerini hesaplar."
   ]
  },
  {
   "cell_type": "code",
   "execution_count": 49,
   "id": "dbd0f743-c940-4b90-bfad-d71fb6cb5681",
   "metadata": {},
   "outputs": [
    {
     "data": {
      "text/html": [
       "<div>\n",
       "<style scoped>\n",
       "    .dataframe tbody tr th:only-of-type {\n",
       "        vertical-align: middle;\n",
       "    }\n",
       "\n",
       "    .dataframe tbody tr th {\n",
       "        vertical-align: top;\n",
       "    }\n",
       "\n",
       "    .dataframe thead th {\n",
       "        text-align: right;\n",
       "    }\n",
       "</style>\n",
       "<table border=\"1\" class=\"dataframe\">\n",
       "  <thead>\n",
       "    <tr style=\"text-align: right;\">\n",
       "      <th></th>\n",
       "      <th>Maaş</th>\n",
       "      <th>Bonus</th>\n",
       "      <th>Deneyim</th>\n",
       "    </tr>\n",
       "  </thead>\n",
       "  <tbody>\n",
       "    <tr>\n",
       "      <th>0</th>\n",
       "      <td>22400</td>\n",
       "      <td>3500</td>\n",
       "      <td>3</td>\n",
       "    </tr>\n",
       "    <tr>\n",
       "      <th>1</th>\n",
       "      <td>15000</td>\n",
       "      <td>2000</td>\n",
       "      <td>2</td>\n",
       "    </tr>\n",
       "    <tr>\n",
       "      <th>2</th>\n",
       "      <td>45000</td>\n",
       "      <td>5000</td>\n",
       "      <td>4</td>\n",
       "    </tr>\n",
       "    <tr>\n",
       "      <th>3</th>\n",
       "      <td>8000</td>\n",
       "      <td>1000</td>\n",
       "      <td>1</td>\n",
       "    </tr>\n",
       "  </tbody>\n",
       "</table>\n",
       "</div>"
      ],
      "text/plain": [
       "    Maaş  Bonus  Deneyim\n",
       "0  22400   3500        3\n",
       "1  15000   2000        2\n",
       "2  45000   5000        4\n",
       "3   8000   1000        1"
      ]
     },
     "execution_count": 49,
     "metadata": {},
     "output_type": "execute_result"
    }
   ],
   "source": [
    "dataframe_maas = pd.DataFrame({\n",
    "    \"Maaş\":[22400,15000,45000,8000],\n",
    "    \"Bonus\":[3500,2000,5000,1000],\n",
    "    \"Deneyim\":[3,2,4,1]\n",
    "})\n",
    "dataframe_maas"
   ]
  },
  {
   "cell_type": "code",
   "execution_count": 50,
   "id": "817ea9ea-3a22-4cb7-a2fb-1ac51e118390",
   "metadata": {},
   "outputs": [
    {
     "name": "stdout",
     "output_type": "stream",
     "text": [
      "             Maaş    Bonus   Deneyim\n",
      "Maaş     1.000000  0.96727  0.952414\n",
      "Bonus    0.967270  1.00000  0.995910\n",
      "Deneyim  0.952414  0.99591  1.000000\n"
     ]
    }
   ],
   "source": [
    "korelasyon = dataframe_maas.corr()\n",
    "print(korelasyon)"
   ]
  },
  {
   "cell_type": "markdown",
   "id": "8477c267-a46f-4848-98ad-2bb0453b2aa8",
   "metadata": {
    "jp-MarkdownHeadingCollapsed": true
   },
   "source": [
    "# Plot Fonksiyonu"
   ]
  },
  {
   "cell_type": "markdown",
   "id": "0d3e8a72-9de3-4f22-84f1-e0f47cf0b48a",
   "metadata": {},
   "source": [
    "-Plot fonksiyonu tabloları görselleştirmeye yarar."
   ]
  },
  {
   "cell_type": "code",
   "execution_count": 53,
   "id": "5395f361-d048-4bbf-88e8-b2a4f56f82fd",
   "metadata": {},
   "outputs": [
    {
     "data": {
      "image/png": "[encoded data removed]",
      "text/plain": [
       "<Figure size 640x480 with 1 Axes>"
      ]
     },
     "metadata": {},
     "output_type": "display_data"
    }
   ],
   "source": [
    "import matplotlib.pyplot as plt\n",
    "\n",
    "df = pd.DataFrame({\n",
    "    'Aylar': ['Ocak', 'Şubat', 'Mart', 'Nisan', 'Mayıs'],\n",
    "    'Satışlar': [1200, 1500, 1700, 1800, 2000]\n",
    "})\n",
    "df.plot(x='Aylar', y='Satışlar', kind='line', marker='o')\n",
    "plt.title(\"Aylık Satışlar\")\n",
    "plt.xlabel(\"Aylar\")\n",
    "plt.ylabel(\"Satışlar\")\n",
    "plt.show()"
   ]
  },
  {
   "cell_type": "markdown",
   "id": "5f96af72-eb55-42cb-aef0-d8385d50a364",
   "metadata": {
    "jp-MarkdownHeadingCollapsed": true
   },
   "source": [
    "# Hist Fonksiyonu"
   ]
  },
  {
   "cell_type": "markdown",
   "id": "cd95a090-7c3b-400b-9913-7a8b422f4dbd",
   "metadata": {},
   "source": [
    "-Hist fonksiyonu verilerin histogramını çizer."
   ]
  },
  {
   "cell_type": "code",
   "execution_count": 57,
   "id": "cd6464a2-e105-4050-bc71-f2e7f41acac8",
   "metadata": {},
   "outputs": [
    {
     "data": {
      "image/png": "[encoded data removed]",
      "text/plain": [
       "<Figure size 640x480 with 1 Axes>"
      ]
     },
     "metadata": {},
     "output_type": "display_data"
    }
   ],
   "source": [
    "\n",
    "df = pd.DataFrame({\n",
    "    'Yaşlar': [25, 30, 35, 40, 45, 50, 55, 60, 65, 70]\n",
    "})\n",
    "\n",
    "df['Yaşlar'].hist(bins=5, color='green', edgecolor='purple')\n",
    "plt.title(\"Yaş Dağılımı\")\n",
    "plt.xlabel(\"Yaş\")\n",
    "plt.ylabel(\"Frekans\")\n",
    "plt.show()"
   ]
  },
  {
   "cell_type": "markdown",
   "id": "4899cb2f-058c-4aad-bfcf-9879375312d7",
   "metadata": {
    "jp-MarkdownHeadingCollapsed": true
   },
   "source": [
    "# Boxplot Fonksiyonu"
   ]
  },
  {
   "cell_type": "markdown",
   "id": "3064619e-06fc-400f-9e04-3e8fc4211afa",
   "metadata": {},
   "source": [
    "-Boxplot fonksiyonu verilerin kutu grafiğini çizer."
   ]
  },
  {
   "cell_type": "code",
   "execution_count": 60,
   "id": "7411804b-6a3e-47b1-90ec-6973677eeae0",
   "metadata": {},
   "outputs": [
    {
     "data": {
      "image/png": "[encoded data removed]",
      "text/plain": [
       "<Figure size 640x480 with 1 Axes>"
      ]
     },
     "metadata": {},
     "output_type": "display_data"
    }
   ],
   "source": [
    "\n",
    "df = pd.DataFrame({\n",
    "    'Yaşlar': [25, 30, 35, 40, 45, 50, 55, 60, 65, 70]\n",
    "})\n",
    "df['Yaşlar'].plot(kind='box', vert=False, color='skyblue')\n",
    "plt.title(\"Yaş Dağılımı Boxplot\")\n",
    "plt.show()\n"
   ]
  },
  {
   "cell_type": "markdown",
   "id": "a2637986-7a16-42c4-b460-e1d98c450947",
   "metadata": {
    "jp-MarkdownHeadingCollapsed": true
   },
   "source": [
    "# Scatter Fonksiyonu"
   ]
  },
  {
   "cell_type": "markdown",
   "id": "e0ffea27-f473-4177-a95a-afaa164f593c",
   "metadata": {},
   "source": [
    "-Scatter fonksiyonu iki sütunun saçılım grafiğini çizer."
   ]
  },
  {
   "cell_type": "code",
   "execution_count": 61,
   "id": "a92782fc-ff8e-4d7e-955d-61815afe7303",
   "metadata": {},
   "outputs": [
    {
     "data": {
      "image/png": "[encoded data removed]",
      "text/plain": [
       "<Figure size 640x480 with 1 Axes>"
      ]
     },
     "metadata": {},
     "output_type": "display_data"
    }
   ],
   "source": [
    "df = pd.DataFrame({\n",
    "    'Yaşlar': [25, 30, 35, 40, 45, 50, 55, 60, 65, 70],\n",
    "    'Kilo': [60, 65, 70, 75, 80, 85, 90, 95, 100, 105]\n",
    "})\n",
    "plt.scatter(df['Yaşlar'], df['Kilo'], color='blue')\n",
    "plt.title(\"Yaş ve Kilo Arasındaki İlişki\")\n",
    "plt.xlabel(\"Yaş\")\n",
    "plt.ylabel(\"Kilo\")\n",
    "plt.show()\n"
   ]
  },
  {
   "cell_type": "markdown",
   "id": "1d7e45ca-4255-450c-b6f7-d3e1f936cffc",
   "metadata": {
    "jp-MarkdownHeadingCollapsed": true
   },
   "source": [
    "# Heatmap Fonksiyonu"
   ]
  },
  {
   "cell_type": "markdown",
   "id": "9c0165c1-967b-4178-9491-48072223b323",
   "metadata": {},
   "source": [
    "-Heatmap fonksiyonu veriler arasındaki ilişkiyi ısı haritası olarak renklendirip gösterir."
   ]
  },
  {
   "cell_type": "code",
   "execution_count": 64,
   "id": "462e5e92-e991-4fbe-8d7e-0a4451584e55",
   "metadata": {},
   "outputs": [
    {
     "data": {
      "image/png": "[encoded data removed]",
      "text/plain": [
       "<Figure size 640x480 with 2 Axes>"
      ]
     },
     "metadata": {},
     "output_type": "display_data"
    }
   ],
   "source": [
    "import seaborn as sns\n",
    "data = np.random.rand(10, 12)\n",
    "sns.heatmap(data)\n",
    "plt.title(\"Basit Heatmap\")\n",
    "plt.show()\n"
   ]
  },
  {
   "cell_type": "markdown",
   "id": "ad80f5c7-96fe-40fc-bbf9-5bad092219af",
   "metadata": {
    "jp-MarkdownHeadingCollapsed": true
   },
   "source": [
    "# Cut-Qcut Fonksiyonları"
   ]
  },
  {
   "cell_type": "markdown",
   "id": "eae56d0b-9c0d-482c-ae99-bb7d867d2e32",
   "metadata": {},
   "source": [
    "-Cut fonksiyonu değerleri belirli aralıklara böler.<br>\n",
    "-Qcut fonksiyonu değerleri eşit aralıklara böler."
   ]
  },
  {
   "cell_type": "code",
   "execution_count": 66,
   "id": "8138b05f-158c-46c3-b643-0931fabdda96",
   "metadata": {},
   "outputs": [
    {
     "data": {
      "text/html": [
       "<div>\n",
       "<style scoped>\n",
       "    .dataframe tbody tr th:only-of-type {\n",
       "        vertical-align: middle;\n",
       "    }\n",
       "\n",
       "    .dataframe tbody tr th {\n",
       "        vertical-align: top;\n",
       "    }\n",
       "\n",
       "    .dataframe thead th {\n",
       "        text-align: right;\n",
       "    }\n",
       "</style>\n",
       "<table border=\"1\" class=\"dataframe\">\n",
       "  <thead>\n",
       "    <tr style=\"text-align: right;\">\n",
       "      <th></th>\n",
       "      <th>Yaş</th>\n",
       "      <th>Yaş Grupları</th>\n",
       "    </tr>\n",
       "  </thead>\n",
       "  <tbody>\n",
       "    <tr>\n",
       "      <th>0</th>\n",
       "      <td>22</td>\n",
       "      <td>Genç</td>\n",
       "    </tr>\n",
       "    <tr>\n",
       "      <th>1</th>\n",
       "      <td>18</td>\n",
       "      <td>Genç</td>\n",
       "    </tr>\n",
       "    <tr>\n",
       "      <th>2</th>\n",
       "      <td>54</td>\n",
       "      <td>Yaşlı</td>\n",
       "    </tr>\n",
       "    <tr>\n",
       "      <th>3</th>\n",
       "      <td>36</td>\n",
       "      <td>Yetişkin</td>\n",
       "    </tr>\n",
       "    <tr>\n",
       "      <th>4</th>\n",
       "      <td>29</td>\n",
       "      <td>Genç</td>\n",
       "    </tr>\n",
       "    <tr>\n",
       "      <th>5</th>\n",
       "      <td>42</td>\n",
       "      <td>Yetişkin</td>\n",
       "    </tr>\n",
       "    <tr>\n",
       "      <th>6</th>\n",
       "      <td>23</td>\n",
       "      <td>Genç</td>\n",
       "    </tr>\n",
       "    <tr>\n",
       "      <th>7</th>\n",
       "      <td>53</td>\n",
       "      <td>Yaşlı</td>\n",
       "    </tr>\n",
       "    <tr>\n",
       "      <th>8</th>\n",
       "      <td>38</td>\n",
       "      <td>Yetişkin</td>\n",
       "    </tr>\n",
       "    <tr>\n",
       "      <th>9</th>\n",
       "      <td>72</td>\n",
       "      <td>Emekli</td>\n",
       "    </tr>\n",
       "    <tr>\n",
       "      <th>10</th>\n",
       "      <td>65</td>\n",
       "      <td>Yaşlı</td>\n",
       "    </tr>\n",
       "    <tr>\n",
       "      <th>11</th>\n",
       "      <td>83</td>\n",
       "      <td>Emekli</td>\n",
       "    </tr>\n",
       "  </tbody>\n",
       "</table>\n",
       "</div>"
      ],
      "text/plain": [
       "    Yaş Yaş Grupları\n",
       "0    22         Genç\n",
       "1    18         Genç\n",
       "2    54        Yaşlı\n",
       "3    36     Yetişkin\n",
       "4    29         Genç\n",
       "5    42     Yetişkin\n",
       "6    23         Genç\n",
       "7    53        Yaşlı\n",
       "8    38     Yetişkin\n",
       "9    72       Emekli\n",
       "10   65        Yaşlı\n",
       "11   83       Emekli"
      ]
     },
     "execution_count": 66,
     "metadata": {},
     "output_type": "execute_result"
    }
   ],
   "source": [
    "dataframe_age = pd.DataFrame({\n",
    "    \"Yaş\":[22,18,54,36,29,42,23,53,38,72,65,83]\n",
    "})\n",
    "yas_araliklari = [0,18,30,50,70,100]\n",
    "labels = [\"Çalışamaz\",\"Genç\",\"Yetişkin\",\"Yaşlı\",\"Emekli\"]\n",
    "dataframe_age[\"Yaş Grupları\"] = pd.cut(dataframe_age[\"Yaş\"],bins=yas_araliklari,labels=labels,right=False)\n",
    "dataframe_age"
   ]
  },
  {
   "cell_type": "code",
   "execution_count": 67,
   "id": "60895124-8fd0-4dc8-932e-1627f5801cf1",
   "metadata": {},
   "outputs": [
    {
     "name": "stdout",
     "output_type": "stream",
     "text": [
      "   Skor   Skor Quantile\n",
      "0    55  (49.999, 62.5]\n",
      "1    70    (62.5, 75.0]\n",
      "2    90   (86.25, 95.0]\n",
      "3    80   (75.0, 86.25]\n",
      "4    65    (62.5, 75.0]\n",
      "5    50  (49.999, 62.5]\n",
      "6    85   (75.0, 86.25]\n",
      "7    95   (86.25, 95.0]\n"
     ]
    }
   ],
   "source": [
    "data = {'Skor': [55, 70, 90, 80, 65, 50, 85, 95]}\n",
    "df = pd.DataFrame(data)\n",
    "\n",
    "df['Skor Quantile'] = pd.qcut(df['Skor'], q=4)\n",
    "\n",
    "print(df)\n"
   ]
  },
  {
   "cell_type": "markdown",
   "id": "ad033b6f-24a0-4732-aa3c-2e4e951d6bef",
   "metadata": {
    "jp-MarkdownHeadingCollapsed": true
   },
   "source": [
    "# Cumsum Fonksiyonu"
   ]
  },
  {
   "cell_type": "markdown",
   "id": "91227021-de2a-4724-a17e-29cf88388a26",
   "metadata": {},
   "source": [
    "-Cumsum fonksiyonu belirli sütunun kümülatif toplamını hesaplar."
   ]
  },
  {
   "cell_type": "code",
   "execution_count": 69,
   "id": "481883e5-ba28-418c-a9b1-d5c03bbfc7e1",
   "metadata": {},
   "outputs": [
    {
     "data": {
      "text/plain": [
       "0                                                 $5,320 \n",
       "1                                          $5,320 $7,896 \n",
       "2                                   $5,320 $7,896 $4,501 \n",
       "3                           $5,320 $7,896 $4,501 $12,726 \n",
       "4                   $5,320 $7,896 $4,501 $12,726 $13,685 \n",
       "                              ...                        \n",
       "1089    $5,320 $7,896 $4,501 $12,726 $13,685 $5,376 $1...\n",
       "1090    $5,320 $7,896 $4,501 $12,726 $13,685 $5,376 $1...\n",
       "1091    $5,320 $7,896 $4,501 $12,726 $13,685 $5,376 $1...\n",
       "1092    $5,320 $7,896 $4,501 $12,726 $13,685 $5,376 $1...\n",
       "1093    $5,320 $7,896 $4,501 $12,726 $13,685 $5,376 $1...\n",
       "Name: Amount, Length: 1094, dtype: object"
      ]
     },
     "execution_count": 69,
     "metadata": {},
     "output_type": "execute_result"
    }
   ],
   "source": [
    "dataset[\"Amount\"].cumsum()"
   ]
  },
  {
   "cell_type": "markdown",
   "id": "67852dec-93e1-4975-8d6f-2f77ddf1ca09",
   "metadata": {
    "jp-MarkdownHeadingCollapsed": true
   },
   "source": [
    "# Cumprod Fonksiyonu"
   ]
  },
  {
   "cell_type": "markdown",
   "id": "995a459a-b86e-470f-acc3-8ee9f5f0e1c2",
   "metadata": {},
   "source": [
    "-Cumprod fonksiyonu belirli sütunun kümülatif çarpımını hesaplar."
   ]
  },
  {
   "cell_type": "code",
   "execution_count": 72,
   "id": "9c3dda8f-94bd-40e7-9d10-0744489ebaff",
   "metadata": {},
   "outputs": [
    {
     "data": {
      "text/plain": [
       "0               180\n",
       "1             16920\n",
       "2           1539720\n",
       "3         526584240\n",
       "4       96891500160\n",
       "           ...     \n",
       "1089              0\n",
       "1090              0\n",
       "1091              0\n",
       "1092              0\n",
       "1093              0\n",
       "Name: Boxes Shipped, Length: 1094, dtype: int64"
      ]
     },
     "execution_count": 72,
     "metadata": {},
     "output_type": "execute_result"
    }
   ],
   "source": [
    "dataset[\"Boxes Shipped\"].cumprod()"
   ]
  },
  {
   "cell_type": "markdown",
   "id": "269de662-0ce8-4d51-8e4f-8778826d79e5",
   "metadata": {
    "jp-MarkdownHeadingCollapsed": true
   },
   "source": [
    "# Shift Fonksiyonu"
   ]
  },
  {
   "cell_type": "markdown",
   "id": "5589e560-5924-413b-bb5b-857711037777",
   "metadata": {},
   "source": [
    "-Shift fonksiyonu değerleri belirli bir sayıda kaydırır."
   ]
  },
  {
   "cell_type": "code",
   "execution_count": 74,
   "id": "98d79caa-9bd2-48b0-bb76-5f505a39832a",
   "metadata": {},
   "outputs": [
    {
     "data": {
      "text/html": [
       "<div>\n",
       "<style scoped>\n",
       "    .dataframe tbody tr th:only-of-type {\n",
       "        vertical-align: middle;\n",
       "    }\n",
       "\n",
       "    .dataframe tbody tr th {\n",
       "        vertical-align: top;\n",
       "    }\n",
       "\n",
       "    .dataframe thead th {\n",
       "        text-align: right;\n",
       "    }\n",
       "</style>\n",
       "<table border=\"1\" class=\"dataframe\">\n",
       "  <thead>\n",
       "    <tr style=\"text-align: right;\">\n",
       "      <th></th>\n",
       "      <th>Maaş</th>\n",
       "      <th>Bonus</th>\n",
       "      <th>Deneyim</th>\n",
       "    </tr>\n",
       "  </thead>\n",
       "  <tbody>\n",
       "    <tr>\n",
       "      <th>0</th>\n",
       "      <td>22400</td>\n",
       "      <td>3500</td>\n",
       "      <td>3</td>\n",
       "    </tr>\n",
       "    <tr>\n",
       "      <th>1</th>\n",
       "      <td>15000</td>\n",
       "      <td>2000</td>\n",
       "      <td>2</td>\n",
       "    </tr>\n",
       "    <tr>\n",
       "      <th>2</th>\n",
       "      <td>45000</td>\n",
       "      <td>5000</td>\n",
       "      <td>4</td>\n",
       "    </tr>\n",
       "    <tr>\n",
       "      <th>3</th>\n",
       "      <td>8000</td>\n",
       "      <td>1000</td>\n",
       "      <td>1</td>\n",
       "    </tr>\n",
       "  </tbody>\n",
       "</table>\n",
       "</div>"
      ],
      "text/plain": [
       "    Maaş  Bonus  Deneyim\n",
       "0  22400   3500        3\n",
       "1  15000   2000        2\n",
       "2  45000   5000        4\n",
       "3   8000   1000        1"
      ]
     },
     "execution_count": 74,
     "metadata": {},
     "output_type": "execute_result"
    }
   ],
   "source": [
    "dataframe_maas"
   ]
  },
  {
   "cell_type": "code",
   "execution_count": 76,
   "id": "04eaff0d-13b6-4e94-82c7-85585c426c29",
   "metadata": {},
   "outputs": [
    {
     "data": {
      "text/html": [
       "<div>\n",
       "<style scoped>\n",
       "    .dataframe tbody tr th:only-of-type {\n",
       "        vertical-align: middle;\n",
       "    }\n",
       "\n",
       "    .dataframe tbody tr th {\n",
       "        vertical-align: top;\n",
       "    }\n",
       "\n",
       "    .dataframe thead th {\n",
       "        text-align: right;\n",
       "    }\n",
       "</style>\n",
       "<table border=\"1\" class=\"dataframe\">\n",
       "  <thead>\n",
       "    <tr style=\"text-align: right;\">\n",
       "      <th></th>\n",
       "      <th>Maaş</th>\n",
       "      <th>Bonus</th>\n",
       "      <th>Deneyim</th>\n",
       "      <th>Yeni Deneyim</th>\n",
       "    </tr>\n",
       "  </thead>\n",
       "  <tbody>\n",
       "    <tr>\n",
       "      <th>0</th>\n",
       "      <td>22400</td>\n",
       "      <td>3500</td>\n",
       "      <td>3</td>\n",
       "      <td>NaN</td>\n",
       "    </tr>\n",
       "    <tr>\n",
       "      <th>1</th>\n",
       "      <td>15000</td>\n",
       "      <td>2000</td>\n",
       "      <td>2</td>\n",
       "      <td>3.0</td>\n",
       "    </tr>\n",
       "    <tr>\n",
       "      <th>2</th>\n",
       "      <td>45000</td>\n",
       "      <td>5000</td>\n",
       "      <td>4</td>\n",
       "      <td>2.0</td>\n",
       "    </tr>\n",
       "    <tr>\n",
       "      <th>3</th>\n",
       "      <td>8000</td>\n",
       "      <td>1000</td>\n",
       "      <td>1</td>\n",
       "      <td>4.0</td>\n",
       "    </tr>\n",
       "  </tbody>\n",
       "</table>\n",
       "</div>"
      ],
      "text/plain": [
       "    Maaş  Bonus  Deneyim  Yeni Deneyim\n",
       "0  22400   3500        3           NaN\n",
       "1  15000   2000        2           3.0\n",
       "2  45000   5000        4           2.0\n",
       "3   8000   1000        1           4.0"
      ]
     },
     "execution_count": 76,
     "metadata": {},
     "output_type": "execute_result"
    }
   ],
   "source": [
    "dataframe_maas[\"Yeni Deneyim\"] = dataframe_maas[\"Deneyim\"].shift(1)\n",
    "dataframe_maas"
   ]
  },
  {
   "cell_type": "markdown",
   "id": "2dc3b065-ca9c-471b-9bf6-f0342d03df56",
   "metadata": {
    "jp-MarkdownHeadingCollapsed": true
   },
   "source": [
    "# Diff Fonksiyonu"
   ]
  },
  {
   "cell_type": "markdown",
   "id": "bb281fd5-0661-4967-975d-00deb1433477",
   "metadata": {},
   "source": [
    "-Diff fonksiyonu değerler arasındaki farkı hesaplar."
   ]
  },
  {
   "cell_type": "code",
   "execution_count": 77,
   "id": "795062f0-df38-4f5d-af7d-64f39e92ce55",
   "metadata": {},
   "outputs": [
    {
     "data": {
      "text/html": [
       "<div>\n",
       "<style scoped>\n",
       "    .dataframe tbody tr th:only-of-type {\n",
       "        vertical-align: middle;\n",
       "    }\n",
       "\n",
       "    .dataframe tbody tr th {\n",
       "        vertical-align: top;\n",
       "    }\n",
       "\n",
       "    .dataframe thead th {\n",
       "        text-align: right;\n",
       "    }\n",
       "</style>\n",
       "<table border=\"1\" class=\"dataframe\">\n",
       "  <thead>\n",
       "    <tr style=\"text-align: right;\">\n",
       "      <th></th>\n",
       "      <th>Maaş</th>\n",
       "      <th>Bonus</th>\n",
       "      <th>Deneyim</th>\n",
       "      <th>Yeni Deneyim</th>\n",
       "      <th>Maaş Farkları</th>\n",
       "    </tr>\n",
       "  </thead>\n",
       "  <tbody>\n",
       "    <tr>\n",
       "      <th>0</th>\n",
       "      <td>22400</td>\n",
       "      <td>3500</td>\n",
       "      <td>3</td>\n",
       "      <td>NaN</td>\n",
       "      <td>NaN</td>\n",
       "    </tr>\n",
       "    <tr>\n",
       "      <th>1</th>\n",
       "      <td>15000</td>\n",
       "      <td>2000</td>\n",
       "      <td>2</td>\n",
       "      <td>3.0</td>\n",
       "      <td>-7400.0</td>\n",
       "    </tr>\n",
       "    <tr>\n",
       "      <th>2</th>\n",
       "      <td>45000</td>\n",
       "      <td>5000</td>\n",
       "      <td>4</td>\n",
       "      <td>2.0</td>\n",
       "      <td>30000.0</td>\n",
       "    </tr>\n",
       "    <tr>\n",
       "      <th>3</th>\n",
       "      <td>8000</td>\n",
       "      <td>1000</td>\n",
       "      <td>1</td>\n",
       "      <td>4.0</td>\n",
       "      <td>-37000.0</td>\n",
       "    </tr>\n",
       "  </tbody>\n",
       "</table>\n",
       "</div>"
      ],
      "text/plain": [
       "    Maaş  Bonus  Deneyim  Yeni Deneyim  Maaş Farkları\n",
       "0  22400   3500        3           NaN            NaN\n",
       "1  15000   2000        2           3.0        -7400.0\n",
       "2  45000   5000        4           2.0        30000.0\n",
       "3   8000   1000        1           4.0       -37000.0"
      ]
     },
     "execution_count": 77,
     "metadata": {},
     "output_type": "execute_result"
    }
   ],
   "source": [
    "dataframe_maas[\"Maaş Farkları\"] = dataframe_maas[\"Maaş\"].diff()\n",
    "dataframe_maas"
   ]
  },
  {
   "cell_type": "markdown",
   "id": "1cf52123-60c7-4193-8dde-2f94ca20d29b",
   "metadata": {
    "jp-MarkdownHeadingCollapsed": true
   },
   "source": [
    "# Resample ve to_Datetime Fonksiyonu"
   ]
  },
  {
   "cell_type": "markdown",
   "id": "8a9c7fcd-e4a1-471b-bae1-82b9b26bb6b1",
   "metadata": {},
   "source": [
    "-Resample fonksiyonu belirli tarih aralıklarındaki verileri toplar(gruplandırır).<br>\n",
    "-to_Datetime fonksiyonu tarih verilerini datetime formatına dönüştürür."
   ]
  },
  {
   "cell_type": "code",
   "execution_count": 90,
   "id": "dac5f330-8e29-4149-b37d-b62beb9ebf96",
   "metadata": {},
   "outputs": [
    {
     "data": {
      "text/html": [
       "<div>\n",
       "<style scoped>\n",
       "    .dataframe tbody tr th:only-of-type {\n",
       "        vertical-align: middle;\n",
       "    }\n",
       "\n",
       "    .dataframe tbody tr th {\n",
       "        vertical-align: top;\n",
       "    }\n",
       "\n",
       "    .dataframe thead th {\n",
       "        text-align: right;\n",
       "    }\n",
       "</style>\n",
       "<table border=\"1\" class=\"dataframe\">\n",
       "  <thead>\n",
       "    <tr style=\"text-align: right;\">\n",
       "      <th></th>\n",
       "      <th>Satış</th>\n",
       "    </tr>\n",
       "    <tr>\n",
       "      <th>Tarih</th>\n",
       "      <th></th>\n",
       "    </tr>\n",
       "  </thead>\n",
       "  <tbody>\n",
       "    <tr>\n",
       "      <th>2023-01-01</th>\n",
       "      <td>100</td>\n",
       "    </tr>\n",
       "    <tr>\n",
       "      <th>2023-01-08</th>\n",
       "      <td>2150</td>\n",
       "    </tr>\n",
       "    <tr>\n",
       "      <th>2023-01-15</th>\n",
       "      <td>1050</td>\n",
       "    </tr>\n",
       "  </tbody>\n",
       "</table>\n",
       "</div>"
      ],
      "text/plain": [
       "            Satış\n",
       "Tarih            \n",
       "2023-01-01    100\n",
       "2023-01-08   2150\n",
       "2023-01-15   1050"
      ]
     },
     "execution_count": 90,
     "metadata": {},
     "output_type": "execute_result"
    }
   ],
   "source": [
    "dataframe_tarih = pd.DataFrame({\n",
    "    'Tarih': ['2023-01-01', '2023-01-02', '2023-01-03', '2023-01-04', '2023-01-05',\n",
    "              '2023-01-06', '2023-01-07', '2023-01-08', '2023-01-09', '2023-01-10'],\n",
    "    'Satış': [100, 200, 150, 300, 250, 400, 350, 500, 450, 600]\n",
    "})\n",
    "dataframe_tarih['Tarih'] = pd.to_datetime(dataframe_tarih['Tarih'])\n",
    "dataframe_tarih.set_index('Tarih', inplace=True)\n",
    "dataframe_resampled = dataframe_tarih.resample('W').sum()\n",
    "dataframe_resampled\n"
   ]
  },
  {
   "cell_type": "markdown",
   "id": "63462d09-f323-4553-a870-6d64ec9a9589",
   "metadata": {
    "jp-MarkdownHeadingCollapsed": true
   },
   "source": [
    "# Rolling Fonksiyonu"
   ]
  },
  {
   "cell_type": "markdown",
   "id": "342a1fb7-0469-47d8-b49b-18257aaecfaa",
   "metadata": {},
   "source": [
    "-Rolling fonksiyonu girilen boyuta göre hesaplamayı tekrarlar."
   ]
  },
  {
   "cell_type": "code",
   "execution_count": 86,
   "id": "cf421323-f2a9-4c03-9f45-56cc81985599",
   "metadata": {},
   "outputs": [
    {
     "data": {
      "text/html": [
       "<div>\n",
       "<style scoped>\n",
       "    .dataframe tbody tr th:only-of-type {\n",
       "        vertical-align: middle;\n",
       "    }\n",
       "\n",
       "    .dataframe tbody tr th {\n",
       "        vertical-align: top;\n",
       "    }\n",
       "\n",
       "    .dataframe thead th {\n",
       "        text-align: right;\n",
       "    }\n",
       "</style>\n",
       "<table border=\"1\" class=\"dataframe\">\n",
       "  <thead>\n",
       "    <tr style=\"text-align: right;\">\n",
       "      <th></th>\n",
       "      <th>Satış</th>\n",
       "      <th>7 Günlük Ortalama</th>\n",
       "    </tr>\n",
       "    <tr>\n",
       "      <th>Tarih</th>\n",
       "      <th></th>\n",
       "      <th></th>\n",
       "    </tr>\n",
       "  </thead>\n",
       "  <tbody>\n",
       "    <tr>\n",
       "      <th>2023-01-01</th>\n",
       "      <td>100</td>\n",
       "      <td>NaN</td>\n",
       "    </tr>\n",
       "    <tr>\n",
       "      <th>2023-01-02</th>\n",
       "      <td>200</td>\n",
       "      <td>NaN</td>\n",
       "    </tr>\n",
       "    <tr>\n",
       "      <th>2023-01-03</th>\n",
       "      <td>150</td>\n",
       "      <td>NaN</td>\n",
       "    </tr>\n",
       "    <tr>\n",
       "      <th>2023-01-04</th>\n",
       "      <td>300</td>\n",
       "      <td>NaN</td>\n",
       "    </tr>\n",
       "    <tr>\n",
       "      <th>2023-01-05</th>\n",
       "      <td>250</td>\n",
       "      <td>NaN</td>\n",
       "    </tr>\n",
       "    <tr>\n",
       "      <th>2023-01-06</th>\n",
       "      <td>400</td>\n",
       "      <td>NaN</td>\n",
       "    </tr>\n",
       "    <tr>\n",
       "      <th>2023-01-07</th>\n",
       "      <td>350</td>\n",
       "      <td>250.000000</td>\n",
       "    </tr>\n",
       "    <tr>\n",
       "      <th>2023-01-08</th>\n",
       "      <td>500</td>\n",
       "      <td>307.142857</td>\n",
       "    </tr>\n",
       "    <tr>\n",
       "      <th>2023-01-09</th>\n",
       "      <td>450</td>\n",
       "      <td>342.857143</td>\n",
       "    </tr>\n",
       "    <tr>\n",
       "      <th>2023-01-10</th>\n",
       "      <td>600</td>\n",
       "      <td>407.142857</td>\n",
       "    </tr>\n",
       "  </tbody>\n",
       "</table>\n",
       "</div>"
      ],
      "text/plain": [
       "            Satış  7 Günlük Ortalama\n",
       "Tarih                               \n",
       "2023-01-01    100                NaN\n",
       "2023-01-02    200                NaN\n",
       "2023-01-03    150                NaN\n",
       "2023-01-04    300                NaN\n",
       "2023-01-05    250                NaN\n",
       "2023-01-06    400                NaN\n",
       "2023-01-07    350         250.000000\n",
       "2023-01-08    500         307.142857\n",
       "2023-01-09    450         342.857143\n",
       "2023-01-10    600         407.142857"
      ]
     },
     "execution_count": 86,
     "metadata": {},
     "output_type": "execute_result"
    }
   ],
   "source": [
    "dataframe_tarih['7 Günlük Ortalama'] = dataframe_tarih['Satış'].rolling(window=7).mean()\n",
    "dataframe_tarih"
   ]
  },
  {
   "cell_type": "code",
   "execution_count": null,
   "id": "843aa764-92d8-40e0-b8b9-a61bd45fc696",
   "metadata": {},
   "outputs": [],
   "source": []
  }
 ],
 "metadata": {
  "kernelspec": {
   "display_name": "Python 3 (ipykernel)",
   "language": "python",
   "name": "python3"
  },
  "language_info": {
   "codemirror_mode": {
    "name": "ipython",
    "version": 3
   },
   "file_extension": ".py",
   "mimetype": "text/x-python",
   "name": "python",
   "nbconvert_exporter": "python",
   "pygments_lexer": "ipython3",
   "version": "3.12.9"
  }
 },
 "nbformat": 4,
 "nbformat_minor": 5
}
