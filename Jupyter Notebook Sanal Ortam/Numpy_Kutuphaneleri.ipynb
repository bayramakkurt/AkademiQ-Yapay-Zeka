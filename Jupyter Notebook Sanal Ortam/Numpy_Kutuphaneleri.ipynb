{
 "cells": [
  {
   "cell_type": "markdown",
   "id": "6ad9102f-cfb0-4c72-8773-3259d99a5ef7",
   "metadata": {
    "jp-MarkdownHeadingCollapsed": true
   },
   "source": [
    "# İmport Etme"
   ]
  },
  {
   "cell_type": "code",
   "execution_count": 1,
   "id": "980fe533-b9cd-45fe-919b-963e4615efc4",
   "metadata": {},
   "outputs": [],
   "source": [
    "import numpy as np"
   ]
  },
  {
   "cell_type": "markdown",
   "id": "23979f0c-c656-4e9f-bdbd-4b4e7f242928",
   "metadata": {
    "jp-MarkdownHeadingCollapsed": true
   },
   "source": [
    "# Vektör Oluşturma"
   ]
  },
  {
   "cell_type": "markdown",
   "id": "a57a7d98-2613-486c-b7c0-2643ff1fe97c",
   "metadata": {},
   "source": [
    "np.array ile 1xN veya Nx1 gibi vektörler oluşturulabilir."
   ]
  },
  {
   "cell_type": "code",
   "execution_count": 3,
   "id": "13ebd71e-3920-401d-9f1b-e6764a42e673",
   "metadata": {},
   "outputs": [
    {
     "name": "stdout",
     "output_type": "stream",
     "text": [
      "[3 2 1]\n"
     ]
    }
   ],
   "source": [
    "satir_vektor = np.array([3,2,1])\n",
    "print(satir_vektor)"
   ]
  },
  {
   "cell_type": "code",
   "execution_count": 4,
   "id": "bb18ca60-ef28-4c28-9d10-97b0f6c063b9",
   "metadata": {},
   "outputs": [
    {
     "name": "stdout",
     "output_type": "stream",
     "text": [
      "[[10]\n",
      " [20]\n",
      " [30]]\n"
     ]
    }
   ],
   "source": [
    "sutun_vektor = np.array([[10],[20],[30]])\n",
    "print(sutun_vektor)"
   ]
  },
  {
   "cell_type": "markdown",
   "id": "db063657-568b-4514-b5ef-b6a34326f487",
   "metadata": {
    "jp-MarkdownHeadingCollapsed": true
   },
   "source": [
    "# Matris (Matrix) Oluşturma"
   ]
  },
  {
   "cell_type": "markdown",
   "id": "ba09f63d-b8d3-4e13-8d69-741958b5269b",
   "metadata": {},
   "source": [
    "np.array ile NxM boyutlu matrisler oluşturulabilir."
   ]
  },
  {
   "cell_type": "code",
   "execution_count": 6,
   "id": "2797a37f-d3b4-4bdb-80cb-3e65d3ffba4a",
   "metadata": {},
   "outputs": [
    {
     "name": "stdout",
     "output_type": "stream",
     "text": [
      "[[ 1  2  3  4  5]\n",
      " [ 6  7  8  9 10]\n",
      " [11 12 13 14 15]\n",
      " [16 17 18 19 20]]\n"
     ]
    }
   ],
   "source": [
    "matris = np.array([[1,2,3,4,5],[6,7,8,9,10],[11,12,13,14,15],[16,17,18,19,20]])\n",
    "print(matris)"
   ]
  },
  {
   "cell_type": "markdown",
   "id": "d042eff0-017a-4b1e-a6f4-88ac6a954b77",
   "metadata": {},
   "source": [
    "np.zeros ile verilen boyut veri türüne göre sıfır matris oluşturulur."
   ]
  },
  {
   "cell_type": "code",
   "execution_count": 7,
   "id": "9db6ded0-b0eb-409a-a2ba-7e7c166e1055",
   "metadata": {},
   "outputs": [
    {
     "name": "stdout",
     "output_type": "stream",
     "text": [
      "[[0. 0. 0. 0.]\n",
      " [0. 0. 0. 0.]\n",
      " [0. 0. 0. 0.]]\n"
     ]
    }
   ],
   "source": [
    "sifir_matris = np.zeros([3,4] , dtype = float)\n",
    "print(sifir_matris)"
   ]
  },
  {
   "cell_type": "markdown",
   "id": "14e4260d-89e2-416d-ac60-893f57e3fadb",
   "metadata": {},
   "source": [
    "np.ones ile verilen boyut ve veri türüne göre elemanları birlerden oluşan matris oluşturulur."
   ]
  },
  {
   "cell_type": "code",
   "execution_count": 8,
   "id": "9c8777cd-327a-4eae-a104-2c89e9e24733",
   "metadata": {},
   "outputs": [
    {
     "name": "stdout",
     "output_type": "stream",
     "text": [
      "[[1 1 1 1]\n",
      " [1 1 1 1]\n",
      " [1 1 1 1]]\n"
     ]
    }
   ],
   "source": [
    "bir_matris = np.ones([3,4] , dtype = int)\n",
    "print(bir_matris)"
   ]
  },
  {
   "cell_type": "markdown",
   "id": "f5493434-3a75-4534-995b-f354e9efbef0",
   "metadata": {},
   "source": [
    "np.eye fonksiyonu ile verilen boyut ve veri türü ile birim matris oluşturulur."
   ]
  },
  {
   "cell_type": "code",
   "execution_count": 9,
   "id": "6308916d-1b4d-4e32-a5da-2def8915a0c5",
   "metadata": {},
   "outputs": [
    {
     "name": "stdout",
     "output_type": "stream",
     "text": [
      "[[1 0 0 0 0]\n",
      " [0 1 0 0 0]\n",
      " [0 0 1 0 0]\n",
      " [0 0 0 1 0]\n",
      " [0 0 0 0 1]]\n"
     ]
    }
   ],
   "source": [
    "birim_matris = np.eye(5 , dtype = int)\n",
    "print(birim_matris)"
   ]
  },
  {
   "cell_type": "markdown",
   "id": "51e9cf0d-6774-433d-9c59-b58c53bc1ab9",
   "metadata": {
    "jp-MarkdownHeadingCollapsed": true
   },
   "source": [
    "# Matrislerde Matematiksel İşlemler"
   ]
  },
  {
   "cell_type": "code",
   "execution_count": 10,
   "id": "9887d616-97ea-4cf8-a569-52a1f54fb132",
   "metadata": {},
   "outputs": [],
   "source": [
    "matrix1 = np.array([[1,2],[3,4]])\n",
    "matrix2 = np.array([[7,5],[8,9]])"
   ]
  },
  {
   "cell_type": "markdown",
   "id": "9f9ae91f-3a54-4d9d-8104-56d34a57b46d",
   "metadata": {},
   "source": [
    "np.add fonksiyonu matrislerin eşdeğer pozisyondaki elemanlarını aynı kutucukta toplar."
   ]
  },
  {
   "cell_type": "code",
   "execution_count": 11,
   "id": "77927dfe-3bfc-4abb-ab04-37c036ca950a",
   "metadata": {},
   "outputs": [
    {
     "name": "stdout",
     "output_type": "stream",
     "text": [
      "[[ 8  7]\n",
      " [11 13]]\n"
     ]
    }
   ],
   "source": [
    "toplama = np.add(matrix1 , matrix2)\n",
    "print(toplama)"
   ]
  },
  {
   "cell_type": "markdown",
   "id": "8f960d76-ab14-402a-bb24-b719912e469e",
   "metadata": {},
   "source": [
    "np.subtract fonksiyonu matrislerin eşdeğer pozisyondaki elemanlarını aynı kutucukta çıkarır."
   ]
  },
  {
   "cell_type": "code",
   "execution_count": 12,
   "id": "b0d9c864-83ae-4bb8-8346-0822368f93ed",
   "metadata": {},
   "outputs": [
    {
     "name": "stdout",
     "output_type": "stream",
     "text": [
      "[[-6 -3]\n",
      " [-5 -5]]\n"
     ]
    }
   ],
   "source": [
    "cikarma = np.subtract(matrix1 , matrix2)\n",
    "print(cikarma)"
   ]
  },
  {
   "cell_type": "markdown",
   "id": "4ff07092-72fc-4d8b-9765-4c753386ecd7",
   "metadata": {},
   "source": [
    "matris1 * matris2 işlemi ise matrislerin eşdeğer pozisyonundaki elemanlarını aynı kutucukta çarpar. Matris çarpımı ile aynı şey değillerdir."
   ]
  },
  {
   "cell_type": "code",
   "execution_count": 13,
   "id": "6cafc300-d040-4a89-a0f6-3658565da9fc",
   "metadata": {},
   "outputs": [
    {
     "name": "stdout",
     "output_type": "stream",
     "text": [
      "[[ 7 10]\n",
      " [24 36]]\n"
     ]
    }
   ],
   "source": [
    "carpim = matrix1 * matrix2\n",
    "print(carpim)"
   ]
  },
  {
   "cell_type": "markdown",
   "id": "9be8a310-1e45-4fb8-a535-1bdde6dcec1c",
   "metadata": {},
   "source": [
    "# Matrislerde Min, Max, Ortalama, Toplam, Varyans ve Standart Sapma Bulma"
   ]
  },
  {
   "cell_type": "code",
   "execution_count": 14,
   "id": "508cee03-b35d-4a77-9b21-051ad0bb6233",
   "metadata": {},
   "outputs": [
    {
     "name": "stdout",
     "output_type": "stream",
     "text": [
      "[[ 2  4  6]\n",
      " [ 8 10 12]\n",
      " [14 16 18]]\n"
     ]
    }
   ],
   "source": [
    "matrix = np.array([[2,4,6],[8,10,12],[14,16,18]])\n",
    "print(matrix)"
   ]
  },
  {
   "cell_type": "markdown",
   "id": "e51ac46c-f2c7-4da7-9b2a-c098e541466b",
   "metadata": {},
   "source": [
    "matris.min() fonksiyonu matris içindeki en küçük elemanı bulur."
   ]
  },
  {
   "cell_type": "code",
   "execution_count": 16,
   "id": "700734e6-2ec2-42af-aa2f-74cce632a977",
   "metadata": {},
   "outputs": [
    {
     "name": "stdout",
     "output_type": "stream",
     "text": [
      "Minimum Değer:  2\n"
     ]
    }
   ],
   "source": [
    "print(\"Minimum Değer: \" , matrix.min())"
   ]
  },
  {
   "cell_type": "markdown",
   "id": "555ac8ec-9def-42a6-a032-539c42487fb5",
   "metadata": {},
   "source": [
    "matris.max() fonksiyonu matris içindeki en büyük elemanı bulur."
   ]
  },
  {
   "cell_type": "code",
   "execution_count": 17,
   "id": "e809b617-1dcd-4bb5-a02c-897b7ff3e8da",
   "metadata": {},
   "outputs": [
    {
     "name": "stdout",
     "output_type": "stream",
     "text": [
      "Maksimum Değer:  18\n"
     ]
    }
   ],
   "source": [
    "print(\"Maksimum Değer: \" , matrix.max())"
   ]
  },
  {
   "cell_type": "markdown",
   "id": "9c68b0a4-deb5-4b6c-bbba-e9798fede3fd",
   "metadata": {},
   "source": [
    "matris.mean() fonksiyonu matris içindeki değerlerin ortalamasını bulur."
   ]
  },
  {
   "cell_type": "code",
   "execution_count": 18,
   "id": "bdf2cb5a-21ce-4cc5-87b6-e535b73ca513",
   "metadata": {},
   "outputs": [
    {
     "name": "stdout",
     "output_type": "stream",
     "text": [
      "Ortalama Değer:  10.0\n"
     ]
    }
   ],
   "source": [
    "print(\"Ortalama Değer: \" , matrix.mean())"
   ]
  },
  {
   "cell_type": "markdown",
   "id": "056edce6-e422-4b36-a8ab-1821b8d57f61",
   "metadata": {},
   "source": [
    "matris.min() fonksiyonu matris içindeki elemanların toplamını bulur."
   ]
  },
  {
   "cell_type": "code",
   "execution_count": 19,
   "id": "a4f926dd-84d3-4f88-868f-18dc029af77f",
   "metadata": {},
   "outputs": [
    {
     "name": "stdout",
     "output_type": "stream",
     "text": [
      "Toplam Değer:  90\n"
     ]
    }
   ],
   "source": [
    "print(\"Toplam Değer: \" , matrix.sum())"
   ]
  },
  {
   "cell_type": "markdown",
   "id": "dbcec7fe-8f69-4ad4-892a-4a1c73d03102",
   "metadata": {},
   "source": [
    "matris.var() fonksiyonu matris içindeki değerlerin varyans değerini bulur.Varyans, bir veri kümesindeki değerlerin ortalamadan ne kadar sapma gösterdiğini ölçen istatistiksel bir değerdir."
   ]
  },
  {
   "cell_type": "code",
   "execution_count": 20,
   "id": "d9f56bab-356a-4061-acd5-ba3003d2cea3",
   "metadata": {},
   "outputs": [
    {
     "name": "stdout",
     "output_type": "stream",
     "text": [
      "Varyans Değer:  26.666666666666668\n"
     ]
    }
   ],
   "source": [
    "print(\"Varyans Değer: \" , matrix.var())"
   ]
  },
  {
   "cell_type": "markdown",
   "id": "c762a02c-7058-456f-8fc4-716b76e82ec1",
   "metadata": {},
   "source": [
    "matris.std() fonksiyonu matris içindeki değerlerin standart sapmasını bulur.Standart sapma, veri noktalarının ortalamadan ne kadar saptığını gösteren bir ölçüdür ve varyansın karekökü olarak hesaplanır."
   ]
  },
  {
   "cell_type": "code",
   "execution_count": 21,
   "id": "69109d76-003f-4717-93a7-04206181fadd",
   "metadata": {},
   "outputs": [
    {
     "name": "stdout",
     "output_type": "stream",
     "text": [
      "Standart Sapma:  5.163977794943222\n"
     ]
    }
   ],
   "source": [
    "print(\"Standart Sapma: \" , matrix.std())"
   ]
  },
  {
   "cell_type": "markdown",
   "id": "c23f0a25-f042-463c-99a4-01eab9864458",
   "metadata": {},
   "source": [
    "# Reshape ve Transpose İşlemleri"
   ]
  },
  {
   "cell_type": "markdown",
   "id": "c6099ecc-aed6-4437-b38c-c80049a57b55",
   "metadata": {},
   "source": [
    "reshape fonksiyonu matrisi uygun olan istenen boyutlara dönüştürür.<br>\n",
    "transpose işlemi ise matrisin transpozunu alır.Transpoz, bir matrisin satır ve sütunlarının yer değiştirmesiyle elde edilen matristir."
   ]
  },
  {
   "cell_type": "code",
   "execution_count": 22,
   "id": "ec13d93d-ffb7-45f8-8b8c-83d1c29827d9",
   "metadata": {},
   "outputs": [
    {
     "name": "stdout",
     "output_type": "stream",
     "text": [
      "[[ 2  4]\n",
      " [ 8 10]\n",
      " [14 16]]\n"
     ]
    }
   ],
   "source": [
    "matrix = np.array([[2,4],[8,10],[14,16]])\n",
    "print(matrix)"
   ]
  },
  {
   "cell_type": "code",
   "execution_count": 23,
   "id": "f171a473-a7af-4a5a-ac37-40c4348db7eb",
   "metadata": {},
   "outputs": [
    {
     "name": "stdout",
     "output_type": "stream",
     "text": [
      "[[ 2]\n",
      " [ 4]\n",
      " [ 8]\n",
      " [10]\n",
      " [14]\n",
      " [16]]\n"
     ]
    }
   ],
   "source": [
    "print(matrix.reshape(6,1))"
   ]
  },
  {
   "cell_type": "code",
   "execution_count": 25,
   "id": "a6827077-e6dd-4542-942e-5f6fd864da24",
   "metadata": {},
   "outputs": [
    {
     "name": "stdout",
     "output_type": "stream",
     "text": [
      "[[ 2  4  8 10 14 16]]\n"
     ]
    }
   ],
   "source": [
    "print(matrix.reshape(1,6))"
   ]
  },
  {
   "cell_type": "code",
   "execution_count": 27,
   "id": "6f8b1026-8fba-4b42-96e9-6c95fdd43f48",
   "metadata": {},
   "outputs": [
    {
     "name": "stdout",
     "output_type": "stream",
     "text": [
      "[[ 2  4  8]\n",
      " [10 14 16]]\n"
     ]
    }
   ],
   "source": [
    "print(matrix.reshape(2,3))"
   ]
  },
  {
   "cell_type": "code",
   "execution_count": 28,
   "id": "2e69ad82-d76e-46b4-8442-e44b56076cdc",
   "metadata": {},
   "outputs": [
    {
     "name": "stdout",
     "output_type": "stream",
     "text": [
      "[[ 2  8 14]\n",
      " [ 4 10 16]]\n"
     ]
    }
   ],
   "source": [
    "print(matrix.T)"
   ]
  },
  {
   "cell_type": "markdown",
   "id": "14ecf5be-ca89-437d-954a-be4256edb3d1",
   "metadata": {},
   "source": [
    "# Matrisin Determinantı ve Rank Bulma"
   ]
  },
  {
   "cell_type": "code",
   "execution_count": 29,
   "id": "e5a869b8-4cd6-4644-b7e8-b0ea8d670e9f",
   "metadata": {},
   "outputs": [
    {
     "name": "stdout",
     "output_type": "stream",
     "text": [
      "[[ 4  2]\n",
      " [10 10]]\n"
     ]
    }
   ],
   "source": [
    "matrix = np.array([[4,2],[10,10]])\n",
    "print(matrix)"
   ]
  },
  {
   "cell_type": "markdown",
   "id": "b4236c2d-c4e8-46fd-b776-fc6cad2ee578",
   "metadata": {},
   "source": [
    "np.linalg.det(matris) fonksiyonu matrisin determinantını bulur. Determinant, bir kare matrisin tek bir sayı ile temsil edilen özel bir özelliğidir."
   ]
  },
  {
   "cell_type": "code",
   "execution_count": 30,
   "id": "8186e61a-c09a-4151-a52e-2234c447ac0a",
   "metadata": {},
   "outputs": [
    {
     "name": "stdout",
     "output_type": "stream",
     "text": [
      "Determinant:  20.000000000000007\n"
     ]
    }
   ],
   "source": [
    "print(\"Determinant: \" , np.linalg.det(matrix))"
   ]
  },
  {
   "cell_type": "markdown",
   "id": "5169a258-02ee-4f06-83b0-16330ba7fae7",
   "metadata": {},
   "source": [
    "np.linalg.matrix_rank(matris) fonksiyonu matrisin rütbesini bulur. Rank (rütbe), bir matrisin doğrusal olarak bağımsız satır veya sütunlarının sayısını belirten bir sayıdır."
   ]
  },
  {
   "cell_type": "code",
   "execution_count": 31,
   "id": "c9399347-6a1c-4fbc-bb05-e9382b0651f1",
   "metadata": {},
   "outputs": [
    {
     "name": "stdout",
     "output_type": "stream",
     "text": [
      "Rank:  2\n"
     ]
    }
   ],
   "source": [
    "print(\"Rank: \" , np.linalg.matrix_rank(matrix))"
   ]
  },
  {
   "cell_type": "markdown",
   "id": "7a748ad5-efb8-462b-a32b-d738a21a87f2",
   "metadata": {},
   "source": [
    "# Matrisin Köşegenini (Diagonel) Alma"
   ]
  },
  {
   "cell_type": "code",
   "execution_count": 32,
   "id": "d3c3aa46-6bef-4d4b-a741-11de3e4cec0f",
   "metadata": {},
   "outputs": [
    {
     "name": "stdout",
     "output_type": "stream",
     "text": [
      "[[ 4  2  1]\n",
      " [ 5  3  2]\n",
      " [30 10 12]]\n"
     ]
    }
   ],
   "source": [
    "matrix = np.array([[4,2,1],[5,3,2],[30,10,12]])\n",
    "print(matrix)"
   ]
  },
  {
   "cell_type": "markdown",
   "id": "3943a2d7-39ba-482b-9e93-93f44934aff2",
   "metadata": {},
   "source": [
    "matris.diagonal() fonksiyonu bir kare matrisin sol üstten sağ alta uzanan ana çizgisini vektör olarak verir. Kare matris şarttır."
   ]
  },
  {
   "cell_type": "code",
   "execution_count": 33,
   "id": "74ea821d-51b1-4429-9cef-f67577fe247f",
   "metadata": {},
   "outputs": [
    {
     "name": "stdout",
     "output_type": "stream",
     "text": [
      "[ 4  3 12]\n"
     ]
    }
   ],
   "source": [
    "print(matrix.diagonal())"
   ]
  },
  {
   "cell_type": "markdown",
   "id": "0e1a1659-dba4-4e32-b72c-a4aa55719af4",
   "metadata": {},
   "source": [
    "offset değeri ise ana köşegen matrisi kaydırma parametresidir."
   ]
  },
  {
   "cell_type": "code",
   "execution_count": 34,
   "id": "8d0d70e3-5831-4e8a-8c5f-1f4d0d78f72e",
   "metadata": {},
   "outputs": [
    {
     "name": "stdout",
     "output_type": "stream",
     "text": [
      "[2 2]\n"
     ]
    }
   ],
   "source": [
    "print(matrix.diagonal(offset=1))"
   ]
  },
  {
   "cell_type": "code",
   "execution_count": 35,
   "id": "1957e96c-8a39-4622-b218-a28a5f78fc82",
   "metadata": {},
   "outputs": [
    {
     "name": "stdout",
     "output_type": "stream",
     "text": [
      "[ 5 10]\n"
     ]
    }
   ],
   "source": [
    "print(matrix.diagonal(offset=-1))"
   ]
  },
  {
   "cell_type": "markdown",
   "id": "666974d2-ef36-449f-a73f-581c416698db",
   "metadata": {},
   "source": [
    "# Matrisin İzini Alma (Trace of a Matrix)"
   ]
  },
  {
   "cell_type": "markdown",
   "id": "c7cff7fb-f7cd-47a5-95af-66217628a25a",
   "metadata": {},
   "source": [
    "matrix.trace() fonksiyonu bir matrisin ana köşegenindeki elemanların toplamını hesaplar."
   ]
  },
  {
   "cell_type": "code",
   "execution_count": 36,
   "id": "c129e91e-5282-4be0-9705-7ccf5203498f",
   "metadata": {},
   "outputs": [
    {
     "name": "stdout",
     "output_type": "stream",
     "text": [
      "[[ 4  2  1]\n",
      " [ 5  3  2]\n",
      " [30 10 12]]\n"
     ]
    }
   ],
   "source": [
    "matrix = np.array([[4,2,1],[5,3,2],[30,10,12]])\n",
    "print(matrix)"
   ]
  },
  {
   "cell_type": "code",
   "execution_count": 37,
   "id": "e564104d-219b-4aa0-9c5d-072d25113290",
   "metadata": {},
   "outputs": [
    {
     "name": "stdout",
     "output_type": "stream",
     "text": [
      "Matrisin Köşegenlerinin Toplamı:  19\n"
     ]
    }
   ],
   "source": [
    "print(\"Matrisin Köşegenlerinin Toplamı: \" , matrix.trace())"
   ]
  },
  {
   "cell_type": "markdown",
   "id": "eb0e8464-bf1d-4930-b70d-7644fd2756b4",
   "metadata": {},
   "source": [
    "# Matrisin Özdeğerlerin (Eigenvalues) ve Özvektörlerin (Eigenvectors) Bulunması"
   ]
  },
  {
   "cell_type": "markdown",
   "id": "2c12f4c4-0fff-4726-b6e3-24919c56e459",
   "metadata": {},
   "source": [
    "Özdeğer, bir matrisin, belirli bir özvektörle çarpıldığında, yalnızca bir skalar ile çarpılarak kendisini değiştirmesini sağlar. Yani, bir matrisin özdeğeri, matrisin özvektörlere uygulandığında, yalnızca skalar bir çarpanla dönüşen bir değeridir.<br>\n",
    "Özvektör, bir matrisin dönüşümü sırasında yönünü değiştirmeyen, yani yalnızca büyüklüğü değişen bir vektördür. Özvektörler, genellikle bir matrisin özelliklerini anlamamıza yardımcı olur."
   ]
  },
  {
   "cell_type": "code",
   "execution_count": 39,
   "id": "df8eb58e-6a50-40bc-90bb-bbce9113922c",
   "metadata": {},
   "outputs": [
    {
     "name": "stdout",
     "output_type": "stream",
     "text": [
      "[[ 4  2  1]\n",
      " [ 5  3  2]\n",
      " [30 10 12]]\n"
     ]
    }
   ],
   "source": [
    "matrix = np.array([[4,2,1],[5,3,2],[30,10,12]])\n",
    "print(matrix)"
   ]
  },
  {
   "cell_type": "code",
   "execution_count": 40,
   "id": "ebe0bc84-b82d-4ac6-9459-fb10be2970a8",
   "metadata": {},
   "outputs": [
    {
     "name": "stdout",
     "output_type": "stream",
     "text": [
      "Matrisin Köşegenlerinin Toplamı:  19\n"
     ]
    }
   ],
   "source": [
    "print(\"Matrisin Köşegenlerinin Toplamı: \" , matrix.trace())"
   ]
  },
  {
   "cell_type": "code",
   "execution_count": 44,
   "id": "0b391708-d663-4470-abcc-e0cc80de6748",
   "metadata": {},
   "outputs": [
    {
     "name": "stdout",
     "output_type": "stream",
     "text": [
      "Özdeğerler: \n",
      "[16.96089936+0.j          1.01955032+0.61281029j  1.01955032-0.61281029j]\n",
      "Özvektörler: \n",
      "[[-0.10284175+0.j         -0.33519369+0.10454783j -0.33519369-0.10454783j]\n",
      " [-0.17705416+0.j          0.01759649-0.25850484j  0.01759649+0.25850484j]\n",
      " [-0.97881326+0.j          0.89976694+0.j          0.89976694-0.j        ]]\n"
     ]
    }
   ],
   "source": [
    "eigenvalues, eigenvectors=np.linalg.eig(matrix)\n",
    "print(\"Özdeğerler: \")\n",
    "print(eigenvalues)\n",
    "print(\"Özvektörler: \")\n",
    "print(eigenvectors)"
   ]
  },
  {
   "cell_type": "markdown",
   "id": "278f476f-be4a-4c54-ba38-c2bbd1a62f32",
   "metadata": {},
   "source": [
    "# Vektörlerin İç Çarpım (Dot Product/Inner Product)"
   ]
  },
  {
   "cell_type": "markdown",
   "id": "05c042dd-2883-47f2-8172-3b079620c34b",
   "metadata": {},
   "source": [
    "np.dot fonksiyonu verilen 2 matrisin iç çarpımını hesaplar. İç Çarpım bu formülle bulunur : A⋅B=∣A∣⋅∣B∣⋅cos(θ) <br>\n",
    "A⋅B: A ve B vektörlerinin iç çarpımı.<br>\n",
    "|A| ve |B|: A ve B vektörlerinin uzunlukları (veya normları)<br>\n",
    "θ: A ve B vektörleri arasındaki açı.\n"
   ]
  },
  {
   "cell_type": "code",
   "execution_count": 45,
   "id": "87172114-f703-462b-9ecf-83415b53e3ff",
   "metadata": {},
   "outputs": [
    {
     "name": "stdout",
     "output_type": "stream",
     "text": [
      "[2 4 6][3 5 7]\n"
     ]
    }
   ],
   "source": [
    "vector1 = np.array([2,4,6])\n",
    "vector2 = np.array([3,5,7])\n",
    "print(vector1 , end=\"\")\n",
    "print(vector2)"
   ]
  },
  {
   "cell_type": "code",
   "execution_count": 47,
   "id": "4c0ebc3a-58f3-4f21-bbbf-40e9fce69630",
   "metadata": {},
   "outputs": [
    {
     "name": "stdout",
     "output_type": "stream",
     "text": [
      "Vektörlerin İç Çarpımları:  68\n"
     ]
    }
   ],
   "source": [
    "print(\"Vektörlerin İç Çarpımları: \" , np.dot(vector1,vector2))"
   ]
  },
  {
   "cell_type": "markdown",
   "id": "d46cc5a7-5b6d-48fb-9aa0-c6ebb52d52c3",
   "metadata": {},
   "source": [
    "# Matrisin Tersini Alma (Invert)"
   ]
  },
  {
   "cell_type": "markdown",
   "id": "c0dfc75a-9b73-4a1f-bc34-da606ad0cc12",
   "metadata": {},
   "source": [
    "np.linalg.inv() fonksiyonu matrisin tersini alır. Matrisin tersi şu formülle hesaplanır: A ⋅ A⁻¹ = A⁻¹ ⋅ A = I <br>\n",
    "A: Orijinal matris <br>\n",
    "A⁻¹: Matrisin tersi <br>\n",
    "I: Birim matris \n"
   ]
  },
  {
   "cell_type": "code",
   "execution_count": 48,
   "id": "6e523285-5207-4f0d-9f28-b11bb74cc702",
   "metadata": {},
   "outputs": [
    {
     "name": "stdout",
     "output_type": "stream",
     "text": [
      "[[1 3]\n",
      " [4 6]]\n"
     ]
    }
   ],
   "source": [
    "matrix = np.array([[1,3],[4,6]])\n",
    "print(matrix)"
   ]
  },
  {
   "cell_type": "code",
   "execution_count": 49,
   "id": "1eed38ec-64ea-49fb-a548-e3772f8bfc74",
   "metadata": {},
   "outputs": [
    {
     "name": "stdout",
     "output_type": "stream",
     "text": [
      "[[-1.          0.5       ]\n",
      " [ 0.66666667 -0.16666667]]\n"
     ]
    }
   ],
   "source": [
    "print(np.linalg.inv(matrix))"
   ]
  },
  {
   "cell_type": "code",
   "execution_count": null,
   "id": "41449058-d7c3-4ee4-91be-c298c3b20ad4",
   "metadata": {},
   "outputs": [],
   "source": []
  }
 ],
 "metadata": {
  "kernelspec": {
   "display_name": "Python 3 (ipykernel)",
   "language": "python",
   "name": "python3"
  },
  "language_info": {
   "codemirror_mode": {
    "name": "ipython",
    "version": 3
   },
   "file_extension": ".py",
   "mimetype": "text/x-python",
   "name": "python",
   "nbconvert_exporter": "python",
   "pygments_lexer": "ipython3",
   "version": "3.12.9"
  }
 },
 "nbformat": 4,
 "nbformat_minor": 5
}
