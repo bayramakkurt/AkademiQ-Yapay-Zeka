{
 "cells": [
  {
   "cell_type": "code",
   "execution_count": 1,
   "id": "2719b30f-105e-4c69-b5a4-3e84e16af3eb",
   "metadata": {},
   "outputs": [],
   "source": [
    "import numpy as np"
   ]
  },
  {
   "cell_type": "markdown",
   "id": "2b665d6f-486d-42e1-ba72-19f785fbb9fa",
   "metadata": {},
   "source": [
    "# Numpy (NumericPython)"
   ]
  },
  {
   "cell_type": "markdown",
   "id": "97bb9bb8-5a2a-48f1-a47e-4cc6a9bde8e3",
   "metadata": {},
   "source": [
    "Pythonda matematiksel işlemleri hızlı bir biçimde yapmamızı sağlayan kütüphanedir."
   ]
  },
  {
   "cell_type": "code",
   "execution_count": 4,
   "id": "93ab72c3-06af-488f-a55b-e594176f3c91",
   "metadata": {},
   "outputs": [
    {
     "data": {
      "text/plain": [
       "array([ 1,  2,  3,  4,  5,  6,  7,  8,  9, 10])"
      ]
     },
     "execution_count": 4,
     "metadata": {},
     "output_type": "execute_result"
    }
   ],
   "source": [
    "np_array = np.array( [1,2,3,4,5,6,7,8,9,10] )\n",
    "np_array"
   ]
  },
  {
   "cell_type": "code",
   "execution_count": 7,
   "id": "7fd280b6-432c-48e7-91fb-a2619bab8a0a",
   "metadata": {},
   "outputs": [
    {
     "name": "stdout",
     "output_type": "stream",
     "text": [
      "4.16 μs ± 1.66 μs per loop (mean ± std. dev. of 7 runs, 100,000 loops each)\n"
     ]
    }
   ],
   "source": [
    "%%timeit   #Timeit , alttaki hücrenin hızını hesaplar.\n",
    "np_array + 1"
   ]
  },
  {
   "cell_type": "code",
   "execution_count": 8,
   "id": "6d9454ec-0e3f-4d87-8e03-820d9e044a40",
   "metadata": {},
   "outputs": [],
   "source": [
    "python_list = list(range(1_000_000))\n",
    "np_list = np.array(python_list)"
   ]
  },
  {
   "cell_type": "code",
   "execution_count": 9,
   "id": "3a7175ab-b906-4e86-8a20-c87c32f51d25",
   "metadata": {},
   "outputs": [
    {
     "name": "stdout",
     "output_type": "stream",
     "text": [
      "130 ms ± 18.4 ms per loop (mean ± std. dev. of 7 runs, 10 loops each)\n"
     ]
    }
   ],
   "source": [
    "%%timeit\n",
    "[ x+1 for x in python_list]"
   ]
  },
  {
   "cell_type": "code",
   "execution_count": 10,
   "id": "d9136515-d86b-4043-931a-6c9539fb0c62",
   "metadata": {},
   "outputs": [
    {
     "name": "stdout",
     "output_type": "stream",
     "text": [
      "1.7 μs ± 253 ns per loop (mean ± std. dev. of 7 runs, 100,000 loops each)\n"
     ]
    }
   ],
   "source": [
    "%%timeit\n",
    "np_array + 1"
   ]
  },
  {
   "cell_type": "code",
   "execution_count": 46,
   "id": "26e07745-700f-40f6-8534-965b9b45b70d",
   "metadata": {},
   "outputs": [],
   "source": [
    "array1 = np.array(1)          #Tek eleman => Scalar , Satır-Sütun Matris => Vektör , NxM Matris => Matrix , Çok Boyutlu Matris Min 3 Boyut => Tensor"
   ]
  },
  {
   "cell_type": "code",
   "execution_count": 14,
   "id": "870e3287-e2e6-4005-a94b-1bc382f3af83",
   "metadata": {},
   "outputs": [
    {
     "data": {
      "text/plain": [
       "numpy.ndarray"
      ]
     },
     "execution_count": 14,
     "metadata": {},
     "output_type": "execute_result"
    }
   ],
   "source": [
    "type(array1) #ndarray => n-dimensional array"
   ]
  },
  {
   "cell_type": "code",
   "execution_count": 16,
   "id": "bfdb0b5b-5fd1-4d05-a56d-ee9cf1e0d89a",
   "metadata": {},
   "outputs": [
    {
     "data": {
      "text/plain": [
       "0"
      ]
     },
     "execution_count": 16,
     "metadata": {},
     "output_type": "execute_result"
    }
   ],
   "source": [
    "array1.ndim #ndim => ndimension(boyutu) = 0"
   ]
  },
  {
   "cell_type": "code",
   "execution_count": 18,
   "id": "605eb1d9-b42b-4dc0-8f98-e41abb332024",
   "metadata": {},
   "outputs": [
    {
     "data": {
      "text/plain": [
       "(1, (3,))"
      ]
     },
     "execution_count": 18,
     "metadata": {},
     "output_type": "execute_result"
    }
   ],
   "source": [
    "array2 = np.array( [10,20,30] )\n",
    "array2.ndim , array2.shape  #1D Array (Vector)"
   ]
  },
  {
   "cell_type": "code",
   "execution_count": 19,
   "id": "f7107c1a-5a0f-4ab3-a30f-0e6b63fc8fee",
   "metadata": {},
   "outputs": [
    {
     "data": {
      "text/plain": [
       "(1, (3,))"
      ]
     },
     "execution_count": 19,
     "metadata": {},
     "output_type": "execute_result"
    }
   ],
   "source": [
    "array3 = np.array( [40,50,60] )\n",
    "array3.ndim , array3.shape"
   ]
  },
  {
   "cell_type": "code",
   "execution_count": 25,
   "id": "6405ba8a-f23a-4c5b-8dc0-b88d7334e25a",
   "metadata": {},
   "outputs": [
    {
     "data": {
      "text/plain": [
       "array([50, 70, 90])"
      ]
     },
     "execution_count": 25,
     "metadata": {},
     "output_type": "execute_result"
    }
   ],
   "source": [
    "result = array2 + array3  #Matematiksel işlemler boyutlar uyuşurken sadece çalışır 2 Boyutlu ile 2 Boyutlu işlem gerçekleştirir.\n",
    "result"
   ]
  },
  {
   "cell_type": "code",
   "execution_count": 22,
   "id": "e81e5fd3-6404-4ecf-86b0-e32c903e8386",
   "metadata": {},
   "outputs": [
    {
     "data": {
      "text/plain": [
       "array([30, 30, 30])"
      ]
     },
     "execution_count": 22,
     "metadata": {},
     "output_type": "execute_result"
    }
   ],
   "source": [
    "result2 = array3 - array2\n",
    "result2"
   ]
  },
  {
   "cell_type": "code",
   "execution_count": 24,
   "id": "1af7844e-56e0-4005-b7b4-78760055cfde",
   "metadata": {},
   "outputs": [],
   "source": [
    "array4 = np.array( [100,200] )"
   ]
  },
  {
   "cell_type": "code",
   "execution_count": 28,
   "id": "310dcaed-95be-42c4-8bf1-610638ecb280",
   "metadata": {},
   "outputs": [
    {
     "data": {
      "text/plain": [
       "(2, (2, 3))"
      ]
     },
     "execution_count": 28,
     "metadata": {},
     "output_type": "execute_result"
    }
   ],
   "source": [
    "array5 = np.array(\n",
    "    [\n",
    "        [10,20,30],\n",
    "        [40,50,60]\n",
    "    ]\n",
    "    \n",
    ")\n",
    "array5.ndim , array5.shape #2 boyutlu 2x3 matris"
   ]
  },
  {
   "cell_type": "code",
   "execution_count": 29,
   "id": "b8b71271-2a68-4e35-8c63-58a5657a55b3",
   "metadata": {},
   "outputs": [
    {
     "data": {
      "text/plain": [
       "(2, (2, 3))"
      ]
     },
     "execution_count": 29,
     "metadata": {},
     "output_type": "execute_result"
    }
   ],
   "source": [
    "array6 = np.array(\n",
    "    [\n",
    "        [70,80,90],\n",
    "        [100,110,120]\n",
    "    ]\n",
    ")\n",
    "array6.ndim , array6.shape"
   ]
  },
  {
   "cell_type": "code",
   "execution_count": 33,
   "id": "5649aba4-b993-4454-b19c-068bd58836b6",
   "metadata": {},
   "outputs": [
    {
     "data": {
      "text/plain": [
       "array([[ 80, 100, 120],\n",
       "       [140, 160, 180]])"
      ]
     },
     "execution_count": 33,
     "metadata": {},
     "output_type": "execute_result"
    }
   ],
   "source": [
    "result3 = array5 + array6\n",
    "result3"
   ]
  },
  {
   "cell_type": "markdown",
   "id": "4a01df07-aee3-43d4-b59a-61323ef8f645",
   "metadata": {},
   "source": [
    "## Dot Product (İç Çarpım)"
   ]
  },
  {
   "cell_type": "code",
   "execution_count": 41,
   "id": "8f2b41bd-48ce-45dd-b926-f0d3821bd07f",
   "metadata": {},
   "outputs": [
    {
     "data": {
      "text/plain": [
       "(2, 3)"
      ]
     },
     "execution_count": 41,
     "metadata": {},
     "output_type": "execute_result"
    }
   ],
   "source": [
    "array7 = np.array(\n",
    "    [\n",
    "        [10,20,30],\n",
    "        [40,50,60]\n",
    "    ]\n",
    ")\n",
    "array7.shape #Boyut 2x3"
   ]
  },
  {
   "cell_type": "code",
   "execution_count": 40,
   "id": "6dca03dd-25f0-4f54-bed1-0e8e822ed19a",
   "metadata": {},
   "outputs": [
    {
     "data": {
      "text/plain": [
       "(3, 2)"
      ]
     },
     "execution_count": 40,
     "metadata": {},
     "output_type": "execute_result"
    }
   ],
   "source": [
    "array8 = np.array(\n",
    "    [\n",
    "        [10,20],\n",
    "        [30,40],\n",
    "        [50,60]\n",
    "    ]\n",
    ") \n",
    "array8.shape #Boyut 3x2"
   ]
  },
  {
   "cell_type": "code",
   "execution_count": 37,
   "id": "360e9974-348f-430b-bfd3-2e85671c38c1",
   "metadata": {},
   "outputs": [
    {
     "data": {
      "text/plain": [
       "array([[2200, 2800],\n",
       "       [4900, 6400]])"
      ]
     },
     "execution_count": 37,
     "metadata": {},
     "output_type": "execute_result"
    }
   ],
   "source": [
    "np.dot( array7 , array8 )  #İç Çarpım bildiğimiz matris çarpımıdır. Matris Boyutları N x M ve M x K olmalı K = N olabilir. Sonuç N x K olur."
   ]
  },
  {
   "cell_type": "code",
   "execution_count": 47,
   "id": "511c2dac-0eb1-489d-a6de-35a5e04ea8ad",
   "metadata": {},
   "outputs": [
    {
     "data": {
      "text/plain": [
       "(3, (2, 3, 2))"
      ]
     },
     "execution_count": 47,
     "metadata": {},
     "output_type": "execute_result"
    }
   ],
   "source": [
    "array9 = np.array(\n",
    "    [\n",
    "        [ [10,20] , [30,40] , [50,60] ],\n",
    "        [ [70,80] , [90,100] , [110,120] ]\n",
    "    ]\n",
    ")\n",
    "array9.ndim , array9.shape  #3 Boyutlu olduğu için Tensor ve diğer matematiksel işlemler Tesnorler içinde geçerli"
   ]
  },
  {
   "cell_type": "code",
   "execution_count": 55,
   "id": "a66cd54d-bf04-4df9-82a7-e63282a4f05f",
   "metadata": {},
   "outputs": [
    {
     "data": {
      "text/plain": [
       "array([[173, 117,   4, ..., 221,  32, 128],\n",
       "       [ 36, 138,  78, ..., 194, 182, 166],\n",
       "       [ 15, 213, 182, ..., 186,  13, 148],\n",
       "       ...,\n",
       "       [168,  84, 234, ..., 226,  54, 132],\n",
       "       [215, 190,  16, ..., 103,   8,  81],\n",
       "       [ 90, 209, 117, ..., 176,  41,  18]],\n",
       "      shape=(1500, 1000), dtype=int32)"
      ]
     },
     "execution_count": 55,
     "metadata": {},
     "output_type": "execute_result"
    }
   ],
   "source": [
    "array10 = np.random.randint(0,255, (1500,1000))\n",
    "array10"
   ]
  },
  {
   "cell_type": "markdown",
   "id": "fcdd4e92-3211-4bde-a726-cd87c633612b",
   "metadata": {},
   "source": [
    "## Yapay Zeka sadece numeric verilerle eğitilebildiği için eldeki bütün verileri numeric verilere çevirmemiz gerekiyor."
   ]
  },
  {
   "cell_type": "code",
   "execution_count": 49,
   "id": "e7e61129-0d3b-4eb3-80d4-f3bca16c54fb",
   "metadata": {},
   "outputs": [],
   "source": [
    "from PIL import Image"
   ]
  },
  {
   "cell_type": "code",
   "execution_count": 53,
   "id": "c3c778b1-20ce-496e-9249-26c2d181f698",
   "metadata": {},
   "outputs": [],
   "source": [
    "image = Image.open(\"kedi.jpg\") #Resmi okuyup değişkene atadık"
   ]
  },
  {
   "cell_type": "code",
   "execution_count": 54,
   "id": "32470e6f-92db-45d3-933f-12b62f93df05",
   "metadata": {},
   "outputs": [
    {
     "data": {
      "text/plain": [
       "(3, (1500, 1000, 3))"
      ]
     },
     "execution_count": 54,
     "metadata": {},
     "output_type": "execute_result"
    }
   ],
   "source": [
    "image_array = np.array(image) #Resmi numpy array çevirdik.\n",
    "image_array.ndim , image_array.shape"
   ]
  },
  {
   "cell_type": "code",
   "execution_count": 52,
   "id": "e4f06fce-0e73-42c5-8011-adf8d23fa930",
   "metadata": {},
   "outputs": [
    {
     "data": {
      "text/plain": [
       "array([[[ 92,  87,  84],\n",
       "        [ 92,  87,  84],\n",
       "        [ 92,  87,  84],\n",
       "        ...,\n",
       "        [ 96, 101, 104],\n",
       "        [ 99, 104, 107],\n",
       "        [101, 106, 109]],\n",
       "\n",
       "       [[ 92,  87,  84],\n",
       "        [ 92,  87,  84],\n",
       "        [ 92,  87,  84],\n",
       "        ...,\n",
       "        [ 96, 101, 104],\n",
       "        [ 99, 104, 107],\n",
       "        [101, 106, 109]],\n",
       "\n",
       "       [[ 92,  87,  84],\n",
       "        [ 92,  87,  84],\n",
       "        [ 92,  87,  84],\n",
       "        ...,\n",
       "        [ 96, 101, 104],\n",
       "        [ 99, 104, 107],\n",
       "        [101, 106, 109]],\n",
       "\n",
       "       ...,\n",
       "\n",
       "       [[  2,   2,   4],\n",
       "        [  2,   2,   4],\n",
       "        [  2,   2,   4],\n",
       "        ...,\n",
       "        [ 35,  25,  23],\n",
       "        [ 35,  25,  23],\n",
       "        [ 35,  25,  23]],\n",
       "\n",
       "       [[  2,   2,   4],\n",
       "        [  2,   2,   4],\n",
       "        [  2,   2,   4],\n",
       "        ...,\n",
       "        [ 36,  26,  24],\n",
       "        [ 36,  26,  24],\n",
       "        [ 36,  26,  24]],\n",
       "\n",
       "       [[  3,   3,   5],\n",
       "        [  3,   3,   5],\n",
       "        [  3,   3,   5],\n",
       "        ...,\n",
       "        [ 37,  27,  25],\n",
       "        [ 37,  27,  25],\n",
       "        [ 37,  27,  25]]], shape=(1500, 1000, 3), dtype=uint8)"
      ]
     },
     "execution_count": 52,
     "metadata": {},
     "output_type": "execute_result"
    }
   ],
   "source": [
    "image_array"
   ]
  },
  {
   "cell_type": "code",
   "execution_count": null,
   "id": "c035ab7a-752c-48cc-942b-d2227f9b8cd3",
   "metadata": {},
   "outputs": [],
   "source": []
  }
 ],
 "metadata": {
  "kernelspec": {
   "display_name": "Python 3 (ipykernel)",
   "language": "python",
   "name": "python3"
  },
  "language_info": {
   "codemirror_mode": {
    "name": "ipython",
    "version": 3
   },
   "file_extension": ".py",
   "mimetype": "text/x-python",
   "name": "python",
   "nbconvert_exporter": "python",
   "pygments_lexer": "ipython3",
   "version": "3.12.9"
  }
 },
 "nbformat": 4,
 "nbformat_minor": 5
}
