{
 "cells": [
  {
   "cell_type": "markdown",
   "id": "9fa5c904-ffcf-4404-87cd-df29f2e5b786",
   "metadata": {},
   "source": [
    "# DECİSİON TREE"
   ]
  },
  {
   "cell_type": "markdown",
   "id": "3679490f-b02d-47dc-a823-c1b6d288adf8",
   "metadata": {},
   "source": [
    "## Bir dizi karar kuralıyla veri kümesini bölerek hedef değişkeni tahmin eder. Hem sınıflandırma hem de regresyonda kullanılır. <br> Hiperparametresi kaç kat olacağı ile belirlenir."
   ]
  },
  {
   "cell_type": "markdown",
   "id": "3e7dd12d-13dd-4788-8689-383c4bab863c",
   "metadata": {},
   "source": [
    "### Türleri:<br><br>-ID3 (Iterative Dichotomiser 3):Aday bölünmeleri değerlendirmek için entropi ve bilgi kazancını kullanır. <br>-C4.5: ID3 sonraki versiyonudur. Ağaçta bölme noktalarını değerlendirmek için bilgi kazancı ve kazanç oranlarını kullanabilir. <br>-CART (Sınıflandırma ve Regresyon Ağaçları): İdeal bölünme özelliğini belirlemek için Gini karışıklığını kullanır.Gini, rastgele seçilen bir özelliğin ne sıklıkla yanlış sınıflandırıldığını ölçer.\n"
   ]
  },
  {
   "cell_type": "markdown",
   "id": "47b15797-76a7-4d13-b85f-9d4a9a32c04b",
   "metadata": {},
   "source": [
    "### ID3: <br><hr>Bilgi Kazancı(İnformation Gain):Bir özelliğin bölünme noktasının ne kadar iyi olduğunu belirlemek için kullanılır. Özü, bir özelliğin seçilmesinin, veri kümesinin ne kadar iyi sınıflandırılacağına dair belirsizliği azaltıp azaltmadığını ölçmektir.Yani, bir özellik seçildiğinde, yeni oluşan alt kümelerin daha homojen olup olmadığını değerlendirir.Bilgi kazancı ne kadar yüksekse, bir özellik o kadar iyi bir bölünme kriteri olarak kabul edilir. Kısacası bilgi kazancı yüksek olan feature root note olur ve alta doğru dallanır. <br>Entropy: Karar ağaçları içinde entropy, belirli bir düğümdeki veri noktalarının sınıflrının ne kadar karışık olduğunu ölçen bir metriktir.Daha düşük entropi, homojen veri sınıflarına sahiptir.Daha yüksek entropi, heterojen veri sınıflarına sahiptir. Karmaşıklık artarsa entropi artar. Bilgi kazancının yüksek olması için entropinin düşük olması lazım.1-MaxEntropi, 0-MinEntropi\n"
   ]
  },
  {
   "cell_type": "markdown",
   "id": "c88fb5b7-167d-460d-89e8-159c72c3552e",
   "metadata": {},
   "source": [
    "### CART:<br><hr>Gini Impurity: Gini belirsizliği, bir başka karar ağacı algoritması olan CART tarafından kullanılan bir ölçümdür.Bir düğümdeki veri noktalarının farklı sınıflara dağılımının ne kadar karışık olduğunu ölçer.Gini karışıklığı, 0 - 0.5 arasında değer alır. 0=>Tüm veriler aynı sınıf, 0.5=>En karışık durumdur."
   ]
  },
  {
   "cell_type": "markdown",
   "id": "cde68294-d2da-47c8-a5d8-eec41b1ebe9b",
   "metadata": {},
   "source": [
    "### Karar Ağaçları Hiperparametleri: <br>-max_depth: Ağacın max düğüm sayısını belirler. Fazla derinlik ezberleme sebep olabilir.<br>-min_samples_split: Minimum Bölme Boyutu.Bir düğümün bölünmesi için gereken min veri noktası sayısını belirler.Düşük olursa ezberleme olabilir.<br>-min_samples_leaf: Bir düğümde bulunması gereken min veri noktası sayısını belirler.<br>-max_features: Bir düğümde değerlendirilecek maks özellik sayısını belirler.<br>-criterion: Bölünme kriterleridir:Gini-Entropi <br> <br> Hiperparametrelerin ayarlanması için Kapsamlı Arama ve Çapraz Doğrulama gibi yöntemler kullanılmaktadır."
   ]
  },
  {
   "cell_type": "markdown",
   "id": "75fc2fba-991d-4549-baad-e0b2507c26dc",
   "metadata": {},
   "source": [
    "### Uygulama Alanları: <br><br>-Sınıflandırma Problemleri:Hasta teşhisi,Spam filtre<br>-Regresyon Problemleri:Ev fiyat tahmini<br>-Pazarlama ve Satış Analizi<br>-Risk Değerlendirilmesi:Kredi değerlendirmesi<br>-Sağlık ve Tıp<br>-Endüstriyel Üretim ve Kalite Kontrol"
   ]
  },
  {
   "cell_type": "markdown",
   "id": "62dd3580-0c62-4ce0-8c86-a1b4417ff8cd",
   "metadata": {},
   "source": [
    "# RANDOM FOREST"
   ]
  },
  {
   "cell_type": "markdown",
   "id": "b0e16c17-47c3-44e5-a590-bb5503c984f4",
   "metadata": {},
   "source": [
    "## Random Forest: Birden çok karar ağacının bir araya gelerek bir orman oluşturduğu bir topluluk öğrenme (ansemble learning) yöntemidir."
   ]
  },
  {
   "cell_type": "markdown",
   "id": "fd75a744-396a-464e-8691-5ea39e3b38be",
   "metadata": {},
   "source": [
    "## Her karar ağacı, farklı bir alt örneklem ve alt özellikler kullanılarak eğitilir."
   ]
  },
  {
   "cell_type": "markdown",
   "id": "2de3dc22-f17d-4f77-b2eb-2c285bd16b7b",
   "metadata": {},
   "source": [
    "### Random Forest Türleri: <br><br>-Sınıflandırma<br>-Regresyon"
   ]
  },
  {
   "cell_type": "markdown",
   "id": "84f45d03-2470-4aff-a994-d4a828088fc9",
   "metadata": {},
   "source": [
    "### Algoritma; veri seti belirlenir, eldeki veri setini rastgele bölümlemek, ağaçlar birleştirilip topluluk oluşturulur, topluluklar toplanıp karar verilir."
   ]
  },
  {
   "cell_type": "markdown",
   "id": "de1a7329-f481-4f0b-981b-5594c1b4011c",
   "metadata": {},
   "source": [
    "### Random Forest Hiperparametleri: <br><br>-n_estimators: Ağaç sayısı<br>-max_features: Özellik sayısı<br>-max_depth: Ağaç derinliği<br>-bootstrap: Örnekleme oranı"
   ]
  },
  {
   "cell_type": "markdown",
   "id": "4c30284f-f908-4872-b47b-e35d1a23ce91",
   "metadata": {},
   "source": [
    "### Uygulama Alanları:<br><br>-Sınıflandırma: Hastalık teşhisi<br>-Regresyon: Kredi tahmini"
   ]
  },
  {
   "cell_type": "code",
   "execution_count": null,
   "id": "0685e4c5-9de4-4df0-ac9f-2f00a5143658",
   "metadata": {},
   "outputs": [],
   "source": []
  }
 ],
 "metadata": {
  "kernelspec": {
   "display_name": "Python 3 (ipykernel)",
   "language": "python",
   "name": "python3"
  },
  "language_info": {
   "codemirror_mode": {
    "name": "ipython",
    "version": 3
   },
   "file_extension": ".py",
   "mimetype": "text/x-python",
   "name": "python",
   "nbconvert_exporter": "python",
   "pygments_lexer": "ipython3",
   "version": "3.12.9"
  }
 },
 "nbformat": 4,
 "nbformat_minor": 5
}
